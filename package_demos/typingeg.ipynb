{
 "cells": [
  {
   "cell_type": "markdown",
   "id": "d86c8d23",
   "metadata": {},
   "source": [
    "# typing.Annotated\n",
    "Annotated is a special form in Python's typing module that allows you to attach metadata to type hints without affecting the actual type checking.  \n",
    "Syntax -  \n",
    "```\n",
    "Annotated[Type, metadata1, metadata2,...]\n",
    "```\n",
    "\n",
    "Eg:\n",
    "```\n",
    "from typing import Annotated \n",
    "from typing_extensions import TypedDict \n",
    "from operator import add \n",
    "\n",
    "class State(TypedDict): \n",
    "    foo: int \n",
    "    bar: Annotated[list[str], add]\n",
    "```"
   ]
  },
  {
   "cell_type": "markdown",
   "id": "5e707c4d",
   "metadata": {},
   "source": [
    "#### Basic example"
   ]
  },
  {
   "cell_type": "code",
   "execution_count": null,
   "id": "5996b302",
   "metadata": {},
   "outputs": [
    {
     "data": {
      "text/plain": [
       "'Temperature is -220'"
      ]
     },
     "execution_count": 2,
     "metadata": {},
     "output_type": "execute_result"
    }
   ],
   "source": [
    "from typing import Annotated\n",
    "\n",
    "# Basic usage - adding documentation\n",
    "UserId = Annotated[int, \"Unique identifier for a user\"]\n",
    "UserName = Annotated[str, \"Username must be 3-20 characters\"]\n",
    "\n",
    "# Multiple metadata items\n",
    "Temperature = Annotated[float, \"Temperature in Celsius\", {\"min\": -273.15, \"max\": 1000}]\n",
    "\n",
    "# Using with functions\n",
    "def print_temp(temp: Temperature):\n",
    "    return f\"Temperature is {temp}\"\n",
    "\n",
    "print(print_temp(1500))\n",
    "print(print_temp(-220))"
   ]
  },
  {
   "cell_type": "markdown",
   "id": "151ba9c8",
   "metadata": {},
   "source": [
    "#### Usage in LangGraph"
   ]
  },
  {
   "cell_type": "code",
   "execution_count": null,
   "id": "2a228806",
   "metadata": {},
   "outputs": [],
   "source": [
    "from typing import Annotated\n",
    "from langchain_core.messages import AnyMessage\n",
    "from langgraph.graph.message import add_messages\n",
    "\n",
    "class MessagesState(TypedDict):\n",
    "    messages: Annotated[list[AnyMessage], add_messages]"
   ]
  },
  {
   "cell_type": "markdown",
   "id": "de359d4b",
   "metadata": {},
   "source": [
    "#### Practical example"
   ]
  },
  {
   "cell_type": "code",
   "execution_count": null,
   "id": "c3013d5e",
   "metadata": {},
   "outputs": [],
   "source": [
    "from typing import Annotated\n",
    "\n",
    "# Validation metadata\n",
    "Email = Annotated[str, \"Must be valid email format\"]\n",
    "Age = Annotated[int, {min : 0, \"max\": 150}]\n",
    "\n",
    "# Database field metadata\n",
    "class User:\n",
    "    id: Annotated[int, {\"primary_key\": True, \"auto_increment\": True}]\n",
    "    name: Annotated[str, {\"max_length\": 100, \"nullable\": False}]\n",
    "    email: Annotated[str, {\"unique\": True, \"index\": True}]\n",
    "\n",
    "# API documentation metadata\n",
    "def create_user(\n",
    "    name: Annotated[str, \"User's full name\"],\n",
    "    age: Annotated[int, \"User's age in years\", {\"minimum\": 18}]\n",
    ") -> Annotated[dict, \"Created user object with ID\"]:\n",
    "    pass"
   ]
  },
  {
   "cell_type": "markdown",
   "id": "7db5d595",
   "metadata": {},
   "source": [
    "#### Accessing Metadata"
   ]
  },
  {
   "cell_type": "code",
   "execution_count": 3,
   "id": "48332536",
   "metadata": {},
   "outputs": [
    {
     "name": "stdout",
     "output_type": "stream",
     "text": [
      "<class 'typing.Annotated'>\n",
      "(<class 'int'>, 'Game score', {'min': 0, 'max': 100})\n"
     ]
    }
   ],
   "source": [
    "from typing import Annotated, get_args, get_origin\n",
    "\n",
    "# Define an annotated type\n",
    "Score = Annotated[int, \"Game score\", {\"min\": 0, \"max\": 100}]\n",
    "\n",
    "# Get the origin type and metadata\n",
    "print(get_origin(Score))  # <class 'int'>\n",
    "print(get_args(Score))    # (int, 'Game score', {'min': 0, 'max': 100})\n",
    "\n",
    "# The actual type is the first argument\n",
    "actual_type = get_args(Score)[0]  # int\n",
    "metadata = get_args(Score)[1:]    # ('Game score', {'min': 0, 'max': 100})"
   ]
  }
 ],
 "metadata": {
  "kernelspec": {
   "display_name": ".venv",
   "language": "python",
   "name": "python3"
  },
  "language_info": {
   "codemirror_mode": {
    "name": "ipython",
    "version": 3
   },
   "file_extension": ".py",
   "mimetype": "text/x-python",
   "name": "python",
   "nbconvert_exporter": "python",
   "pygments_lexer": "ipython3",
   "version": "3.12.7"
  }
 },
 "nbformat": 4,
 "nbformat_minor": 5
}
