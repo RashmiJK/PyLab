{
 "cells": [
  {
   "cell_type": "markdown",
   "id": "72b115f5",
   "metadata": {},
   "source": [
    "## `defaultdict` from `collections` module\n",
    "\n",
    "`collections` is a standard library module that comes with Python, but needs import.\n",
    "\n",
    "A `defaultdict` automatically creates missing values when a key is accessed that doesn't exist, instead of raising a KeyError.  \n",
    "\n",
    "Specify a \"default factory\" function that gets called to create the default value"
   ]
  },
  {
   "cell_type": "code",
   "execution_count": null,
   "id": "1c482138",
   "metadata": {},
   "outputs": [
    {
     "data": {
      "text/plain": [
       "'not found'"
      ]
     },
     "execution_count": 3,
     "metadata": {},
     "output_type": "execute_result"
    }
   ],
   "source": [
    "mydict = {\n",
    "    'key1': 'value1',\n",
    "    'key2': 'value2',\n",
    "}\n",
    "\n",
    "# mydict.pop('key3') # KeyError\n",
    "mydict.get('key3', \"not found\") # can avoid keyerror"
   ]
  },
  {
   "cell_type": "code",
   "execution_count": 5,
   "id": "af24272c",
   "metadata": {},
   "outputs": [
    {
     "data": {
      "text/plain": [
       "''"
      ]
     },
     "execution_count": 5,
     "metadata": {},
     "output_type": "execute_result"
    }
   ],
   "source": [
    "from collections import defaultdict\n",
    "\n",
    "my_defaultdict = defaultdict(str)\n",
    "my_defaultdict['key1'] = 'value1',\n",
    "my_defaultdict['key2'] = 'value2'\n",
    "\n",
    "my_defaultdict['key3']"
   ]
  },
  {
   "cell_type": "code",
   "execution_count": 6,
   "id": "822d8027",
   "metadata": {},
   "outputs": [
    {
     "data": {
      "text/plain": [
       "defaultdict(str, {'key1': ('value1',), 'key2': 'value2', 'key3': ''})"
      ]
     },
     "execution_count": 6,
     "metadata": {},
     "output_type": "execute_result"
    }
   ],
   "source": [
    "my_defaultdict"
   ]
  },
  {
   "cell_type": "code",
   "execution_count": 7,
   "id": "f1f86e6c",
   "metadata": {},
   "outputs": [
    {
     "name": "stdout",
     "output_type": "stream",
     "text": [
      "defaultdict(<class 'int'>, {'apple': 3, 'banana': 2, 'cherry': 1})\n"
     ]
    }
   ],
   "source": [
    "# counting items\n",
    "\n",
    "from collections import defaultdict\n",
    "\n",
    "counts = defaultdict(int)\n",
    "words = ['apple', 'banana', 'apple', 'cherry', 'banana', 'apple']\n",
    "\n",
    "for word in words:\n",
    "    counts[word] += 1 # no need to check if key exists\n",
    "\n",
    "print(counts)"
   ]
  },
  {
   "cell_type": "code",
   "execution_count": 8,
   "id": "a0b54aca",
   "metadata": {},
   "outputs": [
    {
     "name": "stdout",
     "output_type": "stream",
     "text": [
      "defaultdict(<class 'list'>, {'fruit': ['apple', 'banana'], 'vegetable': ['carrot']})\n"
     ]
    }
   ],
   "source": [
    "# Grouping items\n",
    "from collections import defaultdict\n",
    "\n",
    "groups = defaultdict(list)\n",
    "data = [('fruit', 'apple'), ('vegetable', 'carrot'), ('fruit', 'banana')]\n",
    "\n",
    "for category, item in data:\n",
    "    groups[category].append(item) # no need to initialize emptry lists\n",
    "\n",
    "print(groups)"
   ]
  },
  {
   "cell_type": "code",
   "execution_count": null,
   "id": "2bd873d7",
   "metadata": {},
   "outputs": [],
   "source": [
    "# default to emptry string\n",
    "from collections import defaultdict\n",
    "\n",
    "dd_str = defaultdict(str)"
   ]
  },
  {
   "cell_type": "code",
   "execution_count": null,
   "id": "f2959419",
   "metadata": {},
   "outputs": [],
   "source": [
    "# Default to empty set\n",
    "\n",
    "dd_set = defaultdict(set)"
   ]
  },
  {
   "cell_type": "code",
   "execution_count": 10,
   "id": "75ada242",
   "metadata": {},
   "outputs": [
    {
     "name": "stdout",
     "output_type": "stream",
     "text": [
      "not found\n",
      "defaultdict(<function <lambda> at 0x1070ce200>, {'fruit': 'not found'})\n"
     ]
    }
   ],
   "source": [
    "# Custom default using lambda\n",
    "from collections import defaultdict\n",
    "\n",
    "dd_custom = defaultdict(lambda : \"not found\")\n",
    "\n",
    "print(dd_custom['fruit'])\n",
    "print(dd_custom)"
   ]
  }
 ],
 "metadata": {
  "kernelspec": {
   "display_name": ".venv",
   "language": "python",
   "name": "python3"
  },
  "language_info": {
   "codemirror_mode": {
    "name": "ipython",
    "version": 3
   },
   "file_extension": ".py",
   "mimetype": "text/x-python",
   "name": "python",
   "nbconvert_exporter": "python",
   "pygments_lexer": "ipython3",
   "version": "3.12.7"
  }
 },
 "nbformat": 4,
 "nbformat_minor": 5
}
