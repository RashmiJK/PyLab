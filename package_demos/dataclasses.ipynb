{
 "cells": [
  {
   "cell_type": "markdown",
   "id": "62cd49f8",
   "metadata": {},
   "source": [
    "# dataclasses "
   ]
  },
  {
   "cell_type": "markdown",
   "id": "338aed50",
   "metadata": {},
   "source": [
    "### Behavior without using dataclass decorator"
   ]
  },
  {
   "cell_type": "code",
   "execution_count": 32,
   "id": "d8922d33",
   "metadata": {},
   "outputs": [
    {
     "data": {
      "text/plain": [
       "False"
      ]
     },
     "execution_count": 32,
     "metadata": {},
     "output_type": "execute_result"
    }
   ],
   "source": [
    "class ExNormal:\n",
    "    def __init__(self, name, reps):\n",
    "        self.name = name\n",
    "        self.reps = reps\n",
    "\n",
    "exn1 = ExNormal(\"Push-up\", 15)\n",
    "exn2 = ExNormal(\"Push-up\", 15)\n",
    "exn1 == exn2"
   ]
  },
  {
   "cell_type": "code",
   "execution_count": 33,
   "id": "08267c95",
   "metadata": {},
   "outputs": [
    {
     "data": {
      "text/plain": [
       "<__main__.ExNormal at 0x107c595e0>"
      ]
     },
     "execution_count": 33,
     "metadata": {},
     "output_type": "execute_result"
    }
   ],
   "source": [
    "exn1"
   ]
  },
  {
   "cell_type": "code",
   "execution_count": 37,
   "id": "9036f0ec",
   "metadata": {},
   "outputs": [
    {
     "data": {
      "text/plain": [
       "'<__main__.ExNormal object at 0x107c595e0>'"
      ]
     },
     "execution_count": 37,
     "metadata": {},
     "output_type": "execute_result"
    }
   ],
   "source": [
    "repr(exn1)"
   ]
  },
  {
   "cell_type": "markdown",
   "id": "0646eb1a",
   "metadata": {},
   "source": [
    "### Add @dataclass and checks"
   ]
  },
  {
   "cell_type": "code",
   "execution_count": 35,
   "id": "8fb18173",
   "metadata": {},
   "outputs": [
    {
     "data": {
      "text/plain": [
       "True"
      ]
     },
     "execution_count": 35,
     "metadata": {},
     "output_type": "execute_result"
    }
   ],
   "source": [
    "from dataclasses import dataclass\n",
    "\n",
    "@dataclass\n",
    "class ExDC:\n",
    "    name: str\n",
    "    reps: int\n",
    "\n",
    "exdc1 = ExDC(\"Push-up\", 15)\n",
    "exdc2 = ExDC(\"Push-up\", 15)\n",
    "exdc1 == exdc2"
   ]
  },
  {
   "cell_type": "code",
   "execution_count": 36,
   "id": "bbbe2ea9",
   "metadata": {},
   "outputs": [
    {
     "data": {
      "text/plain": [
       "ExDC(name='Push-up', reps=15)"
      ]
     },
     "execution_count": 36,
     "metadata": {},
     "output_type": "execute_result"
    }
   ],
   "source": [
    "exdc1"
   ]
  },
  {
   "cell_type": "code",
   "execution_count": 38,
   "id": "0d965383",
   "metadata": {},
   "outputs": [
    {
     "data": {
      "text/plain": [
       "\"ExDC(name='Push-up', reps=15)\""
      ]
     },
     "execution_count": 38,
     "metadata": {},
     "output_type": "execute_result"
    }
   ],
   "source": [
    "repr(exdc1)"
   ]
  },
  {
   "cell_type": "code",
   "execution_count": 40,
   "id": "e8b1d666",
   "metadata": {},
   "outputs": [
    {
     "data": {
      "text/plain": [
       "ExDC(name='Run', reps='five km')"
      ]
     },
     "execution_count": 40,
     "metadata": {},
     "output_type": "execute_result"
    }
   ],
   "source": [
    "exdc3 = ExDC(\"Run\", \"five km\")\n",
    "exdc3"
   ]
  },
  {
   "cell_type": "code",
   "execution_count": 44,
   "id": "2446a775",
   "metadata": {},
   "outputs": [],
   "source": [
    "from dataclasses import field\n",
    "\n",
    "\n",
    "@dataclass\n",
    "class Exercise:\n",
    "   name: str = field(default=\"Push-up\") # type annotated and have a default\n",
    "   reps: int = field(default=10) # type annotated and have a default\n",
    "   sets: int = field(default=3) # type annotated and have a default\n",
    "   weight: float = field(default=0) # type annotated and have a default\n",
    "\n",
    "\n",
    "# Create instance without any arguments\n",
    "ex1 = Exercise()\n",
    "\n",
    "# Types are not enforced, but we can use type annotations. \n",
    "# Static type checkers like Mypy will flag it, but Python itself won't.\n",
    "ex5 = Exercise(name='Push-up', reps=\"ten\", sets=\"three\", weight=0)"
   ]
  }
 ],
 "metadata": {
  "kernelspec": {
   "display_name": ".venv",
   "language": "python",
   "name": "python3"
  },
  "language_info": {
   "codemirror_mode": {
    "name": "ipython",
    "version": 3
   },
   "file_extension": ".py",
   "mimetype": "text/x-python",
   "name": "python",
   "nbconvert_exporter": "python",
   "pygments_lexer": "ipython3",
   "version": "3.12.7"
  }
 },
 "nbformat": 4,
 "nbformat_minor": 5
}
