{
 "cells": [
  {
   "cell_type": "markdown",
   "id": "d1c37547",
   "metadata": {},
   "source": [
    "## Data validation and settings management using Pydantic. Type annotations."
   ]
  },
  {
   "cell_type": "code",
   "execution_count": null,
   "id": "87223531",
   "metadata": {},
   "outputs": [],
   "source": [
    "%pip install pydantic"
   ]
  },
  {
   "cell_type": "markdown",
   "id": "8863fd05",
   "metadata": {},
   "source": [
    "### Runtime enforcement in action"
   ]
  },
  {
   "cell_type": "code",
   "execution_count": null,
   "id": "f8550e60",
   "metadata": {},
   "outputs": [],
   "source": [
    "# without pydantic\n",
    "\n",
    "class UserWithOnlyTypeHints:\n",
    "    def __init__(self, id: int, name: str):\n",
    "        self.id: int = id\n",
    "        self.name: str = name\n",
    "\n",
    "uw1 = UserWithOnlyTypeHints(1, \"alice\")\n",
    "uw2 = UserWithOnlyTypeHints(2, 22) # when uw2.name is accessed, it will raise an error\n"
   ]
  },
  {
   "cell_type": "code",
   "execution_count": null,
   "id": "de51d286",
   "metadata": {},
   "outputs": [
    {
     "name": "stdout",
     "output_type": "stream",
     "text": [
      "id=123 name='Alice'\n"
     ]
    }
   ],
   "source": [
    "# Let's use Pydantic to enforce types\n",
    "\n",
    "from pydantic import BaseModel\n",
    "\n",
    "class User(BaseModel):\n",
    "    id: int\n",
    "    name: str\n",
    "\n",
    "# valid input\n",
    "user1 = User(id = 123, name = \"Alice\")\n",
    "print(user1)\n",
    "\n",
    "# invalid input: 'id' should be an int\n",
    "# user2 = User(id = \"hundred\", name = \"bob\") # throws \"ValidationError\" much early in the development process"
   ]
  },
  {
   "cell_type": "code",
   "execution_count": 20,
   "id": "0ca3041f",
   "metadata": {},
   "outputs": [
    {
     "ename": "ValidationError",
     "evalue": "2 validation errors for Product\nprice\n  Input should be a valid number, unable to parse string as a number [type=float_parsing, input_value='cheap', input_type=str]\n    For further information visit https://errors.pydantic.dev/2.11/v/float_parsing\nquantity\n  Input should be a valid integer, unable to parse string as an integer [type=int_parsing, input_value='many', input_type=str]\n    For further information visit https://errors.pydantic.dev/2.11/v/int_parsing",
     "output_type": "error",
     "traceback": [
      "\u001b[31m---------------------------------------------------------------------------\u001b[39m",
      "\u001b[31mValidationError\u001b[39m                           Traceback (most recent call last)",
      "\u001b[36mCell\u001b[39m\u001b[36m \u001b[39m\u001b[32mIn[20]\u001b[39m\u001b[32m, line 12\u001b[39m\n\u001b[32m     10\u001b[39m \u001b[38;5;66;03m# valid input\u001b[39;00m\n\u001b[32m     11\u001b[39m item = Product(name=\u001b[33m\"\u001b[39m\u001b[33mApple\u001b[39m\u001b[33m\"\u001b[39m, price=\u001b[32m1.99\u001b[39m, quantity=\u001b[32m10\u001b[39m)\n\u001b[32m---> \u001b[39m\u001b[32m12\u001b[39m invalid_item = \u001b[43mProduct\u001b[49m\u001b[43m(\u001b[49m\u001b[43mname\u001b[49m\u001b[43m=\u001b[49m\u001b[33;43m\"\u001b[39;49m\u001b[33;43mBanana\u001b[39;49m\u001b[33;43m\"\u001b[39;49m\u001b[43m,\u001b[49m\u001b[43m \u001b[49m\u001b[43mprice\u001b[49m\u001b[43m=\u001b[49m\u001b[33;43m\"\u001b[39;49m\u001b[33;43mcheap\u001b[39;49m\u001b[33;43m\"\u001b[39;49m\u001b[43m,\u001b[49m\u001b[43m \u001b[49m\u001b[43mquantity\u001b[49m\u001b[43m=\u001b[49m\u001b[33;43m\"\u001b[39;49m\u001b[33;43mmany\u001b[39;49m\u001b[33;43m\"\u001b[39;49m\u001b[43m)\u001b[49m\n",
      "\u001b[36mFile \u001b[39m\u001b[32m~/Learn/Repos/MyRepos/PyLab/.venv/lib/python3.12/site-packages/pydantic/main.py:253\u001b[39m, in \u001b[36mBaseModel.__init__\u001b[39m\u001b[34m(self, **data)\u001b[39m\n\u001b[32m    251\u001b[39m \u001b[38;5;66;03m# `__tracebackhide__` tells pytest and some other tools to omit this function from tracebacks\u001b[39;00m\n\u001b[32m    252\u001b[39m __tracebackhide__ = \u001b[38;5;28;01mTrue\u001b[39;00m\n\u001b[32m--> \u001b[39m\u001b[32m253\u001b[39m validated_self = \u001b[38;5;28;43mself\u001b[39;49m\u001b[43m.\u001b[49m\u001b[43m__pydantic_validator__\u001b[49m\u001b[43m.\u001b[49m\u001b[43mvalidate_python\u001b[49m\u001b[43m(\u001b[49m\u001b[43mdata\u001b[49m\u001b[43m,\u001b[49m\u001b[43m \u001b[49m\u001b[43mself_instance\u001b[49m\u001b[43m=\u001b[49m\u001b[38;5;28;43mself\u001b[39;49m\u001b[43m)\u001b[49m\n\u001b[32m    254\u001b[39m \u001b[38;5;28;01mif\u001b[39;00m \u001b[38;5;28mself\u001b[39m \u001b[38;5;129;01mis\u001b[39;00m \u001b[38;5;129;01mnot\u001b[39;00m validated_self:\n\u001b[32m    255\u001b[39m     warnings.warn(\n\u001b[32m    256\u001b[39m         \u001b[33m'\u001b[39m\u001b[33mA custom validator is returning a value other than `self`.\u001b[39m\u001b[38;5;130;01m\\n\u001b[39;00m\u001b[33m'\u001b[39m\n\u001b[32m    257\u001b[39m         \u001b[33m\"\u001b[39m\u001b[33mReturning anything other than `self` from a top level model validator isn\u001b[39m\u001b[33m'\u001b[39m\u001b[33mt supported when validating via `__init__`.\u001b[39m\u001b[38;5;130;01m\\n\u001b[39;00m\u001b[33m\"\u001b[39m\n\u001b[32m    258\u001b[39m         \u001b[33m'\u001b[39m\u001b[33mSee the `model_validator` docs (https://docs.pydantic.dev/latest/concepts/validators/#model-validators) for more details.\u001b[39m\u001b[33m'\u001b[39m,\n\u001b[32m    259\u001b[39m         stacklevel=\u001b[32m2\u001b[39m,\n\u001b[32m    260\u001b[39m     )\n",
      "\u001b[31mValidationError\u001b[39m: 2 validation errors for Product\nprice\n  Input should be a valid number, unable to parse string as a number [type=float_parsing, input_value='cheap', input_type=str]\n    For further information visit https://errors.pydantic.dev/2.11/v/float_parsing\nquantity\n  Input should be a valid integer, unable to parse string as an integer [type=int_parsing, input_value='many', input_type=str]\n    For further information visit https://errors.pydantic.dev/2.11/v/int_parsing"
     ]
    }
   ],
   "source": [
    "# Another example of runtime validation\n",
    "\n",
    "from pydantic import BaseModel\n",
    "\n",
    "class Product(BaseModel):\n",
    "    name: str\n",
    "    price: float\n",
    "    quantity: int\n",
    "\n",
    "# valid input\n",
    "item = Product(name=\"Apple\", price=1.99, quantity=10)\n",
    "invalid_item = Product(name=\"Banana\", price=\"cheap\", quantity=\"many\")\n"
   ]
  },
  {
   "cell_type": "markdown",
   "id": "13722fac",
   "metadata": {},
   "source": [
    "### Basic use case"
   ]
  },
  {
   "cell_type": "code",
   "execution_count": 1,
   "id": "7863214e",
   "metadata": {},
   "outputs": [
    {
     "name": "stdout",
     "output_type": "stream",
     "text": [
      "name='Alice' age=30\n"
     ]
    }
   ],
   "source": [
    "from pydantic import BaseModel, ConfigDict\n",
    "\n",
    "class User(BaseModel):\n",
    "    model_config = ConfigDict(strict=True)\n",
    "    name: str\n",
    "    age: int\n",
    "\n",
    "#user = User(name=\"Alice\", age=\"30\")\n",
    "# pydantic.error_wrappers.ValidationError\n",
    "# age\n",
    "\n",
    "user = User(name=\"Alice\", age=30)\n",
    "print(user)"
   ]
  },
  {
   "cell_type": "markdown",
   "id": "06c6bd16",
   "metadata": {},
   "source": [
    "### Beyond \"str\" and \"int\"\n",
    "Pydantic supports below field types\n",
    "1. Primitive types: str, int, float, bool\n",
    "2. Collection types: list, tuple, set, dict\n",
    "3. Optional types: Optional from the typing module for fields that can be None\n",
    "4. Fields are required by default unless explicitly marked as Optional.\n",
    "5. Missing required fields will raise ValidationError."
   ]
  },
  {
   "cell_type": "code",
   "execution_count": 23,
   "id": "b6dcf3a2",
   "metadata": {},
   "outputs": [],
   "source": [
    "from typing import List, Dict, Optional, Union\n",
    "from pydantic import BaseModel\n",
    "\n",
    "class User(BaseModel):\n",
    "    name: str\n",
    "    age: Optional[int] = None\n",
    "    tags: List[str]\n",
    "    metadata: Dict[str, Union[str, int, float]]\n",
    "\n",
    "user1 = User(\n",
    "    name=\"Alice\",\n",
    "#    age=30,\n",
    "    tags=[\"developer\", \"python\"],\n",
    "    metadata={\"location\": \"Wonderland\", \"experience\": 5}\n",
    ")"
   ]
  },
  {
   "cell_type": "markdown",
   "id": "56a84db8",
   "metadata": {},
   "source": [
    "### Automatic Type Coercion"
   ]
  },
  {
   "cell_type": "code",
   "execution_count": 26,
   "id": "62a3b1cf",
   "metadata": {},
   "outputs": [
    {
     "name": "stdout",
     "output_type": "stream",
     "text": [
      "id=123 name='John Doe' is_active=True\n"
     ]
    }
   ],
   "source": [
    "from pydantic import BaseModel\n",
    "\n",
    "class User(BaseModel):\n",
    "    id: int\n",
    "    name: str\n",
    "    is_active: bool\n",
    "\n",
    "# Input with incorrect types, but Pydantic will coerce them\n",
    "data = User(id=\"123\", name=\"John Doe\", is_active=\"true\")\n",
    "print(data)\n"
   ]
  },
  {
   "cell_type": "markdown",
   "id": "36a7183c",
   "metadata": {},
   "source": [
    "### Undertsand mutable default values handling in pydantic"
   ]
  },
  {
   "cell_type": "code",
   "execution_count": 47,
   "id": "f1d796b9",
   "metadata": {},
   "outputs": [
    {
     "name": "stdout",
     "output_type": "stream",
     "text": [
      "[{'a': 1}]\n",
      "[{'a': 1}]\n"
     ]
    }
   ],
   "source": [
    "# Demonstrate the behavior of mutable default values in regular Python classes (without Pydantic).\n",
    "# Here, all instances of Model share the same list object for item_counts,\n",
    "# which can lead to unexpected side effects when modifying the list in one instance.\n",
    "\n",
    "class Model():\n",
    "    item_counts: list[dict[str, int]] = [{}]\n",
    "\n",
    "\n",
    "m1 = Model()\n",
    "m2 = Model()\n",
    "\n",
    "m1.item_counts[0]['a'] = 1\n",
    "print(m1.item_counts)\n",
    "\n",
    "print(m2.item_counts)\n"
   ]
  },
  {
   "cell_type": "code",
   "execution_count": 50,
   "id": "3d7b20a3",
   "metadata": {},
   "outputs": [
    {
     "name": "stdout",
     "output_type": "stream",
     "text": [
      "[{'a': 1}]\n",
      "[{'a': 1}]\n"
     ]
    }
   ],
   "source": [
    "# All instances of Model share the same list object for item_counts\n",
    "class Model:\n",
    "    item_counts: list[dict[str, int]] = [{}]\n",
    "\n",
    "m1 = Model()\n",
    "m1.item_counts[0]['a'] = 1\n",
    "print(m1.item_counts)\n",
    "\n",
    "m2 = Model()\n",
    "print(m2.item_counts)\n"
   ]
  },
  {
   "cell_type": "code",
   "execution_count": null,
   "id": "2e7a1ad4",
   "metadata": {},
   "outputs": [
    {
     "name": "stdout",
     "output_type": "stream",
     "text": [
      "[{'a': 1}]\n",
      "[{}]\n"
     ]
    }
   ],
   "source": [
    "from dataclasses import dataclass, field\n",
    "\n",
    "@dataclass\n",
    "class Model():\n",
    "    # Use default_factory to ensure each instance gets its own list of dicts\n",
    "    item_counts: list[dict[str, int]] = field(default_factory=lambda: [{}])\n",
    "\n",
    "\n",
    "m1 = Model()\n",
    "m1.item_counts[0]['a'] = 1\n",
    "print(m1.item_counts)\n",
    "\n",
    "m2 = Model()\n",
    "print(m2.item_counts)"
   ]
  },
  {
   "cell_type": "code",
   "execution_count": 45,
   "id": "e3e73cdc",
   "metadata": {},
   "outputs": [
    {
     "name": "stdout",
     "output_type": "stream",
     "text": [
      "[{'a': 1}]\n",
      "[{}]\n"
     ]
    }
   ],
   "source": [
    "from dataclasses import dataclass, field\n",
    "\n",
    "@dataclass\n",
    "class Model():\n",
    "    # Use default_factory to ensure each instance gets its own list of dicts\n",
    "    item_counts: list[dict[str, int]] = field(default_factory=lambda: [{}])\n",
    "\n",
    "\n",
    "m1 = Model()\n",
    "m2 = Model()\n",
    "\n",
    "m1.item_counts[0]['a'] = 1\n",
    "print(m1.item_counts)\n",
    "print(m2.item_counts)"
   ]
  },
  {
   "cell_type": "code",
   "execution_count": null,
   "id": "1f3c695f",
   "metadata": {},
   "outputs": [
    {
     "name": "stdout",
     "output_type": "stream",
     "text": [
      "[{'a': 1}]\n",
      "[{}]\n"
     ]
    }
   ],
   "source": [
    "from pydantic import BaseModel, Field\n",
    "\n",
    "\n",
    "class Model(BaseModel):\n",
    "    item_counts: list[dict[str, int]] = Field(default_factory=lambda: [{}])\n",
    "\n",
    "m1 = Model()\n",
    "m2 = Model()\n",
    "\n",
    "m1.item_counts[0]['a'] = 1\n",
    "print(m1.item_counts)\n",
    "\n",
    "print(m2.item_counts)\n"
   ]
  },
  {
   "cell_type": "markdown",
   "id": "d413fe5b",
   "metadata": {},
   "source": [
    "### Field Constraints and Default Values \n",
    "This allows you to define validation rules and fallback values directly in your Pydantic models, ensuring data quality while providing flexibility.\n",
    "\n",
    "Use Field() to add constraints like min/max values, string lengths, and regex patters\n",
    "Specify defaults for optional fields with default= or use default_factory=for mutable defaults.\n",
    "\n",
    "default_factory is used when you need to provide a dynamic value for a field, especially useful for mutable types like lists, dictionaries, or custom objects. Unlike default, which uses a **fixed value**, default_factory calls a function to **generate the default value** each time it's needed."
   ]
  },
  {
   "cell_type": "code",
   "execution_count": 27,
   "id": "ceba8a16",
   "metadata": {},
   "outputs": [],
   "source": [
    "from pydantic import BaseModel, Field\n",
    "from typing import List\n",
    "\n",
    "class Product(BaseModel):\n",
    "    id : int = Field(gt=0, description=\"Product ID must be positive\")\n",
    "    name: str = Field(min_length=3, max_length=50)\n",
    "    price: float = Field(gt=0, lt=10000, default=9.99)\n",
    "    in_stock: bool = Field(default=True)\n",
    "    \n",
    "# instantiate\n",
    "product = Product(id=101, name=\"Widget\")"
   ]
  },
  {
   "cell_type": "code",
   "execution_count": null,
   "id": "a9c3aae3",
   "metadata": {},
   "outputs": [
    {
     "name": "stdout",
     "output_type": "stream",
     "text": [
      "order1 =  items_bad=[] items_good=[] created_at=datetime.datetime(2025, 7, 4, 13, 21, 59, 752149) \n",
      " order2 =  items_bad=[] items_good=[] created_at=datetime.datetime(2025, 7, 4, 13, 21, 59, 752418)\n",
      "order1 =  items_bad=['bad item 1'] items_good=[] created_at=datetime.datetime(2025, 7, 4, 13, 21, 59, 752149) \n",
      " order2 =  items_bad=['bad item 2'] items_good=[] created_at=datetime.datetime(2025, 7, 4, 13, 21, 59, 752418)\n"
     ]
    }
   ],
   "source": [
    "# difference between default and defualt_factory\n",
    "# Notice empty list\n",
    "\n",
    "# In Pydantic, using default=[] for a field does NOT cause all instances to share the same list.\n",
    "# Pydantic internally copies the default value for each new instance, so each model gets its own list.\n",
    "# This is different from Python dataclasses, where using a mutable default like [] would be shared across instances.\n",
    "# Therefore, both default=[] and default_factory=list are safe in Pydantic\n",
    "\n",
    "from pydantic import BaseModel, Field\n",
    "from typing import List\n",
    "from datetime import datetime\n",
    "\n",
    "class Order(BaseModel):\n",
    "    # Bad: All instances will share the same list\n",
    "    items_bad: List[str] = Field(default=[])\n",
    "\n",
    "    # Good: Each instance gets a new list\n",
    "    items_good: List[str] = Field(default_factory=list)\n",
    "\n",
    "    # Generate timestamp when order is created\n",
    "    created_at: datetime = Field(default_factory=datetime.now)\n",
    "\n",
    "order1 = Order()\n",
    "order2 = Order()\n",
    "print(\"order1 = \", order1, \"\\n\" ,\"order2 = \", order2)\n",
    "\n",
    "order1.items_bad.append(\"bad item 1\")\n",
    "order2.items_bad.append(\"bad item 2\")\n",
    "print(\"order1 = \", order1, \"\\n\" ,\"order2 = \", order2)"
   ]
  },
  {
   "cell_type": "code",
   "execution_count": null,
   "id": "a48f47a5",
   "metadata": {},
   "outputs": [],
   "source": [
    "from pydantic import BaseModel, Field\n",
    "\n",
    "class Product(BaseModel):\n",
    "    name: str = Field(..., min_length=3, max_length=50, description=\"Name of the product\")\n",
    "    price: float = Field(..., gt=0, description=\"Must be a positive number\")\n",
    "    quantity: int = Field(default=1, ge=0, description=\"Must be non-negative\")\n",
    "\n",
    "p1 = Product(name=\"Television\", price=2999.99) # ✅ valid\n",
    "p2 = Product(name=\"TV\", price=-299.99)  # This will raise a ValidationError"
   ]
  },
  {
   "cell_type": "markdown",
   "id": "2ec9f3ff",
   "metadata": {},
   "source": [
    "#### Pass the function reference without calling it\n",
    "default_factory=list\n",
    "default_factory=list()\n",
    "The factory function is called only when a value is needed, making it efficient for resource-intensive operations."
   ]
  },
  {
   "cell_type": "code",
   "execution_count": 49,
   "id": "dbe152c7",
   "metadata": {},
   "outputs": [
    {
     "name": "stdout",
     "output_type": "stream",
     "text": [
      "order_id='ORD-1357' items=[] expiry_date=datetime.datetime(2025, 8, 3, 15, 15, 8, 686694)\n"
     ]
    }
   ],
   "source": [
    "# With custom factory functions\n",
    "\n",
    "from pydantic import BaseModel, Field\n",
    "import random\n",
    "from datetime import datetime, timedelta\n",
    "\n",
    "def generate_order_id():\n",
    "    return f\"ORD-{random.randint(1000, 9999)}\"\n",
    "\n",
    "\n",
    "class New_Order(BaseModel):\n",
    "    order_id: str = Field(default_factory=generate_order_id)\n",
    "    items: List[str] = Field(default_factory=list)\n",
    "    expiry_date: datetime = Field(default_factory=lambda: datetime.now() + timedelta(days=30))\n",
    "\n",
    "order1 = New_Order()\n",
    "print(order1)"
   ]
  },
  {
   "cell_type": "markdown",
   "id": "93cebbe1",
   "metadata": {},
   "source": [
    "### Nested Models\n",
    "Nest models within each other, enabling complex data structures.  \n",
    "When defining nested models, Pydantic handles validation of the entire object tree, ensuring that data at all levels meets your specified requirements."
   ]
  },
  {
   "cell_type": "code",
   "execution_count": 32,
   "id": "d1ebb68b",
   "metadata": {},
   "outputs": [],
   "source": [
    "from pydantic import BaseModel\n",
    "from typing import List\n",
    "\n",
    "class Address(BaseModel):\n",
    "    city: str\n",
    "    country: str\n",
    "\n",
    "# Parent model with nested Address\n",
    "class Person(BaseModel):\n",
    "    name: str\n",
    "    addresses: List[Address]\n",
    "\n",
    "# Example usage\n",
    "person = Person(\n",
    "    name=\"Alice\",\n",
    "    addresses=[\n",
    "        Address(city=\"Wonderland\", country=\"Fantasyland\"),\n",
    "        Address(city=\"Springfield\", country=\"USA\")\n",
    "    ]   \n",
    ")"
   ]
  },
  {
   "cell_type": "code",
   "execution_count": null,
   "id": "79aac636",
   "metadata": {},
   "outputs": [
    {
     "name": "stdout",
     "output_type": "stream",
     "text": [
      "P001\n"
     ]
    }
   ],
   "source": [
    "from pydantic import BaseModel\n",
    "from typing import List\n",
    "\n",
    "class OrderItem(BaseModel):\n",
    "    product_id: str\n",
    "    quantity: int\n",
    "\n",
    "class Order(BaseModel):\n",
    "    order_id: str\n",
    "    items: List[OrderItem]\n",
    "\n",
    "# Pydantic recursively parses each dictionary in the items list into an instance of OrderItem.\n",
    "order = Order(\n",
    "    order_id=\"ORD123\",\n",
    "    items=[\n",
    "        {\"product_id\": \"P001\", \"quantity\": 2},\n",
    "        {\"product_id\": \"P002\", \"quantity\": 1}\n",
    "    ]\n",
    ")\n",
    "\n",
    "print(order.items[0].product_id)\n"
   ]
  },
  {
   "cell_type": "markdown",
   "id": "92062333",
   "metadata": {},
   "source": [
    "### Built-in support for parsing from JSON, Dicts, etc"
   ]
  },
  {
   "cell_type": "code",
   "execution_count": null,
   "id": "f6c0a507",
   "metadata": {},
   "outputs": [],
   "source": []
  },
  {
   "cell_type": "markdown",
   "id": "0dc0f338",
   "metadata": {},
   "source": [
    "### Custom validators\n",
    "\n",
    "Custom validators enable complex validation logic beyond simple type checking, allowing for data transformation, cross-field validation, and business rule enforcement\n",
    "\n",
    "* Validators can both validate and tranform input data\n",
    "* Validation errors provide specific feedback about what went wrong\n",
    "* Validators are executed in a predictable order during model creation"
   ]
  },
  {
   "cell_type": "code",
   "execution_count": 39,
   "id": "9ceabd31",
   "metadata": {},
   "outputs": [
    {
     "name": "stdout",
     "output_type": "stream",
     "text": [
      "name='Mug' price=0.9\n"
     ]
    }
   ],
   "source": [
    "from pydantic import BaseModel, field_validator\n",
    "\n",
    "class Product(BaseModel):\n",
    "    name: str\n",
    "    price: float\n",
    "\n",
    "    @field_validator('price')\n",
    "    def price_must_be_positive(cls, value):\n",
    "        if value < 0:\n",
    "            raise ValueError('Price should be positive')\n",
    "        return value * 0.9 # data tranformation\n",
    "    \n",
    "# create a product with validation\n",
    "product = Product(name=\"Mug\", price=1)\n",
    "\n",
    "print(product)"
   ]
  },
  {
   "cell_type": "code",
   "execution_count": null,
   "id": "b87d1fac",
   "metadata": {},
   "outputs": [],
   "source": [
    "from pydantic import BaseModel, field_validator\n",
    "import re\n",
    "\n",
    "class User(BaseModel):\n",
    "    username: str\n",
    "\n",
    "    @field_validator('username')\n",
    "    @classmethod\n",
    "    def validate_username(cls, value):\n",
    "        if not re.match(r'^[a-zA-Z0-9_]{3,20}$', value):\n",
    "            raise ValueError(\"Username must be 3-20 characters long and can only contain letters, numbers, and underscores.\")\n",
    "        return value\n",
    "    \n",
    "# valid\n",
    "user = User(username=\"valid_user123\")\n",
    "\n",
    "# Invalid (raises ValidationError)\n",
    "user = User(username=\"invalid user!\")"
   ]
  },
  {
   "cell_type": "code",
   "execution_count": null,
   "id": "a8292192",
   "metadata": {},
   "outputs": [
    {
     "data": {
      "text/plain": [
       "Booking(start_date=datetime.date(2025, 7, 1), end_date=datetime.date(2025, 7, 10))"
      ]
     },
     "execution_count": 59,
     "metadata": {},
     "output_type": "execute_result"
    }
   ],
   "source": [
    "from pydantic import BaseModel, model_validator\n",
    "from datetime import date\n",
    "\n",
    "class Booking(BaseModel):\n",
    "    start_date: date\n",
    "    end_date: date\n",
    "\n",
    "    @model_validator(mode='after')\n",
    "    def check_dates(self):\n",
    "        if self.start_date >= self.end_date:\n",
    "            raise ValueError(\"start_date must be before end_date\")\n",
    "        return self\n",
    "\n",
    "# Works fine\n",
    "Booking(start_date=\"2025-07-01\", end_date=\"2025-07-10\")\n",
    "\n",
    "# Raises error\n",
    "Booking(start_date=\"2025-07-15\", end_date=\"2025-07-10\")\n"
   ]
  }
 ],
 "metadata": {
  "kernelspec": {
   "display_name": ".venv",
   "language": "python",
   "name": "python3"
  },
  "language_info": {
   "codemirror_mode": {
    "name": "ipython",
    "version": 3
   },
   "file_extension": ".py",
   "mimetype": "text/x-python",
   "name": "python",
   "nbconvert_exporter": "python",
   "pygments_lexer": "ipython3",
   "version": "3.12.7"
  }
 },
 "nbformat": 4,
 "nbformat_minor": 5
}
