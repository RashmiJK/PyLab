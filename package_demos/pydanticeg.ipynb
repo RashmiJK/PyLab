{
 "cells": [
  {
   "cell_type": "markdown",
   "id": "d1c37547",
   "metadata": {},
   "source": [
    "## Data validation and settings management using Pydantic. Type annotations."
   ]
  },
  {
   "cell_type": "code",
   "execution_count": null,
   "id": "87223531",
   "metadata": {},
   "outputs": [],
   "source": [
    "%pip install pydantic"
   ]
  },
  {
   "cell_type": "markdown",
   "id": "13722fac",
   "metadata": {},
   "source": [
    "### Basic use case"
   ]
  },
  {
   "cell_type": "code",
   "execution_count": 7,
   "id": "7863214e",
   "metadata": {},
   "outputs": [
    {
     "name": "stdout",
     "output_type": "stream",
     "text": [
      "name='Alice' age=30\n"
     ]
    }
   ],
   "source": [
    "from pydantic import BaseModel, ConfigDict\n",
    "\n",
    "class User(BaseModel):\n",
    "    model_config = ConfigDict(strict=True)\n",
    "    name: str\n",
    "    age: int\n",
    "\n",
    "#user = User(name=\"Alice\", age=\"30\")\n",
    "# pydantic.error_wrappers.ValidationError\n",
    "# age\n",
    "\n",
    "user = User(name=\"Alice\", age=30)\n",
    "print(user)"
   ]
  },
  {
   "cell_type": "markdown",
   "id": "06c6bd16",
   "metadata": {},
   "source": [
    "### Beyond \"str\" and \"int\"\n",
    "Pydantic supports below field types\n",
    "1. Primitive types: str, int, float, bool\n",
    "2. Collection types: list, tuple, set, dict\n",
    "3. Optional types: Optional from the typing module for fields that can be None\n",
    "4. Fields are required by default unless explicitly marked as Optional.\n",
    "5. Missing required fields will raise ValidationError."
   ]
  },
  {
   "cell_type": "code",
   "execution_count": 11,
   "id": "b6dcf3a2",
   "metadata": {},
   "outputs": [],
   "source": [
    "from typing import List, Dict, Optional, Union\n",
    "from pydantic import BaseModel\n",
    "\n",
    "class User(BaseModel):\n",
    "    name: str\n",
    "    age: Optional[int]\n",
    "    tags: List[str]\n",
    "    metadata: Dict[str, Union[str, int, float]]\n",
    "\n",
    "user1 = User(\n",
    "    name=\"Alice\",\n",
    "    age=30,\n",
    "    tags=[\"developer\", \"python\"],\n",
    "    metadata={\"location\": \"Wonderland\", \"experience\": 5}\n",
    ")"
   ]
  },
  {
   "cell_type": "markdown",
   "id": "d413fe5b",
   "metadata": {},
   "source": [
    "### Field Constraints and Default Values \n",
    "This allows you to define validation rules and fallback values directly in your Pydantic models, ensuring data quality while providing flexibility.\n",
    "\n",
    "Use Field() to add constraints like min/max values, string lengths, and regex patters\n",
    "Specify defaults for optional fields with default= or use default_factory=for mutable defaults.\n",
    "\n",
    "default_factory is used when you need to provide a dynamic value for a field, especially useful for mutable types like lists, dictionaries, or custom objects. Unlike default, which uses a **fixed value**, default_factory calls a function to **generate the default value** each time it's needed."
   ]
  },
  {
   "cell_type": "code",
   "execution_count": 14,
   "id": "ceba8a16",
   "metadata": {},
   "outputs": [],
   "source": [
    "from pydantic import BaseModel, Field\n",
    "from typing import List\n",
    "\n",
    "class Product(BaseModel):\n",
    "    id : int = Field(gt=0, description=\"Product ID must be positive\")\n",
    "    name: str = Field(min_length=3, max_length=50)\n",
    "    price: float = Field(gt=0, lt=10000, default=9.99)\n",
    "    in_stock: bool = Field(default=True)\n",
    "    \n",
    "# instantiate\n",
    "product = Product(id=101, name=\"Widget\")"
   ]
  },
  {
   "cell_type": "code",
   "execution_count": null,
   "id": "a9c3aae3",
   "metadata": {},
   "outputs": [
    {
     "name": "stdout",
     "output_type": "stream",
     "text": [
      "order1 = \n",
      " items_bad=[] items_good=[] created_at=datetime.datetime(2025, 5, 27, 13, 41, 3, 678160) \n",
      " order2 = \n",
      " items_bad=[] items_good=[] created_at=datetime.datetime(2025, 5, 27, 13, 41, 3, 678223)\n"
     ]
    }
   ],
   "source": [
    "# difference between default and defualt_factory\n",
    "# Notice empty list\n",
    "\n",
    "from pydantic import BaseModel, Field\n",
    "from typing import List\n",
    "from datetime import datetime\n",
    "\n",
    "class Order(BaseModel):\n",
    "    # Bad: All instances will share the same list\n",
    "    items_bad: List[str] = Field(default=[])\n",
    "\n",
    "    # Good: Each instance gets a new list\n",
    "    items_good: List[str] = Field(default_factory=list)\n",
    "\n",
    "    # Generate timestamp when order is created\n",
    "    created_at: datetime = Field(default_factory=datetime.now)\n",
    "\n",
    "order1 = Order()\n",
    "order2 = Order()\n",
    "print(\"order1 = \\n\", order1, \"\\n\" ,\"order2 = \\n\", order2)"
   ]
  },
  {
   "cell_type": "markdown",
   "id": "2ec9f3ff",
   "metadata": {},
   "source": [
    "#### Pass the function reference without calling it\n",
    "default_factory=list\n",
    "default_factory=list()\n",
    "The factory function is called only when a value is needed, making it efficient for resource-intensive operations."
   ]
  },
  {
   "cell_type": "code",
   "execution_count": 29,
   "id": "dbe152c7",
   "metadata": {},
   "outputs": [
    {
     "name": "stdout",
     "output_type": "stream",
     "text": [
      "order_id='ORD-3281' items=[] expiry_date=datetime.datetime(2025, 6, 26, 13, 52, 38, 262288)\n"
     ]
    }
   ],
   "source": [
    "# With custom factory functions\n",
    "\n",
    "from pydantic import BaseModel, Field\n",
    "import random\n",
    "from datetime import datetime, timedelta\n",
    "\n",
    "def generate_order_id():\n",
    "    return f\"ORD-{random.randint(1000, 9999)}\"\n",
    "\n",
    "\n",
    "class New_Order(BaseModel):\n",
    "    order_id: str = Field(default_factory=generate_order_id)\n",
    "    items: List[str] = Field(default_factory=list)\n",
    "    expiry_date: datetime = Field(default_factory=lambda: datetime.now() + timedelta(days=30))\n",
    "\n",
    "order1 = New_Order()\n",
    "print(order1)"
   ]
  },
  {
   "cell_type": "markdown",
   "id": "93cebbe1",
   "metadata": {},
   "source": [
    "### Nested Models\n",
    "Nest models within each other, enabling complex data structures.  \n",
    "When defining nested models, Pydantic handles validation of the entire object tree, ensuring that data at all levels meets your specified requirements."
   ]
  },
  {
   "cell_type": "code",
   "execution_count": 32,
   "id": "d1ebb68b",
   "metadata": {},
   "outputs": [],
   "source": [
    "from pydantic import BaseModel\n",
    "from typing import List\n",
    "\n",
    "class Address(BaseModel):\n",
    "    city: str\n",
    "    country: str\n",
    "\n",
    "# Parent model with nested Address\n",
    "class Person(BaseModel):\n",
    "    name: str\n",
    "    addresses: List[Address]\n",
    "\n",
    "# Example usage\n",
    "person = Person(\n",
    "    name=\"Alice\",\n",
    "    addresses=[\n",
    "        Address(city=\"Wonderland\", country=\"Fantasyland\"),\n",
    "        Address(city=\"Springfield\", country=\"USA\")\n",
    "    ]   \n",
    ")"
   ]
  },
  {
   "cell_type": "markdown",
   "id": "0dc0f338",
   "metadata": {},
   "source": [
    "### Custom validators\n",
    "\n",
    "Custom validators enable complex validation logic beyond simple type checking, allowing for data transformation, cross-field validation, and business rule enforcement\n",
    "\n",
    "* Validators can both validate and tranform input data\n",
    "* Validation errors provide specific feedback about what went wrong\n",
    "* Validators are executed in a predictable order during model creation"
   ]
  },
  {
   "cell_type": "code",
   "execution_count": 39,
   "id": "9ceabd31",
   "metadata": {},
   "outputs": [
    {
     "name": "stdout",
     "output_type": "stream",
     "text": [
      "name='Mug' price=0.9\n"
     ]
    }
   ],
   "source": [
    "from pydantic import BaseModel, field_validator\n",
    "\n",
    "class Product(BaseModel):\n",
    "    name: str\n",
    "    price: float\n",
    "\n",
    "    @field_validator('price')\n",
    "    def price_must_be_positive(cls, value):\n",
    "        if value < 0:\n",
    "            raise ValueError('Price should be positive')\n",
    "        return value * 0.9 # data tranformation\n",
    "    \n",
    "# create a product with validation\n",
    "product = Product(name=\"Mug\", price=1)\n",
    "\n",
    "print(product)"
   ]
  }
 ],
 "metadata": {
  "kernelspec": {
   "display_name": ".venv",
   "language": "python",
   "name": "python3"
  },
  "language_info": {
   "codemirror_mode": {
    "name": "ipython",
    "version": 3
   },
   "file_extension": ".py",
   "mimetype": "text/x-python",
   "name": "python",
   "nbconvert_exporter": "python",
   "pygments_lexer": "ipython3",
   "version": "3.12.7"
  }
 },
 "nbformat": 4,
 "nbformat_minor": 5
}
