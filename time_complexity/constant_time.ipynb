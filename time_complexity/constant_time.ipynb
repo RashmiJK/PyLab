{
 "cells": [
  {
   "cell_type": "markdown",
   "id": "8c6f9f74",
   "metadata": {},
   "source": [
    "Operations that take the same amount of time regardless of input size has time complexity of O(1). This function always takes the same amount of time regardless of whether the array has 5 elements or 5 million elements. It just accesses the first element directly."
   ]
  },
  {
   "cell_type": "code",
   "execution_count": null,
   "id": "23b8cf23",
   "metadata": {
    "vscode": {
     "languageId": "plaintext"
    }
   },
   "outputs": [],
   "source": [
    "def constant_time_example(arr):\n",
    "    return arr[0] if arr else None\n",
    "\n",
    "print(constant_time_example([1, 2, 3, 4, 5]))"
   ]
  },
  {
   "cell_type": "code",
   "execution_count": null,
   "id": "eefd1783",
   "metadata": {
    "vscode": {
     "languageId": "plaintext"
    }
   },
   "outputs": [],
   "source": []
  }
 ],
 "metadata": {
  "language_info": {
   "name": "python"
  }
 },
 "nbformat": 4,
 "nbformat_minor": 5
}
