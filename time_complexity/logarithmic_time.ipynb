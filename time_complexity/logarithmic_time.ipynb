{
 "cells": [
  {
   "cell_type": "markdown",
   "id": "52322b31",
   "metadata": {},
   "source": [
    "## Searching a value in a **binary search tree**\n",
    "At each step, we eliminate half of the remaining nodes\n",
    "We traverse one level down either left or right\n",
    "The maximum number of steps equals the height of the tree"
   ]
  },
  {
   "cell_type": "code",
   "execution_count": 9,
   "id": "b5e20582",
   "metadata": {},
   "outputs": [
    {
     "name": "stdout",
     "output_type": "stream",
     "text": [
      "Root: 10\n",
      " L--- 2\n",
      "  L--- 1\n",
      "  R--- 6\n",
      "   L--- 3\n",
      "    R--- 5\n",
      "   R--- 7\n",
      "    R--- 8\n",
      "     R--- 9\n",
      " R--- 11\n",
      "  R--- 12\n",
      "   R--- 13\n",
      "Searching for value 5:\n",
      "Found: True\n",
      "Time taken: 0.003125 milliseconds\n",
      "\n",
      "Searching for value 9:\n",
      "Found: True\n",
      "Time taken: 0.001250 milliseconds\n",
      "\n"
     ]
    }
   ],
   "source": [
    "import time\n",
    "\n",
    "# type hints, single quotes around 'TreeNode' is forward reference\n",
    "class TreeNode:\n",
    "    def __init__(self, val: int = 0, left: 'TreeNode' = None, right: 'TreeNode' = None):\n",
    "        self.val = val\n",
    "        self.left = left\n",
    "        self.right = right\n",
    "\n",
    "    def print_tree(self, level: int = 0, prefix: str = \"Root: \") -> None:\n",
    "        print(\" \" * level + prefix + str(self.val))\n",
    "        if self.left or self.right:\n",
    "            if self.left:\n",
    "                self.left.print_tree(level + 1, \"L--- \")\n",
    "            if self.right:\n",
    "                self.right.print_tree(level + 1, \"R--- \")\n",
    "\n",
    "    def insert(self, val: int) -> None:\n",
    "        if val < self.val:\n",
    "            if self.left is None:\n",
    "                self.left = TreeNode(val)\n",
    "            else:\n",
    "                self.left.insert(val)\n",
    "        else:\n",
    "            if self.right is None:\n",
    "                self.right = TreeNode(val)\n",
    "            else:\n",
    "                self.right.insert(val)\n",
    "\n",
    "    def seacrh_bst(self, val: int) -> 'TreeNode':\n",
    "        if self.val == val:\n",
    "            return self\n",
    "        elif val < self.val and self.left:\n",
    "            return self.left.seacrh_bst(val)\n",
    "        elif val > self.val and self.right:\n",
    "            return self.right.seacrh_bst(val)\n",
    "        return None\n",
    "\n",
    "def time_search(root: TreeNode, value: int) -> None:\n",
    "    start_time = time.perf_counter()\n",
    "    result = root.seacrh_bst(value)\n",
    "    end_time = time.perf_counter()\n",
    "    \n",
    "    print(f\"Searching for value {value}:\")\n",
    "    print(f\"Found: {result is not None}\")\n",
    "    print(f\"Time taken: {(end_time - start_time) * 1000:.6f} milliseconds\\n\")\n",
    "\n",
    "# Let's create a balanced binary search tree: [4, 2, 6, 1, 3, 5, 7]\n",
    "root = TreeNode(10)\n",
    "for val in [2, 6, 1, 3, 5, 7, 8, 9, 11, 12, 13]:\n",
    "    root.insert(val)\n",
    "\n",
    "root.print_tree()\n",
    "\n",
    "time_search(root, 5)\n",
    "time_search(root, 9)\n"
   ]
  }
 ],
 "metadata": {
  "kernelspec": {
   "display_name": "base",
   "language": "python",
   "name": "python3"
  },
  "language_info": {
   "codemirror_mode": {
    "name": "ipython",
    "version": 3
   },
   "file_extension": ".py",
   "mimetype": "text/x-python",
   "name": "python",
   "nbconvert_exporter": "python",
   "pygments_lexer": "ipython3",
   "version": "3.12.7"
  }
 },
 "nbformat": 4,
 "nbformat_minor": 5
}
