{
 "cells": [
  {
   "cell_type": "markdown",
   "id": "4ed0a871",
   "metadata": {},
   "source": [
    "### Sliding window approach"
   ]
  },
  {
   "cell_type": "code",
   "execution_count": null,
   "id": "17e631b9",
   "metadata": {},
   "outputs": [
    {
     "data": {
      "text/plain": [
       "([7, 5, 9], 21)"
      ]
     },
     "execution_count": 1,
     "metadata": {},
     "output_type": "execute_result"
    }
   ],
   "source": [
    "#Find subarray of size 'k' with maximum sum\n",
    "#brute force method : o(n*n)\n",
    "def max_subarray_sum(arr, k):\n",
    "    n = len(arr)\n",
    "\n",
    "    max_sum = float('-inf')\n",
    "\n",
    "    for i in range(n - k + 1):\n",
    "        current_sum = 0\n",
    "\n",
    "        for j in range(k):\n",
    "            current_sum += arr[i + j]\n",
    "\n",
    "        if current_sum > max_sum:\n",
    "            max_sum = current_sum\n",
    "            max_start_index = i\n",
    "\n",
    "    return arr[max_start_index:max_start_index+k], max_sum\n",
    "\n",
    "max_subarray_sum([3, 2, 7, 5, 9, 6, 2], 3)"
   ]
  },
  {
   "cell_type": "code",
   "execution_count": null,
   "id": "b8443d94",
   "metadata": {},
   "outputs": [],
   "source": [
    "# using sliding window appraoch, reduce time complexity to o(n)\n",
    "\n",
    "def max_\n"
   ]
  },
  {
   "cell_type": "code",
   "execution_count": null,
   "id": "dc8cc79e",
   "metadata": {},
   "outputs": [],
   "source": []
  }
 ],
 "metadata": {
  "kernelspec": {
   "display_name": ".venv",
   "language": "python",
   "name": "python3"
  },
  "language_info": {
   "codemirror_mode": {
    "name": "ipython",
    "version": 3
   },
   "file_extension": ".py",
   "mimetype": "text/x-python",
   "name": "python",
   "nbconvert_exporter": "python",
   "pygments_lexer": "ipython3",
   "version": "3.12.7"
  }
 },
 "nbformat": 4,
 "nbformat_minor": 5
}
