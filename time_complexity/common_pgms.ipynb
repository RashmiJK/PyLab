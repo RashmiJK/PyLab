{
 "cells": [
  {
   "cell_type": "markdown",
   "id": "0c74db5b",
   "metadata": {},
   "source": [
    "### Two sum problem\n",
    "Given an array of integers nums and an integer target, return indices of the two numbers such that they add up to target."
   ]
  },
  {
   "cell_type": "code",
   "execution_count": 6,
   "id": "9902169d",
   "metadata": {},
   "outputs": [],
   "source": [
    "from typing import List\n",
    "def twoSum(nums: List[int], target: int) -> List[int]:\n",
    "        \"\"\"\n",
    "        :type nums: List[int]\n",
    "        :type target: int\n",
    "        :rtype: List[int]\n",
    "        \"\"\"\n",
    "        hashmap = {}  # hasmap key: array value, hasmap value : array index \n",
    "        for index, num in enumerate(nums):\n",
    "            print(f\"Iteration {index} searching for target {target - num} in {hashmap}\")\n",
    "            if target - num in hashmap:\n",
    "                return[index, hashmap[target - num]]\n",
    "            hashmap[num] = index"
   ]
  },
  {
   "cell_type": "code",
   "execution_count": 7,
   "id": "650bc8b4",
   "metadata": {},
   "outputs": [
    {
     "name": "stdout",
     "output_type": "stream",
     "text": [
      "Iteration 0 searching for target 7 in {}\n",
      "Iteration 1 searching for target 2 in {2: 0}\n"
     ]
    },
    {
     "data": {
      "text/plain": [
       "[1, 0]"
      ]
     },
     "execution_count": 7,
     "metadata": {},
     "output_type": "execute_result"
    }
   ],
   "source": [
    "twoSum([2,7,11,15], 9)"
   ]
  }
 ],
 "metadata": {
  "kernelspec": {
   "display_name": ".venv",
   "language": "python",
   "name": "python3"
  },
  "language_info": {
   "codemirror_mode": {
    "name": "ipython",
    "version": 3
   },
   "file_extension": ".py",
   "mimetype": "text/x-python",
   "name": "python",
   "nbconvert_exporter": "python",
   "pygments_lexer": "ipython3",
   "version": "3.12.7"
  }
 },
 "nbformat": 4,
 "nbformat_minor": 5
}
