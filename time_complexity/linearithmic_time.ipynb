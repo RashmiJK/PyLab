{
 "cells": [
  {
   "cell_type": "markdown",
   "id": "9dea6907",
   "metadata": {},
   "source": [
    "## Merge sort - divide-and-conquer approach\n",
    "* split the array into two equal halves recursively until you have subarrays of size 1 (which are inherently sorted)\n",
    "* merge these sorted subarrays back together in the correct order\n",
    "* Splitting an array of n elements in half repeatedly takes log₂(n) levels. At each level, we merge all n elements total (across all subarrays at that level). We do O(n) work at each of the O(log n) levels, giving O(n log n)"
   ]
  },
  {
   "cell_type": "code",
   "execution_count": 4,
   "id": "d74be13d",
   "metadata": {},
   "outputs": [
    {
     "name": "stdout",
     "output_type": "stream",
     "text": [
      "Array length <= 1 : returning : [38]\n",
      "left_half : [38]\n",
      "Array length <= 1 : returning : [27]\n",
      "left_half : [27]\n",
      "Array length <= 1 : returning : [43]\n",
      "right_half : [43]\n",
      "Merging [27] and [43] into [27, 43]\n",
      "right_half : [27, 43]\n",
      "Merging [38] and [27, 43] into [27, 38, 43]\n",
      "left_half : [27, 38, 43]\n",
      "Array length <= 1 : returning : [3]\n",
      "left_half : [3]\n",
      "Array length <= 1 : returning : [9]\n",
      "right_half : [9]\n",
      "Merging [3] and [9] into [3, 9]\n",
      "left_half : [3, 9]\n",
      "Array length <= 1 : returning : [82]\n",
      "left_half : [82]\n",
      "Array length <= 1 : returning : [10]\n",
      "right_half : [10]\n",
      "Merging [82] and [10] into [10, 82]\n",
      "right_half : [10, 82]\n",
      "Merging [3, 9] and [10, 82] into [3, 9, 10, 82]\n",
      "right_half : [3, 9, 10, 82]\n",
      "Merging [27, 38, 43] and [3, 9, 10, 82] into [3, 9, 10, 27, 38, 43, 82]\n",
      "[3, 9, 10, 27, 38, 43, 82]\n"
     ]
    }
   ],
   "source": [
    "def merge_sort(arr):\n",
    "    # Base case: array of size 0 or 1 are already sorted_arr\n",
    "    if(len(arr)) <= 1:\n",
    "        print(f\"Array length <= 1 : returning : {arr}\")\n",
    "        return arr\n",
    "\n",
    "    mid = len(arr) // 2\n",
    "    left_half = merge_sort(arr[:mid])\n",
    "    print(f\"left_half : {left_half}\")\n",
    "    right_half = merge_sort(arr[mid:])\n",
    "    print(f\"right_half : {right_half}\")\n",
    "\n",
    "    return merge(left_half, right_half)\n",
    "\n",
    "def merge(left, right):\n",
    "    result = []\n",
    "    i = j = 0\n",
    "\n",
    "    # Merge the two halves\n",
    "    while i < len(left) and j < len(right):\n",
    "        if left[i] < right[j]:\n",
    "            result.append(left[i])\n",
    "            i += 1\n",
    "        else:\n",
    "            result.append(right[j])\n",
    "            j += 1\n",
    "\n",
    "    # Append any remaining elements from left or right\n",
    "    result.extend(left[i:])\n",
    "    result.extend(right[j:])\n",
    "\n",
    "    print(f\"Merging {left} and {right} into {result}\")\n",
    "    return result\n",
    "\n",
    "arr = [38, 27, 43, 3, 9, 82, 10]\n",
    "sorted_arr = merge_sort(arr)\n",
    "print(sorted_arr)"
   ]
  },
  {
   "cell_type": "markdown",
   "id": "f50ed127",
   "metadata": {},
   "source": [
    "## Quick sort also uses divide-and-conquer, but with different approach\n"
   ]
  },
  {
   "cell_type": "markdown",
   "id": "6b3f11d0",
   "metadata": {},
   "source": [
    "## Heap sort "
   ]
  }
 ],
 "metadata": {
  "kernelspec": {
   "display_name": ".venv",
   "language": "python",
   "name": "python3"
  },
  "language_info": {
   "codemirror_mode": {
    "name": "ipython",
    "version": 3
   },
   "file_extension": ".py",
   "mimetype": "text/x-python",
   "name": "python",
   "nbconvert_exporter": "python",
   "pygments_lexer": "ipython3",
   "version": "3.12.7"
  }
 },
 "nbformat": 4,
 "nbformat_minor": 5
}
