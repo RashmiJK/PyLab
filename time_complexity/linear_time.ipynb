{
 "cells": [
  {
   "cell_type": "code",
   "execution_count": 1,
   "id": "549e7a20",
   "metadata": {},
   "outputs": [
    {
     "name": "stdout",
     "output_type": "stream",
     "text": [
      "15\n"
     ]
    }
   ],
   "source": [
    "# Example for linear time complexity\n",
    "\n",
    "def linear_time_example_sum_arr(arr):\n",
    "    \"\"\"\n",
    "    This function calculates the sum of all elements in an array.\n",
    "    The time complexity is O(n) because we have to iterate through each element once.\n",
    "    \"\"\"\n",
    "    total = 0\n",
    "    for num in arr:\n",
    "        total += num\n",
    "    return total\n",
    "\n",
    "print(linear_time_example_sum_arr([1, 2, 3, 4, 5]))  # Output: 15"
   ]
  },
  {
   "cell_type": "code",
   "execution_count": null,
   "id": "2f7b1505",
   "metadata": {},
   "outputs": [],
   "source": [
    "# Finding the maximum value in an array\n",
    "\n",
    "def linear_time_example_find_max_val_arr(arr):\n",
    "    \"\"\"\n",
    "    This function finds the maximum value in an array.\n",
    "    The time complexity is O(n) because we have to check each element once.\n",
    "    \"\"\"\n",
    "    max_val = arr[0]\n",
    "    for num in arr:\n",
    "        if num > max_val:\n",
    "            max_val = num\n",
    "    return max_val\n",
    "\n",
    "print(linear_time_example_find_max_val_arr([1, 2, 3, 4, 5]))  # Output: 5"
   ]
  }
 ],
 "metadata": {
  "kernelspec": {
   "display_name": ".venv",
   "language": "python",
   "name": "python3"
  },
  "language_info": {
   "codemirror_mode": {
    "name": "ipython",
    "version": 3
   },
   "file_extension": ".py",
   "mimetype": "text/x-python",
   "name": "python",
   "nbconvert_exporter": "python",
   "pygments_lexer": "ipython3",
   "version": "3.12.7"
  }
 },
 "nbformat": 4,
 "nbformat_minor": 5
}
