{
 "cells": [
  {
   "cell_type": "markdown",
   "id": "ef425277",
   "metadata": {},
   "source": [
    "### Some common practice programmes"
   ]
  },
  {
   "cell_type": "code",
   "execution_count": 1,
   "id": "014c6b13",
   "metadata": {},
   "outputs": [
    {
     "name": "stdout",
     "output_type": "stream",
     "text": [
      "True\n",
      "False\n"
     ]
    }
   ],
   "source": [
    "# Palindrome check\n",
    "def is_palindrome(string):\n",
    "    return string == string[::-1]\n",
    "print(is_palindrome(\"abcba\"))\n",
    "print(is_palindrome(\"abcde\"))"
   ]
  },
  {
   "cell_type": "code",
   "execution_count": 2,
   "id": "24b354f8",
   "metadata": {},
   "outputs": [
    {
     "name": "stdout",
     "output_type": "stream",
     "text": [
      "5\n"
     ]
    }
   ],
   "source": [
    "# Find largest element in a list\n",
    "def find_largest(lst):\n",
    "    largest = lst[0]\n",
    "    for num in lst:\n",
    "        if num > largest:\n",
    "            largest = num\n",
    "    return largest\n",
    "print(find_largest([1, 2, 3, 4, 5]))  # Output: 5"
   ]
  },
  {
   "cell_type": "code",
   "execution_count": 3,
   "id": "c62533f6",
   "metadata": {},
   "outputs": [
    {
     "name": "stdout",
     "output_type": "stream",
     "text": [
      "olleH\n"
     ]
    }
   ],
   "source": [
    "# Reverse a string\n",
    "def reverse_string(s):\n",
    "    return s[::-1]\n",
    "print(reverse_string(\"Hello\"))  # Output: \"olleH\""
   ]
  },
  {
   "cell_type": "code",
   "execution_count": 4,
   "id": "19b4c995",
   "metadata": {},
   "outputs": [
    {
     "name": "stdout",
     "output_type": "stream",
     "text": [
      "{1: 6, 2: 4, 3: 3, 4: 1, 6: 1, 7: 1}\n"
     ]
    }
   ],
   "source": [
    "# Count how many times each element appaers in the list\n",
    "def count_elements(lst):\n",
    "    counts = {}\n",
    "    for element in lst:\n",
    "        if element in counts:\n",
    "            counts[element] += 1\n",
    "        else:\n",
    "            counts[element] = 1\n",
    "    return counts\n",
    "print(count_elements([1, 2, 2, 3, 3, 3,2,1,1,2,1,1,1,4,6,7]))  # Output: {1: 1, 2: 2, 3: 3}"
   ]
  },
  {
   "cell_type": "code",
   "execution_count": 5,
   "id": "92678dad",
   "metadata": {},
   "outputs": [
    {
     "name": "stdout",
     "output_type": "stream",
     "text": [
      "{1: [1, 1, 1, 1, 1, 1], 2: [2, 2, 2, 2], 3: [3, 3, 3], 4: [4], 6: [6], 7: [7]}\n"
     ]
    }
   ],
   "source": [
    "# Use defaultdict to create dictionary of lists\n",
    "from collections import defaultdict\n",
    "def group_elements(lst):\n",
    "    grouped = defaultdict(list)\n",
    "    for element in lst:\n",
    "        grouped[element].append(element)\n",
    "    return dict(grouped)\n",
    "print(group_elements([1, 2, 2, 3, 3, 3,2,1,1,2,1,1,1,4,6,7]))  # Output: {1: [1], 2: [2], 3: [3]}"
   ]
  },
  {
   "cell_type": "code",
   "execution_count": 6,
   "id": "d60b2004",
   "metadata": {},
   "outputs": [
    {
     "name": "stdout",
     "output_type": "stream",
     "text": [
      "[0, 1, 4, 9, 16, 25, 36, 49, 64, 81]\n",
      "[0, 10, 20, 30, 40, 50, 60, 70, 80, 90]\n",
      "[0, -1, -1, -1, -1, -1, -1, -1, -1, -1, 10, -1, -1, -1, -1, -1, -1, -1, -1, -1, 20, -1, -1, -1, -1, -1, -1, -1, -1, -1, 30, -1, -1, -1, -1, -1, -1, -1, -1, -1, 40, -1, -1, -1, -1, -1, -1, -1, -1, -1, 50, -1, -1, -1, -1, -1, -1, -1, -1, -1, 60, -1, -1, -1, -1, -1, -1, -1, -1, -1, 70, -1, -1, -1, -1, -1, -1, -1, -1, -1, 80, -1, -1, -1, -1, -1, -1, -1, -1, -1, 90, -1, -1, -1, -1, -1, -1, -1, -1, -1]\n",
      "['This is a python program', ' Here is an example of list comprehension']\n",
      "['This', 'is', 'a', 'python', 'program.', 'Here', 'is', 'an', 'example', 'of', 'list', 'comprehension']\n",
      "['this', 'is', 'a', 'python', 'program', 'here', 'is', 'an', 'example', 'of', 'list', 'comprehension']\n"
     ]
    }
   ],
   "source": [
    "# List comprehension \n",
    "squares = [x**2 for x in range(10)]\n",
    "print(squares)\n",
    "\n",
    "mylist = list(range(100))\n",
    "filteredList = [item for item in mylist if item % 10 == 0]\n",
    "print(filteredList)\n",
    "\n",
    "# Use ternary operator for else\n",
    "anotherfilteredList = [ item if item % 10 == 0 else -1 for item in mylist]\n",
    "print(anotherfilteredList)\n",
    "\n",
    "# list comprehension with functions\n",
    "myString = \"This is a python program. Here is an example of list comprehension\"\n",
    "print(myString.split('.'))\n",
    "print(myString.split())\n",
    "def cleanword(word):\n",
    "    return word.replace('.','').lower()\n",
    "\n",
    "myListCompFunc = [cleanword(word) for word in myString.split()]\n",
    "print(myListCompFunc)"
   ]
  },
  {
   "cell_type": "code",
   "execution_count": 8,
   "id": "42184ec2",
   "metadata": {},
   "outputs": [
    {
     "name": "stdout",
     "output_type": "stream",
     "text": [
      "Total number of rooms =  4\n",
      "All rooms cannot be visited\n",
      "Total number of rooms =  4\n",
      "All rooms can be visited\n"
     ]
    }
   ],
   "source": [
    "# keys and rooms challenge from leetcode\n",
    "# https://leetcode.com/problems/keys-and-rooms/\n",
    "def solve(rooms):       \n",
    "    keys = rooms[0] # 0th room\n",
    "    print(\"Total number of rooms = \",len(rooms))\n",
    "    visited = [0]\n",
    "    while keys:\n",
    "        key = keys.pop()\n",
    "        if key not in visited:\n",
    "            next_keys = rooms[key]\n",
    "            visited.append(key)\n",
    "            keys.extend(next_keys)\n",
    "    return len(visited) == len(rooms)\n",
    "    \n",
    "if solve([[1,3],[3,0,1],[2],[0]]):\n",
    "    print(\"All rooms can be visited\")\n",
    "else:\n",
    "    print(\"All rooms cannot be visited\")\n",
    "\n",
    "if solve([[1],[2],[3],[]]):\n",
    "    print(\"All rooms can be visited\")\n",
    "else:\n",
    "    print(\"All rooms cannot be visited\")"
   ]
  },
  {
   "cell_type": "code",
   "execution_count": 9,
   "id": "1f3e5394",
   "metadata": {},
   "outputs": [
    {
     "name": "stdout",
     "output_type": "stream",
     "text": [
      "4 is not present in the hashmap\n"
     ]
    }
   ],
   "source": [
    "hashmap = {15 : 3, 20 : 4, 25 : 5}\n",
    "if 4 in hashmap:\n",
    "    print(\"4 is present in the hashmap\")\n",
    "else:\n",
    "    print(\"4 is not present in the hashmap\")\n"
   ]
  }
 ],
 "metadata": {
  "kernelspec": {
   "display_name": ".venv",
   "language": "python",
   "name": "python3"
  },
  "language_info": {
   "codemirror_mode": {
    "name": "ipython",
    "version": 3
   },
   "file_extension": ".py",
   "mimetype": "text/x-python",
   "name": "python",
   "nbconvert_exporter": "python",
   "pygments_lexer": "ipython3",
   "version": "3.12.7"
  }
 },
 "nbformat": 4,
 "nbformat_minor": 5
}
