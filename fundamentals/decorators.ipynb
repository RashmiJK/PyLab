{
 "cells": [
  {
   "cell_type": "markdown",
   "id": "15a26d1c-fe40-4083-83b5-8b2e3099e544",
   "metadata": {},
   "source": [
    "# Decorators in Python\n",
    "Decorators in Python allow you to modify or enhance the behavior of functions and classes.  \n",
    "They are powerful metaprogramming tools that wrap existing code with additional functionality.  \n",
    "They are denoted by the @ symbol followed by the decorator name and are placed above the function or class definition.  \n",
    "Common use cases include logging, timing functions, access control, and caching results."
   ]
  },
  {
   "cell_type": "code",
   "execution_count": null,
   "id": "622886ad-bb28-4b15-9b6b-cf7551ea4ef8",
   "metadata": {},
   "outputs": [
    {
     "data": {
      "text/plain": [
       "8"
      ]
     },
     "execution_count": 1,
     "metadata": {},
     "output_type": "execute_result"
    }
   ],
   "source": [
    "# Demonstrates how a Python function can be assigned to a variable and called through that variable\n",
    "def plus_one(number: int):\n",
    "    return number + 1\n",
    "\n",
    "var = plus_one  \n",
    "var(7)"
   ]
  },
  {
   "cell_type": "code",
   "execution_count": 5,
   "id": "79f05402-22f2-4b7a-86fd-86e87015fe16",
   "metadata": {},
   "outputs": [
    {
     "name": "stdout",
     "output_type": "stream",
     "text": [
      "5\n"
     ]
    }
   ],
   "source": [
    "# Function with nested definition that adds 1 to input number\n",
    "def plus_one(number: int):\n",
    "    def add_one(number: int):\n",
    "        return number + 1\n",
    "\n",
    "    result = add_one(number)\n",
    "    return result\n",
    "\n",
    "print(plus_one(4))"
   ]
  },
  {
   "cell_type": "code",
   "execution_count": null,
   "id": "4944b124-1a2d-481e-b809-4e7d20992420",
   "metadata": {},
   "outputs": [
    {
     "data": {
      "text/plain": [
       "6"
      ]
     },
     "execution_count": 7,
     "metadata": {},
     "output_type": "execute_result"
    }
   ],
   "source": [
    "# Demonstrates how functions can be passed as arguments to other functions - higher-order function example \n",
    "def plus_one(number: int):\n",
    "    return number + 1\n",
    "\n",
    "def call_function(func):\n",
    "    number_to_add = 5\n",
    "    return(func(number_to_add))\n",
    "\n",
    "call_function(plus_one)\n",
    "    "
   ]
  },
  {
   "cell_type": "code",
   "execution_count": null,
   "id": "423ee7c1-145b-4b35-930d-5f879976c8f5",
   "metadata": {},
   "outputs": [
    {
     "data": {
      "text/plain": [
       "'Hi'"
      ]
     },
     "execution_count": 8,
     "metadata": {},
     "output_type": "execute_result"
    }
   ],
   "source": [
    "# Demonstrates how a function can return another function (closure), creating a function factory pattern\n",
    "\n",
    "def greet():\n",
    "    def say_hi():\n",
    "        return \"Hi\"\n",
    "    return say_hi\n",
    "\n",
    "ok_to_greet = greet()\n",
    "ok_to_greet()"
   ]
  },
  {
   "cell_type": "code",
   "execution_count": null,
   "id": "a4ec89e4-d635-44bd-abb3-370d57d8c3e9",
   "metadata": {},
   "outputs": [
    {
     "name": "stdout",
     "output_type": "stream",
     "text": [
      "Message from closure: Hello closure!\n"
     ]
    }
   ],
   "source": [
    "# Demonstrates closure - a function returning another function that retains access to the outer function's variables\n",
    "def outer_func(msg: str):\n",
    "    def inner_func():\n",
    "        print(f\"Message from closure: {msg}\")\n",
    "    return inner_func\n",
    "\n",
    "cl_func = outer_func(\"Hello closure!\")\n",
    "cl_func()"
   ]
  },
  {
   "cell_type": "code",
   "execution_count": 12,
   "id": "df474da9-05ae-47e8-9e91-12360cd8ac81",
   "metadata": {},
   "outputs": [
    {
     "name": "stdout",
     "output_type": "stream",
     "text": [
      "Before the function call\n",
      "Hello!\n",
      "After the function call \n",
      "**********\n",
      "Before the function call\n",
      "Before the function call\n",
      "Hello!\n",
      "After the function call \n",
      "After the function call \n"
     ]
    }
   ],
   "source": [
    "# Demonstrates basic decorator pattern:\n",
    "# 1. simple_decorator is the decorator function that takes a function as input\n",
    "# 2. simple_wrapper is the inner function that adds behavior before and after the original function\n",
    "# 3. The decorator returns simple_wrapper which replaces the original function\n",
    "\n",
    "def simple_decorator(func):\n",
    "    def simple_wrapper():\n",
    "        print(\"Before the function call\")\n",
    "        func()\n",
    "        print(\"After the function call \")\n",
    "    return simple_wrapper\n",
    "\n",
    "# Example of a non-decorator function that just prints a message\n",
    "def not_decorator(func):\n",
    "    print(\"This is not a decorator!\")\n",
    "    \n",
    "# Using the @syntax to decorate the greet function\n",
    "# This is equivalent to: greet = simple_decorator(greet)\n",
    "@simple_decorator\n",
    "def greet():\n",
    "    print(\"Hello!\")\n",
    "greet()\n",
    "\n",
    "print(\"**********\")\n",
    "\n",
    "# Demonstrating how decorator syntax works under the hood\n",
    "# This is the same as using the @ syntax above\n",
    "simple_decorator(greet)()"
   ]
  },
  {
   "cell_type": "code",
   "execution_count": 56,
   "id": "3981a16a",
   "metadata": {},
   "outputs": [
    {
     "name": "stdout",
     "output_type": "stream",
     "text": [
      "Before the function call\n",
      "Hello, Rashmi !\n",
      "After the function call \n"
     ]
    }
   ],
   "source": [
    "# Demonstrates basic decorator pattern:\n",
    "# 1. simple_decorator is the decorator function that takes a function as input\n",
    "# 2. simple_wrapper is the inner function that adds behavior before and after the original function\n",
    "# 3. The decorator returns simple_wrapper which replaces the original function\n",
    "# 4. greet() is the base function that is being decorated\n",
    "\n",
    "def simple_decorator(func):\n",
    "    def simple_wrapper(*argc, **kwargs):\n",
    "        print(\"Before the function call\")\n",
    "        func(*argc, **kwargs)\n",
    "        print(\"After the function call \")\n",
    "    return simple_wrapper\n",
    "    \n",
    "# Using the @syntax to decorate the greet function\n",
    "@simple_decorator\n",
    "def greet(name: str):\n",
    "    print(f\"Hello, {name} !\")\n",
    "\n",
    "greet(\"Rashmi\")"
   ]
  },
  {
   "cell_type": "code",
   "execution_count": null,
   "id": "8db04fc7",
   "metadata": {},
   "outputs": [
    {
     "name": "stdout",
     "output_type": "stream",
     "text": [
      "Fudge added!\n",
      "Sprinkles added!\n",
      "Here is your vanilla ice cream!\n"
     ]
    }
   ],
   "source": [
    "# Demonstrating:\n",
    "# 1. Multiple decorators using @syntax that execute in order from bottom to top (@add_fudge then @add_sprinkle)\n",
    "# 2. Wrapper functions accepting variable arguments (*args, **kwargs) to pass through to base function\n",
    "# 3. Decorator wrapper returning the base function's return value\n",
    "# 4. Base function with typed parameter and string return value\n",
    "\n",
    "def add_sprinkle(func): # Decorator to add sprinkles\n",
    "    def wrapper(*args, **kwargs): # Wrapper function\n",
    "        print(\"Sprinkles added!\")\n",
    "        return func(*args, **kwargs)\n",
    "    return wrapper\n",
    "\n",
    "def add_fudge(func): # Decorator to add fudge\n",
    "    def wrapper(*args, **kwargs): # Wrapper function\n",
    "        print(\"Fudge added!\")\n",
    "        return func(*args, **kwargs)\n",
    "    return wrapper\n",
    "\n",
    "@add_fudge\n",
    "@add_sprinkle\n",
    "def get_ice_cream(flavor: str): # Base function with parameter and return value\n",
    "    ice_cream_status = f\"Here is your {flavor} ice cream!\"\n",
    "    return ice_cream_status\n",
    "\n",
    "status = get_ice_cream(\"vanilla\") \n",
    "print(status)\n"
   ]
  },
  {
   "cell_type": "code",
   "execution_count": 27,
   "id": "efb44758-b4ed-45f3-b1f2-9b7b523073df",
   "metadata": {},
   "outputs": [
    {
     "name": "stdout",
     "output_type": "stream",
     "text": [
      "*******\n"
     ]
    },
    {
     "data": {
      "text/plain": [
       "'HELLO THERE!'"
      ]
     },
     "execution_count": 27,
     "metadata": {},
     "output_type": "execute_result"
    }
   ],
   "source": [
    "# Uppercase decorator\n",
    "\n",
    "def uppercase_decorator(func):\n",
    "    def wrapper():\n",
    "        my_greeting = func()\n",
    "        #print(type(my_greeting))\n",
    "        my_greeting = my_greeting.upper()\n",
    "        return my_greeting\n",
    "    return wrapper\n",
    "\n",
    "def greet():\n",
    "    return \"hello there!\"\n",
    "    \n",
    "'''\n",
    "@uppercase_decorator\n",
    "def greet():\n",
    "    return \"hello there!\"\n",
    "greet()\n",
    "'''\n",
    "func_ptr = uppercase_decorator(greet)\n",
    "print(\"*******\")\n",
    "func_ptr()"
   ]
  },
  {
   "cell_type": "code",
   "execution_count": 28,
   "id": "e1d24630-9bdc-4e25-8320-c0d0f38f4217",
   "metadata": {},
   "outputs": [
    {
     "name": "stdout",
     "output_type": "stream",
     "text": [
      "My greeting is ['HELLO', 'FROM', 'ME!']\n"
     ]
    }
   ],
   "source": [
    "def uppercase_decorator(fn):\n",
    "    def wrapper():\n",
    "        my_str = fn()\n",
    "        my_str = my_str.upper()\n",
    "        #print(f\"In uppercase_decorator, returning {my_str}\")\n",
    "        return my_str\n",
    "    return wrapper\n",
    "\n",
    "import functools\n",
    "def split_strings(function):\n",
    "    @functools.wraps(function)\n",
    "    def wrapper():\n",
    "        func = function()\n",
    "        splitted_string = func.split()\n",
    "        #print(f\"In split_strings, returning {splitted_string}\")\n",
    "        return splitted_string\n",
    "    return wrapper\n",
    "\n",
    "@split_strings\n",
    "@uppercase_decorator\n",
    "def my_greeting():\n",
    "    return \"Hello from me!\"\n",
    "\n",
    "print(f\"My greeting is {my_greeting()}\")"
   ]
  },
  {
   "cell_type": "markdown",
   "id": "ea69f8e1-6dde-4f2e-b76a-65cf1a6d0510",
   "metadata": {},
   "source": [
    "### Main benefit of using @functools.wraps is to preserve metadata. Following exmaple demonstrates this usage."
   ]
  },
  {
   "cell_type": "code",
   "execution_count": 29,
   "id": "68468d4a-721b-4459-bc28-aa11a4f34904",
   "metadata": {},
   "outputs": [
    {
     "name": "stdout",
     "output_type": "stream",
     "text": [
      "*********\n",
      "my_function\n",
      "wrapper\n",
      "None\n",
      "*********\n",
      "my_another_function\n",
      "my_another_function\n",
      "This is my_another_function's docstring\n",
      "*********\n"
     ]
    }
   ],
   "source": [
    "# without @functools.wraps\n",
    "def decorator_without_functools_wraps(func):\n",
    "    def wrapper():\n",
    "        return func()\n",
    "    return wrapper\n",
    "\n",
    "# With @functools.wraps\n",
    "def decorator_with_functools_wraps(func):\n",
    "    @functools.wraps(func)\n",
    "    def wrapper():\n",
    "        return func()\n",
    "    return wrapper\n",
    "\n",
    "@decorator_without_functools_wraps\n",
    "def my_function():\n",
    "    \"\"\"This is my_function's docstring\"\"\"\n",
    "    return \"my_function\"\n",
    "\n",
    "@decorator_with_functools_wraps\n",
    "def my_another_function():\n",
    "    \"\"\"This is my_another_function's docstring\"\"\"\n",
    "    return \"my_another_function\"\n",
    "\n",
    "print(\"*********\")\n",
    "print(my_function())\n",
    "print(my_function.__name__)\n",
    "print(my_function.__doc__)\n",
    "\n",
    "print(\"*********\")\n",
    "print(my_another_function())\n",
    "print(my_another_function.__name__)\n",
    "print(my_another_function.__doc__)\n",
    "print(\"*********\")"
   ]
  },
  {
   "cell_type": "code",
   "execution_count": 30,
   "id": "3ec5c151-6186-4984-b3d3-283ea03e96f0",
   "metadata": {},
   "outputs": [
    {
     "name": "stdout",
     "output_type": "stream",
     "text": [
      "My arguments are: Winchester, Manchester\n",
      "Cities passed as arguments are : Winchester and Manchester\n"
     ]
    }
   ],
   "source": [
    "# Arguments to decorator function. Note the 'decorator', 'wrapper' and 'wrapped function' terms in explanation.\n",
    "def decorator_with_arguments(function):\n",
    "    def wrapper_accepting_arguments(arg1, arg2):\n",
    "        print(\"My arguments are: {0}, {1}\".format(arg1, arg2))\n",
    "        function(arg1, arg2)        \n",
    "    return wrapper_accepting_arguments\n",
    "\n",
    "@decorator_with_arguments\n",
    "def cities(city_one, city_two):\n",
    "    print(\"Cities passed as arguments are : {0} and {1}\".format(city_one, city_two))\n",
    "\n",
    "cities(\"Winchester\", \"Manchester\")"
   ]
  },
  {
   "cell_type": "markdown",
   "id": "c4bcaa44",
   "metadata": {},
   "source": [
    "### Python provides three built-in decorators specifically for class functions\n",
    "@staticmethod  \n",
    "@classmethod  \n",
    "@property  "
   ]
  },
  {
   "cell_type": "code",
   "execution_count": 49,
   "id": "c78691de",
   "metadata": {},
   "outputs": [
    {
     "name": "stdout",
     "output_type": "stream",
     "text": [
      "Class count incremented to: 1\n",
      "Class count set to: 10\n",
      "Class count incremented to: 11\n",
      "Class count set to: 20\n",
      "Class count (via class): 20\n",
      "Class count (via instance): 20\n"
     ]
    }
   ],
   "source": [
    "# @classmethod -\n",
    "# A class method is bound to the class and not the instance of the class.\n",
    "# The first parameter is always `cls`, which refers to the class itself.\n",
    "# Class methods can access and modify class state that applies across all instances.\n",
    "# They can be called on the class itself or on an instance.\n",
    "# Common use cases include factory methods, alternative constructors, and methods that need to operate on class-level data.\n",
    "\n",
    "class MyClassC:\n",
    "    count = 0\n",
    "\n",
    "    @classmethod\n",
    "    def increment_count(cls):\n",
    "        cls.count += 1\n",
    "        print(f\"Class count incremented to: {cls.count}\")\n",
    "\n",
    "    @classmethod\n",
    "    def set_count(cls, value):\n",
    "        cls.count = value\n",
    "        print(f\"Class count set to: {cls.count}\")\n",
    "\n",
    "# Call class method via class\n",
    "MyClassC.increment_count()\n",
    "MyClassC.set_count(10)\n",
    "\n",
    "# Call class method via instance\n",
    "sample = MyClassC()\n",
    "sample.increment_count()\n",
    "sample.set_count(20)\n",
    "\n",
    "print(f\"Class count (via class): {MyClassC.count}\")\n",
    "print(f\"Class count (via instance): {sample.count}\")"
   ]
  },
  {
   "cell_type": "code",
   "execution_count": 46,
   "id": "67b928f8",
   "metadata": {},
   "outputs": [
    {
     "name": "stdout",
     "output_type": "stream",
     "text": [
      "Hello, this is the static method!\n",
      "5\n",
      "Hello, this is the static method!\n",
      "12\n"
     ]
    }
   ],
   "source": [
    "# @staticmethod\n",
    "# No Access to Instance or Class State: Static methods do not have access to the instance (`self`) or the class (`cls`) and cannot modify class or instance variables unless those variables are passed in as arguments.\n",
    "# Utility Functions: They are typically used for utility functions that are logically related to the class but do not require access to instance or class data.\n",
    "# Called via Class or Instance: Static methods can be called either on the class or on an instance, and their behavior is the same in both cases.\n",
    "\n",
    "class MyClassS:\n",
    "    @staticmethod\n",
    "    def greet():\n",
    "        print(\"Hello, this is the static method!\")\n",
    "\n",
    "    @staticmethod\n",
    "    def add(a, b):\n",
    "        # This method does not access self or cls\n",
    "        return a + b\n",
    "\n",
    "# Call static method via class\n",
    "MyClassS.greet()\n",
    "print(MyClassS.add(2, 3))\n",
    "\n",
    "# Call static method via instance\n",
    "instance = MyClassS()\n",
    "instance.greet()\n",
    "print(instance.add(5, 7))\n"
   ]
  },
  {
   "cell_type": "markdown",
   "id": "51712d3b",
   "metadata": {},
   "source": [
    "| Decorator         | First Parameter | Access to Instance | Access to Class State | Typical Use Case                        |\n",
    "|-------------------|----------------|--------------------|-----------------------|------------------------------------------|\n",
    "| `@classmethod`    | `cls`          | No                 | Yes                   | Factory methods, class operations        |\n",
    "| `@staticmethod`   | None           | No                 | No (unless by name)   | Utility functions                        |\n",
    "| Instance method   | `self`         | Yes                | Yes                   | General instance methods                 |\n"
   ]
  },
  {
   "cell_type": "code",
   "execution_count": 50,
   "id": "7a3b7c4f",
   "metadata": {},
   "outputs": [
    {
     "name": "stdout",
     "output_type": "stream",
     "text": [
      "5\n",
      "10\n",
      "20\n"
     ]
    }
   ],
   "source": [
    "# @property - It is bound to the instance of the class and not the class itself. It is used to access the class attributes. This decorator allows a method to be accessed like an attribute.\n",
    "\n",
    "class MyClassP:\n",
    "    def __init__(self, value):\n",
    "        self._value = value\n",
    "\n",
    "    @property\n",
    "    def value(self):\n",
    "        return self._value\n",
    "    \n",
    "# Can also use @property.setter and @property.getter\n",
    "class MyClassSG:\n",
    "    def __init__(self, value):\n",
    "        self._value = value\n",
    "\n",
    "    @property\n",
    "    def value(self):\n",
    "        return self._value\n",
    "    \n",
    "    @value.setter\n",
    "    def value(self, new_value):\n",
    "        self._value = new_value\n",
    "\n",
    "    @value.getter\n",
    "    def value(self):\n",
    "        return self._value\n",
    "    \n",
    "    @value.deleter\n",
    "    def value(self):\n",
    "        del self._value\n",
    "\n",
    "obj = MyClassP(5)\n",
    "print(obj.value)\n",
    "\n",
    "obj = MyClassSG(10)\n",
    "print(obj.value)\n",
    "obj.value = 20\n",
    "print(obj.value)\n",
    "del obj.value\n",
    "#print(obj.value)\n"
   ]
  },
  {
   "cell_type": "markdown",
   "id": "15dcf246",
   "metadata": {},
   "source": [
    "### @abstractmethod\n",
    "\n",
    "- Python's `abc` (Abstract Base Classes) module enables the creation of abstract base classes and abstract methods.\n",
    "- Use the `@abstractmethod` decorator to define methods that must be implemented by any subclass.\n",
    "- Subclasses that do not implement all abstract methods cannot be instantiated (raises `TypeError` at runtime).\n",
    "- Enforces interface-like contracts and expected behaviors for subclasses.\n",
    "- Useful for defining blueprints or APIs that subclasses are required to follow."
   ]
  },
  {
   "cell_type": "code",
   "execution_count": 2,
   "id": "fd989ad4",
   "metadata": {},
   "outputs": [
    {
     "name": "stdout",
     "output_type": "stream",
     "text": [
      "Feeding a lion with raw meat!\n",
      "Feeding a panda with some tasty bamboo!\n"
     ]
    }
   ],
   "source": [
    "from abc import ABC, abstractmethod\n",
    "\n",
    "# Define abstract base class with abstract method\n",
    "class Animal(ABC):\n",
    "    @abstractmethod\n",
    "    def feed(self):\n",
    "        pass  # Abstract method, must be implemented by subclasses\n",
    "\n",
    "# Subclass implements the abstract method\n",
    "class Lion(Animal):\n",
    "    def feed(self):\n",
    "        print(\"Feeding a lion with raw meat!\")\n",
    "\n",
    "# Subclass implements the abstract method\n",
    "class Panda(Animal):\n",
    "    def feed(self):\n",
    "        print(\"Feeding a panda with some tasty bamboo!\")\n",
    "\n",
    "# Instantiate subclasses and call their feed methods\n",
    "lion = Lion()\n",
    "panda = Panda()\n",
    "lion.feed()  # Demonstrates Lion's implementation\n",
    "panda.feed() # Demonstrates Panda's implementation\n"
   ]
  },
  {
   "cell_type": "code",
   "execution_count": null,
   "id": "c22289d7",
   "metadata": {},
   "outputs": [],
   "source": [
    "# This will raise TypeError because Snake does not implement the abstract method 'feed'\n",
    "# You must implement all abstract methods from Animal to instantiate Snake\n",
    "\n",
    "class Snake(Animal):\n",
    "    pass  # Not implementing 'feed' will cause instantiation to fail\n",
    "\n",
    "snake = Snake()  # TypeError: Can't instantiate abstract class Snake...\n"
   ]
  },
  {
   "cell_type": "code",
   "execution_count": 53,
   "id": "ae15817c",
   "metadata": {},
   "outputs": [
    {
     "name": "stdout",
     "output_type": "stream",
     "text": [
      "Chirp\n"
     ]
    }
   ],
   "source": [
    "# Using `@abstractmethod` with @properties\n",
    "\n",
    "from abc import ABC, abstractmethod\n",
    "\n",
    "class Animal(ABC):\n",
    "    @property\n",
    "    @abstractmethod\n",
    "    def sound(self):\n",
    "        pass\n",
    "\n",
    "class Bird(Animal):\n",
    "    @property\n",
    "    def sound(self):\n",
    "        return \"Chirp\"\n",
    "\n",
    "bird = Bird()\n",
    "print(bird.sound)  # Output: Chirp"
   ]
  },
  {
   "cell_type": "markdown",
   "id": "20a69d46",
   "metadata": {},
   "source": [
    "## Runnables in LangChain that lets you chain. "
   ]
  },
  {
   "cell_type": "code",
   "execution_count": 61,
   "id": "41275789",
   "metadata": {},
   "outputs": [
    {
     "data": {
      "text/plain": [
       "True"
      ]
     },
     "execution_count": 61,
     "metadata": {},
     "output_type": "execute_result"
    }
   ],
   "source": [
    "import dotenv\n",
    "dotenv.load_dotenv()"
   ]
  },
  {
   "cell_type": "code",
   "execution_count": null,
   "id": "0bf73101",
   "metadata": {},
   "outputs": [
    {
     "name": "stdout",
     "output_type": "stream",
     "text": [
      "topic='popcorn flavor' popularity='butter'\n"
     ]
    }
   ],
   "source": [
    "from langchain_core.prompts import PromptTemplate\n",
    "from langchain_core.output_parsers import PydanticOutputParser\n",
    "from langchain_openai import ChatOpenAI\n",
    "from pydantic import BaseModel\n",
    "\n",
    "# 1. Define an LLM (a Runnable)\n",
    "llm = ChatOpenAI(model=\"gpt-4.1-nano\", temperature=0)\n",
    "\n",
    "# 2. Define an output parser (also a Runnable)\n",
    "class PopularityStructure(BaseModel):\n",
    "    \"\"\"A structure to hold the popularity of a topic.\"\"\"\n",
    "    topic: str\n",
    "    popularity: str\n",
    "\n",
    "parser = PydanticOutputParser(pydantic_object=PopularityStructure)\n",
    "\n",
    "# 3. Define a prompt (also a Runnable)\n",
    "prompt = PromptTemplate(\n",
    "    template=\"Answer the user query.\\n{format_instructions}\\n{query}\\n\",\n",
    "    input_variables=[\"query\"],\n",
    "    partial_variables={\"format_instructions\": parser.get_format_instructions()},\n",
    ")\n",
    "\n",
    "# 4. Chain them all together: prompt -> llm -> parser\n",
    "chain = prompt | llm | parser\n",
    "\n",
    "# 5. Run the full chain\n",
    "response = chain.invoke({\"query\": \"What is the most popular popcorn flavor?\"})\n",
    "print(response)\n"
   ]
  },
  {
   "cell_type": "markdown",
   "id": "62e22296",
   "metadata": {},
   "source": [
    "## Example to overload pipe operator using special methods like \\_\\_or\\_\\_ or \\_\\_ror\\_\\_ (for right-side operation)\n",
    "\n",
    "__or__(self, other) - Handles self | other operations  \n",
    "__ror__(self, other) - Handles other | self when the left operand doesn't have \\_\\_or\\_\\_"
   ]
  },
  {
   "cell_type": "code",
   "execution_count": 92,
   "id": "b3092747",
   "metadata": {},
   "outputs": [],
   "source": [
    "class PipeDemo:\n",
    "    def __init__(self, value):\n",
    "        self.value = value\n",
    "\n",
    "    def __or__(self, other):\n",
    "        print(f\"Calling __or__: {self.value} | {other}\")\n",
    "        return f\"{self.value} | {other}\"\n",
    "\n",
    "    def __ror__(self, other):\n",
    "        print(f\"Calling __ror__: {other} {self.value}\")\n",
    "        return f\"{other} | {self.value}\"\n",
    "\n"
   ]
  },
  {
   "cell_type": "code",
   "execution_count": 98,
   "id": "2a2c8100",
   "metadata": {},
   "outputs": [
    {
     "data": {
      "text/plain": [
       "['C', 'D']"
      ]
     },
     "execution_count": 98,
     "metadata": {},
     "output_type": "execute_result"
    }
   ],
   "source": [
    "sobj = PipeDemo([\"C\", \"D\"])\n",
    "sobj.value"
   ]
  },
  {
   "cell_type": "code",
   "execution_count": 93,
   "id": "cffe3008",
   "metadata": {},
   "outputs": [],
   "source": [
    "obja = PipeDemo(\"A\")"
   ]
  },
  {
   "cell_type": "code",
   "execution_count": 94,
   "id": "1d1d467b",
   "metadata": {},
   "outputs": [
    {
     "name": "stdout",
     "output_type": "stream",
     "text": [
      "Calling __or__: A | B\n"
     ]
    },
    {
     "data": {
      "text/plain": [
       "'A | B'"
      ]
     },
     "execution_count": 94,
     "metadata": {},
     "output_type": "execute_result"
    }
   ],
   "source": [
    "obja | \"B\""
   ]
  },
  {
   "cell_type": "code",
   "execution_count": 95,
   "id": "c106220e",
   "metadata": {},
   "outputs": [
    {
     "name": "stdout",
     "output_type": "stream",
     "text": [
      "Calling __ror__: B A\n"
     ]
    },
    {
     "data": {
      "text/plain": [
       "'B | A'"
      ]
     },
     "execution_count": 95,
     "metadata": {},
     "output_type": "execute_result"
    }
   ],
   "source": [
    "\"B\" | obja"
   ]
  },
  {
   "cell_type": "code",
   "execution_count": 117,
   "id": "06cd42eb",
   "metadata": {},
   "outputs": [],
   "source": [
    "class PipeDemo:\n",
    "    \"\"\"\n",
    "    PipeDemo allows chaining operations using |\n",
    "    \"\"\"\n",
    "    def __init__(self, value):\n",
    "        self.value = value\n",
    "\n",
    "    def __repr__(self):\n",
    "        # string representation for debugging and printing\n",
    "        return f\"PipeDemo({self.value})\"\n",
    "\n",
    "    def __or__(self, other):\n",
    "        # Implement | operator for left-side operations (self | other). Used when PipeDemo appears on the left side of |\n",
    "        if callable(other):\n",
    "            return PipeDemo(other(self.value))\n",
    "        elif isinstance(other, PipeDemo):\n",
    "            return PipeDemo([self.value, other.value])\n",
    "        else:\n",
    "            return PipeDemo([self.value, other])\n",
    "    \n",
    "    def __ror__(self, other):\n",
    "        # Implement | operator for right-sdie operations (other | self). \n",
    "        # Used when PipeDemo appears on the right side of | and left operand doesn't have its own __or__ method\n",
    "        if callable(other):\n",
    "            return PipeDemo(other(self.value))\n",
    "        else:\n",
    "            return PipeDemo([other, self.value])"
   ]
  },
  {
   "cell_type": "code",
   "execution_count": null,
   "id": "a39414fd",
   "metadata": {},
   "outputs": [],
   "source": [
    "def double(x):\n",
    "    return x * 2\n",
    "\n",
    "def add_ten(x):\n",
    "    return x + 10\n",
    "    \n",
    "def to_string(x):\n",
    "    return f\"Result: {x}\""
   ]
  },
  {
   "cell_type": "code",
   "execution_count": 122,
   "id": "d945401d",
   "metadata": {},
   "outputs": [
    {
     "data": {
      "text/plain": [
       "PipeDemo(Result: 22)"
      ]
     },
     "execution_count": 122,
     "metadata": {},
     "output_type": "execute_result"
    }
   ],
   "source": [
    "double | PipeDemo(3) | double | add_ten | to_string"
   ]
  },
  {
   "cell_type": "markdown",
   "id": "4c4d6f68",
   "metadata": {},
   "source": [
    "# Another example of Runnable through __or__"
   ]
  },
  {
   "cell_type": "code",
   "execution_count": 31,
   "id": "6f77f9ce",
   "metadata": {},
   "outputs": [],
   "source": [
    "from abc import ABC, abstractmethod\n",
    "\n",
    "class CRunnable(ABC):\n",
    "    def __init__(self):\n",
    "        print(\"In CRunnable init\")\n",
    "        self.next = None\n",
    "    \n",
    "    @abstractmethod\n",
    "    def process(self, data):\n",
    "        \"\"\"\n",
    "        This method must be implemented by subclasses to define data processing behavior.\n",
    "        \"\"\"\n",
    "        print(\"In CRunnable process\")\n",
    "        pass\n",
    "\n",
    "    def invoke(self, data):\n",
    "        \"\"\"\n",
    "        invoke from CRunnable\n",
    "        \"\"\"\n",
    "        print(\"In CRunnable invoke\")\n",
    "        processed_data = self.process(data)\n",
    "        if self.next is not None:\n",
    "            print(\"self.next is not None\")\n",
    "            return self.next.invoke(processed_data)\n",
    "        print(f\"returning processed_data as {processed_data}\")\n",
    "        return processed_data\n",
    "    \n",
    "    def __or__(self, other):\n",
    "        \"\"\"\n",
    "        __or__ implementation from CRunnable\n",
    "        \"\"\"\n",
    "        print(\"In CRunnable __or__\")\n",
    "        return CRunnableSequence(self, other)\n",
    "    \n",
    "class CRunnableSequence(CRunnable):\n",
    "    def __init__(self, first, second):\n",
    "        super().__init__()\n",
    "        print(f\"first = {first} second = {second}\")\n",
    "        self.first = first\n",
    "        self.second = second\n",
    "\n",
    "    def process(self, data):\n",
    "        print(\"In CRunnableSequence process\")\n",
    "        return data\n",
    "    \n",
    "    def invoke(self, data):\n",
    "        \"\"\"\n",
    "        invoke from CRunnableSequence\n",
    "        \"\"\"\n",
    "        print(\"In CRunnableSequence invoke\")\n",
    "        first_result = self.first.invoke(data)\n",
    "        return self.second.invoke(first_result)"
   ]
  },
  {
   "cell_type": "code",
   "execution_count": 32,
   "id": "0dfbea5e",
   "metadata": {},
   "outputs": [],
   "source": [
    "class AddTen(CRunnable):\n",
    "    def process(self, data):\n",
    "        print(\"AddTen: \", data)\n",
    "        return data + 10\n",
    "\n",
    "class MultiplyByTwo(CRunnable):\n",
    "    def process(self, data):\n",
    "        print(\"Multiply by 2: \", data)\n",
    "        return data * 2\n",
    "\n",
    "class ConvertToString(CRunnable):\n",
    "    def process(self, data):\n",
    "        print(\"Convert to string: \", data)\n",
    "        return f\"Result: {data}\""
   ]
  },
  {
   "cell_type": "code",
   "execution_count": 40,
   "id": "1f7d2a3e",
   "metadata": {},
   "outputs": [
    {
     "name": "stdout",
     "output_type": "stream",
     "text": [
      "In CRunnable init\n",
      "In CRunnable init\n",
      "In CRunnable __or__\n",
      "In CRunnable init\n",
      "first = <__main__.AddTen object at 0x103e47f50> second = <__main__.MultiplyByTwo object at 0x103e45670>\n",
      " chain = <__main__.CRunnableSequence object at 0x103e451c0>, type(chain) = <class '__main__.CRunnableSequence'>\n",
      "------------------------------------------------------------------------------------------------------------------------------------------------------------------------------------\n",
      "In CRunnableSequence invoke\n",
      "In CRunnable invoke\n",
      "AddTen:  10\n",
      "returning processed_data as 20\n",
      "In CRunnable invoke\n",
      "Multiply by 2:  20\n",
      "returning processed_data as 40\n"
     ]
    }
   ],
   "source": [
    "a = AddTen()\n",
    "b = MultiplyByTwo()\n",
    "\n",
    "chain = a | b\n",
    "print(f\" chain = {chain}, type(chain) = {type(chain)}\")\n",
    "print(\"------\" * 30)\n",
    "result = chain.invoke(10)"
   ]
  },
  {
   "cell_type": "markdown",
   "id": "64bb609c",
   "metadata": {},
   "source": [
    "## Agents Course from Huggingface \n",
    "### What are Tools?\n",
    "### Auto-formatting Tool sections"
   ]
  },
  {
   "cell_type": "code",
   "execution_count": 31,
   "id": "e1a98d07",
   "metadata": {},
   "outputs": [
    {
     "name": "stdout",
     "output_type": "stream",
     "text": [
      "signature =  (a: int, b: int)\n",
      "('type(signature) = ', <class 'inspect.Signature'>)\n",
      "{\n",
      "    \"parameters\": {\n",
      "        \"a\": \"a: int\",\n",
      "        \"b\": \"b: int\"\n",
      "    },\n",
      "    \"return_annotation\": \"<class 'inspect._empty'>\"\n",
      "}\n",
      "In tool def\n",
      "signature =  (location: str, unit: str = 'celsius') -> dict\n",
      "('type(signature) = ', <class 'inspect.Signature'>)\n",
      "{\n",
      "    \"parameters\": {\n",
      "        \"location\": \"location: str\",\n",
      "        \"unit\": \"unit: str = 'celsius'\"\n",
      "    },\n",
      "    \"return_annotation\": \"<class 'dict'>\"\n",
      "}\n",
      "In tool def\n",
      "a*b = \n"
     ]
    }
   ],
   "source": [
    "# Define decorator @tool to auto-extract the relevant portion in the string format necessary for model tool call\n",
    "import inspect\n",
    "import json\n",
    "\n",
    "class Tool:\n",
    "    \"\"\"\n",
    "    A class representing a reusable piece of code (Tool).DS_Store\n",
    "\n",
    "    Attributes:\n",
    "        name (str): The name of the tool\n",
    "        description (str): A textual description of what the tool does.\n",
    "        func (callable): The function this tool wraps.\n",
    "        arguments (list): A list of arguments this tool accepts.\n",
    "        outputs (str or list): The return type(s) of the wrapped function.\n",
    "    \"\"\"\n",
    "    def __init__(self,\n",
    "                 name: str,\n",
    "                 description: str,\n",
    "                 func: callable,\n",
    "                 arguments: list,\n",
    "                 outputs: str):\n",
    "        self.name = name\n",
    "        self.description = description\n",
    "        self.func = func\n",
    "        self.arguments = arguments\n",
    "        self.outputs = outputs\n",
    "\n",
    "    def to_string(self) -> str:\n",
    "        \"\"\"\n",
    "        Return a string representation of the tool,\n",
    "        including its name, description, arguments, and outputs\n",
    "        \"\"\"\n",
    "        args_str = \", \".join([f\"{arg_name} : {arg_type}\" for arg_name, arg_type in self.arguments])\n",
    "\n",
    "        return(f\"Tool Name: {self.name}, \"\n",
    "               f\"Description: {self.description}, \"\n",
    "               f\"Arguments: {args_str}, \"\n",
    "               f\"Outputs: {self.outputs}\")\n",
    "\n",
    "    def __call__(self, *args, **kwargs):\n",
    "        \"\"\"\n",
    "        Invoke the underlying function (callable) with provided arguments\n",
    "        \"\"\"\n",
    "        self.func(*args, **kwargs)\n",
    "        return self\n",
    "\n",
    "# @tool decortor\n",
    "def tool(func):\n",
    "    \"\"\"\n",
    "    A decorator that creates a Tool instance from the given function.\n",
    "    \"\"\"\n",
    "    # Get the function signature\n",
    "    signature = inspect.signature(func)\n",
    "    print(\"signature = \", signature)  \n",
    "    print((\"type(signature) = \", type(signature)))  \n",
    "    # Convert the signature to a dictionary\n",
    "    signature_dict = {\n",
    "        \"parameters\": {k: str(v) for k, v in signature.parameters.items()},\n",
    "        \"return_annotation\": str(signature.return_annotation)\n",
    "    }\n",
    "    # Dump the dictionary to a JSON string\n",
    "    signature_json = json.dumps(signature_dict, indent=4)\n",
    "    print(signature_json)\n",
    "\n",
    "    # Extract (param_name, parameter_annotation) pairs for inputs\n",
    "    arguments = []\n",
    "    for param in signature.parameters.values():\n",
    "        annotation_name = (\n",
    "            param.annotation.__name__\n",
    "            if hasattr(param.annotation, \"__name__\")\n",
    "            else str(param.annotation)  \n",
    "        )\n",
    "        arguments.append((param.name, annotation_name))\n",
    "\n",
    "    # Determine the return annotation\n",
    "    return_annotation = signature.return_annotation\n",
    "    if return_annotation is inspect._empty:\n",
    "        outputs = \"No return annotation\"\n",
    "    else:\n",
    "        outputs = (\n",
    "            return_annotation.__name__\n",
    "            if hasattr(return_annotation, \"__name__\")\n",
    "            else str(return_annotation)\n",
    "        )\n",
    "\n",
    "    # Use the functions's docstring as the description (default if None)\n",
    "    description = func.__doc__.replace('\\n',' ') or \"No description\"\n",
    "\n",
    "    # The function name becomes the Tool name\n",
    "    name = func.__name__\n",
    "    print(\"In tool def\")\n",
    "    # Return a new Tool instance\n",
    "    return Tool (\n",
    "        name=name,\n",
    "        description=description,\n",
    "        func=func,\n",
    "        arguments=arguments,\n",
    "        outputs=outputs\n",
    "    )\n",
    "\n",
    "@tool\n",
    "def calculator(a: int, b: int):\n",
    "    \"\"\"\n",
    "    Multiply two integers\n",
    "    \"\"\"\n",
    "    print(\"a*b = \")\n",
    "    return a * b\n",
    "\n",
    "@tool\n",
    "def get_weather(location: str, unit: str = \"celsius\") -> dict:\n",
    "    \"\"\"\n",
    "    simulate weather API call\n",
    "    \"\"\"\n",
    "    return {\"temperature\": 18, \"condition\": \"cloudy\"}\n",
    "\n",
    "# instance_tool_calc = Tool(\"Calculator\", \"Multiply two integers\", calculator, [(\"a\", \"int\"), (\"b\", \"int\")], \"int\")\n",
    "#print(instance_tool_calc.to_string())\n",
    "\n",
    "calc = calculator(2, 3)\n",
    "\n",
    "#print(calculator.to_string())\n",
    "#print(get_weather.to_string())"
   ]
  }
 ],
 "metadata": {
  "kernelspec": {
   "display_name": ".venv",
   "language": "python",
   "name": "python3"
  },
  "language_info": {
   "codemirror_mode": {
    "name": "ipython",
    "version": 3
   },
   "file_extension": ".py",
   "mimetype": "text/x-python",
   "name": "python",
   "nbconvert_exporter": "python",
   "pygments_lexer": "ipython3",
   "version": "3.12.7"
  }
 },
 "nbformat": 4,
 "nbformat_minor": 5
}
