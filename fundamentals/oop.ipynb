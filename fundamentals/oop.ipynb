{
 "cells": [
  {
   "cell_type": "markdown",
   "id": "ffd2bd4c",
   "metadata": {},
   "source": [
    "Virtual functions\n",
    "@classmethod => receives cls\n",
    "@staticmethod\n",
    "@property\n",
    "super()\n",
    "overriding\n",
    "@abstarctmethod"
   ]
  }
 ],
 "metadata": {
  "kernelspec": {
   "display_name": ".venv",
   "language": "python",
   "name": "python3"
  },
  "language_info": {
   "codemirror_mode": {
    "name": "ipython",
    "version": 3
   },
   "file_extension": ".py",
   "mimetype": "text/x-python",
   "name": "python",
   "nbconvert_exporter": "python",
   "pygments_lexer": "ipython3",
   "version": "3.12.7"
  }
 },
 "nbformat": 4,
 "nbformat_minor": 5
}
