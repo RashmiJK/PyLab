{
 "cells": [
  {
   "cell_type": "markdown",
   "id": "7fd4ad85",
   "metadata": {},
   "source": [
    "## Generators \n",
    "Generators solve memory issues by processing large datasets or infinite sequences lazily, yielding items one at a time instead of loading everything into memory. Since Python generators (a type of function or a compact expression) produce a sequence of values lazily, they are memory-efficient and integrate seamlessly with Python's iterator protocol."
   ]
  },
  {
   "cell_type": "code",
   "execution_count": 2,
   "id": "72e0caf3",
   "metadata": {},
   "outputs": [
    {
     "name": "stdout",
     "output_type": "stream",
     "text": [
      "<generator object count_up_to_n at 0x1076a5840>\n",
      "1\n",
      "2\n",
      "3\n",
      "1,2,3,4,5,"
     ]
    }
   ],
   "source": [
    "# yield is the keyword in python to create a generator\n",
    "# a generator is a function that returns an iterator\n",
    "\n",
    "def count_up_to_n(n):\n",
    "    \"\"\"Yield numbers from 1 to n.\"\"\"\n",
    "    count = 1\n",
    "    while count <= n:\n",
    "        yield count\n",
    "        count += 1\n",
    "\n",
    "print(count_up_to_n(5))  # <generator object count_up_to_n at 0x...>\n",
    "count_gen = count_up_to_n(5)\n",
    "print(next(count_gen))  # prints 1\n",
    "print(next(count_gen))  # prints 2\n",
    "print(next(count_gen))  # prints 3\n",
    "for number in count_up_to_n(5):\n",
    "    print(number, end=\",\")  # prints numbers from 1 to 5"
   ]
  },
  {
   "cell_type": "code",
   "execution_count": 3,
   "id": "c76eca05",
   "metadata": {},
   "outputs": [
    {
     "name": "stdout",
     "output_type": "stream",
     "text": [
      "<generator object fibonacci at 0x10787e8e0>\n",
      "0,1,1,2,3,5,8,"
     ]
    }
   ],
   "source": [
    "def fibonacci(n):\n",
    "    \"\"\"Yield Fibonacci numbers up to n.\"\"\"\n",
    "    a, b = 0, 1\n",
    "    while a < n:\n",
    "        yield a\n",
    "        a, b = b, a + b\n",
    "print(fibonacci(10))  # <generator object fibonacci at 0x...>\n",
    "for number in fibonacci(10):\n",
    "    print(number, end=\",\")  # prints Fibonacci numbers less than 10"
   ]
  },
  {
   "cell_type": "code",
   "execution_count": 16,
   "id": "0ea21a07",
   "metadata": {},
   "outputs": [
    {
     "name": "stdout",
     "output_type": "stream",
     "text": [
      "[0, 1, 4, 9, 16, 25, 36, 49, 64, 81]\n",
      "0,1,4,9,16,25,36,49,64,81,"
     ]
    }
   ],
   "source": [
    "## Generator expression\n",
    "# Similar to list comprehension but uses parentheses instead of brackets\n",
    "\n",
    "# List comprehension\n",
    "squares_l = [x**2 for x in range(10)]\n",
    "print(squares_l)\n",
    "\n",
    "squares_gen = (x**2 for x in range(10))\n",
    "squares_gen\n",
    "for number in squares_gen:\n",
    "    print(number, end=\",\")  # prints squares of numbers from 0 to 9\n",
    "# Generator expressions are more memory efficient than list comprehensions\n",
    "# because they generate items on the fly instead of storing them in memory"
   ]
  },
  {
   "cell_type": "markdown",
   "id": "4fdda305",
   "metadata": {},
   "source": [
    "## Difference between generator and iterator\n",
    "Traditional iterators in Python require defining classes with explicit `__iter__()` and `__next__()` methods, which involve significant boilerplate code and manual state management. In contrast, generator functions simplify this process by automatically handling state preservation and eliminating the need for these methods.\n",
    "\n",
    "|Iterator|Generator |\n",
    "|--------|----------|\n",
    "|Created manually using a class with __iter__ and __next__| Usig a function with yield or generator expression|\n",
    "|Verbose and more boilerplate|Clean and concise|\n",
    "|High memory usage|Low memory usage, produces values lazily, suitable for large data streams|\n"
   ]
  },
  {
   "cell_type": "code",
   "execution_count": 5,
   "id": "f5a3f8dd",
   "metadata": {},
   "outputs": [
    {
     "name": "stdout",
     "output_type": "stream",
     "text": [
      "Memory usage of iterator function: current = 0.006013 MB, peak = 0.397824 MB\n",
      "Memory usage of generator function: current = 0.000942 MB, peak = 0.019457 MB\n"
     ]
    }
   ],
   "source": [
    "import tracemalloc\n",
    "\n",
    "def iterator_function():\n",
    "    my_list = iter([x for x in range (10**4)])\n",
    "    return sum(my_list)\n",
    "\n",
    "def generator_function():\n",
    "    my_list = (x for x in range (10**4))\n",
    "    return sum(my_list)\n",
    "\n",
    "# tracemalloc is a built-in library to trace memory usage\n",
    "tracemalloc.start()\n",
    "iter_sum = iterator_function()\n",
    "current, peak = tracemalloc.get_traced_memory()\n",
    "print(f\"Memory usage of iterator function: current = {current / 10**6} MB, peak = {peak / 10**6} MB\")\n",
    "tracemalloc.stop()\n",
    "\n",
    "tracemalloc.start()\n",
    "gen_sum = generator_function()\n",
    "current, peak = tracemalloc.get_traced_memory()\n",
    "print(f\"Memory usage of generator function: current = {current / 10**6} MB, peak = {peak / 10**6} MB\")\n",
    "tracemalloc.stop()"
   ]
  },
  {
   "cell_type": "code",
   "execution_count": 1,
   "id": "f7038df2",
   "metadata": {},
   "outputs": [
    {
     "name": "stdout",
     "output_type": "stream",
     "text": [
      "0\n",
      "1\n",
      "1\n",
      "2\n",
      "3\n",
      "5\n",
      "8\n",
      "13\n",
      "21\n",
      "34\n"
     ]
    }
   ],
   "source": [
    "## Generator handling infinite sequences\n",
    "def fibonacci():\n",
    "    a, b = 0, 1\n",
    "    while True: # Note this infinite loop\n",
    "        yield a\n",
    "        a, b = b, a + b\n",
    "\n",
    "# Usage\n",
    "fib = fibonacci()\n",
    "for _ in range(10):\n",
    "    print(next(fib))"
   ]
  },
  {
   "cell_type": "code",
   "execution_count": 2,
   "id": "f620aaa2",
   "metadata": {},
   "outputs": [
    {
     "name": "stdout",
     "output_type": "stream",
     "text": [
      "55\n"
     ]
    }
   ],
   "source": [
    "print(next(fib))"
   ]
  },
  {
   "cell_type": "code",
   "execution_count": 3,
   "id": "41b22550",
   "metadata": {},
   "outputs": [
    {
     "name": "stdout",
     "output_type": "stream",
     "text": [
      "89\n",
      "144\n"
     ]
    }
   ],
   "source": [
    "for _ in range(2):\n",
    "    print(next(fib))"
   ]
  },
  {
   "cell_type": "code",
   "execution_count": null,
   "id": "c9943dbe",
   "metadata": {},
   "outputs": [],
   "source": [
    "## Example of Generators in AI Response Streaming\n",
    "## client.chat.completions.create with Stream=True returns a generator that yields events as the response is being streamed.\n",
    "\n",
    "import os\n",
    "from dotenv import load_dotenv\n",
    "from openai import OpenAI\n",
    "\n",
    "load_dotenv()\n",
    "\n",
    "client = OpenAI(\n",
    "    base_url = \"https://models.inference.ai.azure.com\",\n",
    "    api_key = os.getenv(\"GITHUB_TOKEN\"),\n",
    ")\n",
    "\n",
    "response = client.chat.completions.create(\n",
    "    messages=[\n",
    "        {\n",
    "            \"role\": \"system\",\n",
    "            \"content\": \"You are a helpful assistant.\",\n",
    "        },\n",
    "        {\n",
    "            \"role\": \"user\",\n",
    "            \"content\": \"Write a 5 paragraph practical story involving AI solving world's political problem.\",\n",
    "        }\n",
    "    ],\n",
    "    temperature=1.0,\n",
    "    top_p=1.0,\n",
    "    max_tokens=1000,\n",
    "    model=\"gpt-4o-mini\",\n",
    "    stream=True\n",
    ")\n",
    "\n",
    "for event in response: # This is a generator that yields events\n",
    "    if event.choices:\n",
    "        content = event.choices[0].delta.content\n",
    "        if content:\n",
    "            print(content, end=\"\", flush=True)\n",
    "print(\"\\n\")"
   ]
  }
 ],
 "metadata": {
  "kernelspec": {
   "display_name": ".venv",
   "language": "python",
   "name": "python3"
  },
  "language_info": {
   "codemirror_mode": {
    "name": "ipython",
    "version": 3
   },
   "file_extension": ".py",
   "mimetype": "text/x-python",
   "name": "python",
   "nbconvert_exporter": "python",
   "pygments_lexer": "ipython3",
   "version": "3.12.7"
  }
 },
 "nbformat": 4,
 "nbformat_minor": 5
}
