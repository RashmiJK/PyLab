{
 "cells": [
  {
   "cell_type": "code",
   "execution_count": null,
   "id": "64956b86",
   "metadata": {},
   "outputs": [],
   "source": [
    "num = 42\n",
    "print(\"{:b}\".format(num))  # '101010'\n",
    "print(\"{:o}\".format(num))  # '52'\n",
    "print(\"{:x}\".format(num))  # '2a'\n",
    "print(\"{:X}\".format(num))  # '2A'"
   ]
  },
  {
   "cell_type": "code",
   "execution_count": null,
   "id": "3ede5a1e",
   "metadata": {},
   "outputs": [],
   "source": [
    "num = 42\n",
    "\n",
    "binary = format(num, 'b')  # Binary\n",
    "octal = format(num, 'o')   # Octal\n",
    "hexadecimal = format(num, 'x')  # Hexadecimal (lowercase)\n",
    "uppercase_hexadecimal = format(num, 'X')  # Hexadecimal (uppercase)\n",
    "\n",
    "print(binary)              # '101010'\n",
    "print(octal)               # '52'\n",
    "print(hexadecimal)         # '2a'\n",
    "print(uppercase_hexadecimal)  # '2A'"
   ]
  }
 ],
 "metadata": {
  "language_info": {
   "name": "python"
  }
 },
 "nbformat": 4,
 "nbformat_minor": 5
}
