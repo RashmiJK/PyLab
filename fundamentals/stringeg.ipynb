{
 "cells": [
  {
   "cell_type": "code",
   "execution_count": 1,
   "id": "64956b86",
   "metadata": {},
   "outputs": [
    {
     "name": "stdout",
     "output_type": "stream",
     "text": [
      "101010\n",
      "52\n",
      "2a\n",
      "2A\n"
     ]
    }
   ],
   "source": [
    "num = 42\n",
    "print(\"{:b}\".format(num))  # '101010'\n",
    "print(\"{:o}\".format(num))  # '52'\n",
    "print(\"{:x}\".format(num))  # '2a'\n",
    "print(\"{:X}\".format(num))  # '2A'"
   ]
  },
  {
   "cell_type": "code",
   "execution_count": 2,
   "id": "3ede5a1e",
   "metadata": {},
   "outputs": [
    {
     "name": "stdout",
     "output_type": "stream",
     "text": [
      "101010\n",
      "52\n",
      "2a\n",
      "2A\n"
     ]
    }
   ],
   "source": [
    "num = 42\n",
    "\n",
    "binary = format(num, 'b')  # Binary\n",
    "octal = format(num, 'o')   # Octal\n",
    "hexadecimal = format(num, 'x')  # Hexadecimal (lowercase)\n",
    "uppercase_hexadecimal = format(num, 'X')  # Hexadecimal (uppercase)\n",
    "\n",
    "print(binary)              # '101010'\n",
    "print(octal)               # '52'\n",
    "print(hexadecimal)         # '2a'\n",
    "print(uppercase_hexadecimal)  # '2A'"
   ]
  }
 ],
 "metadata": {
  "kernelspec": {
   "display_name": ".venv",
   "language": "python",
   "name": "python3"
  },
  "language_info": {
   "codemirror_mode": {
    "name": "ipython",
    "version": 3
   },
   "file_extension": ".py",
   "mimetype": "text/x-python",
   "name": "python",
   "nbconvert_exporter": "python",
   "pygments_lexer": "ipython3",
   "version": "3.12.7"
  }
 },
 "nbformat": 4,
 "nbformat_minor": 5
}
