{
 "cells": [
  {
   "cell_type": "markdown",
   "id": "a577aa67",
   "metadata": {},
   "source": [
    "# Python is an interpreted language\n",
    "\n",
    "An interpreter is a program that directly executes instructions written in a programming or scripting language without requiring them to be compiled into machine code. This means that Python code is executed line by line, making it easier to debug and test code interactively.\n",
    "\n",
    "In contrast, a compiler translates the entire source code of a program into machine code before execution. This machine code is then executed by the computer's processor. Compiled languages, such as C or C++, generally have faster execution times compared to interpreted languages because the translation step is done beforehand.\n",
    "\n",
    "However, interpreted languages like Python offer greater flexibility, ease of use, and faster development cycles, making them ideal for scripting, prototyping, and applications where execution speed is not the primary concern.\n",
    "\n",
    "Additionally, Python is dynamically typed, meaning variable types can change during runtime. This contrasts with statically typed languages like C and C++, where variable types must be defined in advance."
   ]
  },
  {
   "cell_type": "code",
   "execution_count": 1,
   "id": "7dc5dad2",
   "metadata": {},
   "outputs": [
    {
     "name": "stdout",
     "output_type": "stream",
     "text": [
      "5 10.1 Great Lakes\n"
     ]
    }
   ],
   "source": [
    "# Assign multiple objects to multiple variables\n",
    "a,b,c = 5,10.1,\"Great Lakes\"\n",
    "print(a,b,c)"
   ]
  },
  {
   "cell_type": "markdown",
   "id": "f9c28ee0",
   "metadata": {},
   "source": [
    "### Data types - Numbers, Strings, Boolean, Lists, Tuples, Dictionaries, Sets\n",
    "\n",
    "Strings => +, *, slicing, immutabe, \n"
   ]
  },
  {
   "cell_type": "code",
   "execution_count": null,
   "id": "8f30fadb",
   "metadata": {},
   "outputs": [],
   "source": [
    "float(\"abc\")"
   ]
  },
  {
   "cell_type": "code",
   "execution_count": 3,
   "id": "b063a875",
   "metadata": {},
   "outputs": [
    {
     "data": {
      "text/plain": [
       "11.0"
      ]
     },
     "execution_count": 3,
     "metadata": {},
     "output_type": "execute_result"
    }
   ],
   "source": [
    "float(\"11\")"
   ]
  },
  {
   "cell_type": "code",
   "execution_count": null,
   "id": "535938d0",
   "metadata": {},
   "outputs": [
    {
     "name": "stdout",
     "output_type": "stream",
     "text": [
      "FEDCBA\n",
      "AB\n"
     ]
    }
   ],
   "source": [
    "# Reverse a string using slicing\n",
    "str1 = \"ABCDEF\"\n",
    "reversed_str1 = str1[::-1]\n",
    "print(reversed_str1)"
   ]
  },
  {
   "cell_type": "markdown",
   "id": "b6165be3",
   "metadata": {},
   "source": [
    "### Print() Syntax:\n",
    "\n",
    "     print(*objects, sep=' ', end='\\n', file=sys.stdout, flush=False)\n",
    "     print() Parameters:\n",
    "     **objects** - object to be printed. * indicates that there may be more than one object\n",
    "sep - objects are separated by sep. Default value: ' '<br>\n",
    "end - end is printed at last <br>\n",
    "file - must be an object with write(string) method. If omitted it, sys.stdout will be used which prints objects on the screen. <br>\n",
    "flush - If True, the stream is forcibly flushed. Default value: False<br><br>"
   ]
  },
  {
   "cell_type": "markdown",
   "id": "8abe7e2e",
   "metadata": {},
   "source": [
    "### Built-in methods of **List**\n",
    "append()  \n",
    "insert()  \n",
    "extend()  \n",
    "del  => Operator del approach to delete am element  \n",
    "remove()  \n",
    "pop()  \n",
    "reverse()  \n",
    "\n",
    "Combine lists using concatenation(+)  \n",
    "Repetition using(*)"
   ]
  }
 ],
 "metadata": {
  "kernelspec": {
   "display_name": ".venv",
   "language": "python",
   "name": "python3"
  },
  "language_info": {
   "codemirror_mode": {
    "name": "ipython",
    "version": 3
   },
   "file_extension": ".py",
   "mimetype": "text/x-python",
   "name": "python",
   "nbconvert_exporter": "python",
   "pygments_lexer": "ipython3",
   "version": "3.12.7"
  }
 },
 "nbformat": 4,
 "nbformat_minor": 5
}
