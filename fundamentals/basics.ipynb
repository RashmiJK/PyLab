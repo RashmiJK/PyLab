{
 "cells": [
  {
   "cell_type": "markdown",
   "id": "a577aa67",
   "metadata": {},
   "source": [
    "# Python is an interpreted language\n",
    "\n",
    "An interpreter is a program that directly executes instructions written in a programming or scripting language without requiring them to be compiled into machine code. This means that Python code is executed line by line, making it easier to debug and test code interactively.\n",
    "\n",
    "In contrast, a compiler translates the entire source code of a program into machine code before execution. This machine code is then executed by the computer's processor. Compiled languages, such as C or C++, generally have faster execution times compared to interpreted languages because the translation step is done beforehand.\n",
    "\n",
    "However, interpreted languages like Python offer greater flexibility, ease of use, and faster development cycles, making them ideal for scripting, prototyping, and applications where execution speed is not the primary concern.\n",
    "\n",
    "Additionally, Python is dynamically typed, meaning variable types can change during runtime. This contrasts with statically typed languages like C and C++, where variable types must be defined in advance."
   ]
  },
  {
   "cell_type": "markdown",
   "id": "f9c28ee0",
   "metadata": {},
   "source": [
    "## Fundamental Data types - Numbers, Strings, Boolean"
   ]
  },
  {
   "cell_type": "code",
   "execution_count": 6,
   "id": "f2a07969",
   "metadata": {},
   "outputs": [
    {
     "name": "stdout",
     "output_type": "stream",
     "text": [
      "5 10.1 Great Lakes\n"
     ]
    }
   ],
   "source": [
    "# Assign multiple objects to multiple variables\n",
    "a,b,c = 5,10.1,\"Great Lakes\"\n",
    "print(a,b,c)"
   ]
  },
  {
   "cell_type": "code",
   "execution_count": null,
   "id": "8f30fadb",
   "metadata": {},
   "outputs": [],
   "source": [
    "float(\"abc\")"
   ]
  },
  {
   "cell_type": "code",
   "execution_count": 3,
   "id": "b063a875",
   "metadata": {},
   "outputs": [
    {
     "data": {
      "text/plain": [
       "11.0"
      ]
     },
     "execution_count": 3,
     "metadata": {},
     "output_type": "execute_result"
    }
   ],
   "source": [
    "float(\"11\")"
   ]
  },
  {
   "cell_type": "markdown",
   "id": "2359e603",
   "metadata": {},
   "source": [
    "### String methods\n",
    "\n",
    "Strings => +, *, slicing, immutable\n",
    "\n",
    "| Sl no | String method      | Remarks and examples |\n",
    "|-------|--------------------|---------------------|\n",
    "| 1     | `capitalize()`     | Capitalizes first character: `'hello'.capitalize() → 'Hello'` |\n",
    "| 2     | `casefold()`       | Aggressive lowercase for caseless matching: `'HELLO'.casefold() → 'hello'` |\n",
    "| 3     | `center(width)`    | Centers string with padding: `'hi'.center(6, '*') → '**hi**'` |\n",
    "| 4     | `count(sub)`       | Counts occurrences: `'hello'.count('l') → 2` |\n",
    "| 5     | `encode()`         | Encodes to bytes: `'hello'.encode() → b'hello'` |\n",
    "| 6     | `endswith(suffix)` | Checks suffix: `'hello'.endswith('lo') → True` |\n",
    "| 7     | `expandtabs(tabsize)` | Replaces tabs with spaces: `'a\\tb'.expandtabs(4) → 'a   b'` |\n",
    "| 8     | `find(sub)`        | Finds index or -1: `'hello'.find('e') → 1` |\n",
    "| 9     | `format()`         | Formats string: `'{} {}'.format('hi', 5) → 'hi 5'` |\n",
    "| 10    | `format_map(mapping)` | Formats using mapping: `'{x}'.format_map({'x': 1}) → '1'` |\n",
    "| 11    | `index(sub)`       | Finds index or raises error: `'hello'.index('e') → 1` |\n",
    "| 12    | `isalnum()`        | Alphanumeric check: `'abc123'.isalnum() → True` |\n",
    "| 13    | `isalpha()`        | Alphabetic check: `'abc'.isalpha() → True` |\n",
    "| 14    | `isascii()`        | ASCII check: `'abc'.isascii() → True` |\n",
    "| 15    | `isdecimal()`      | Decimal check: `'123'.isdecimal() → True` |\n",
    "| 16    | `isdigit()`        | Digit check: `'123'.isdigit() → True` |\n",
    "| 17    | `isidentifier()`   | Valid identifier: `'var1'.isidentifier() → True` |\n",
    "| 18    | `islower()`        | Lowercase check: `'abc'.islower() → True` |\n",
    "| 19    | `isnumeric()`      | Numeric check: `'123'.isnumeric() → True` |\n",
    "| 20    | `isprintable()`    | Printable check: `'abc'.isprintable() → True` |\n",
    "| 21    | `isspace()`        | Whitespace check: `'   '.isspace() → True` |\n",
    "| 22    | `istitle()`        | Title case check: `'Hello World'.istitle() → True` |\n",
    "| 23    | `isupper()`        | Uppercase check: `'ABC'.isupper() → True` |\n",
    "| 24    | `join(iterable)`   | Joins with separator: `'-'.join(['a','b']) → 'a-b'` |\n",
    "| 25    | `ljust(width)`     | Left-justifies: `'hi'.ljust(5, '*') → 'hi***'` |\n",
    "| 26    | `lower()`          | Converts to lowercase: `'HELLO'.lower() → 'hello'` |\n",
    "| 27    | `lstrip()`         | Removes leading whitespace: `'  hi'.lstrip() → 'hi'` |\n",
    "| 28    | `maketrans()`      | Creates translation table: `str.maketrans('a', 'b')` |\n",
    "| 29    | `partition(sep)`   | Splits at sep: `'a-b-c'.partition('-') → ('a', '-', 'b-c')` |\n",
    "| 30    | `removeprefix(prefix)` | Removes prefix: `'TestHook'.removeprefix('Test') → 'Hook'` |\n",
    "| 31    | `removesuffix(suffix)` | Removes suffix: `'MiscTests'.removesuffix('Tests') → 'Misc'` |\n",
    "| 32    | `replace(old, new)`| Replaces substring: `'hello'.replace('l','x') → 'hexxo'` |\n",
    "| 33    | `rfind(sub)`       | Finds last index or -1: `'hello'.rfind('l') → 3` |\n",
    "| 34    | `rindex(sub)`      | Finds last index or raises error: `'hello'.rindex('l') → 3` |\n",
    "| 35    | `rjust(width)`     | Right-justifies: `'hi'.rjust(5, '*') → '***hi'` |\n",
    "| 36    | `rpartition(sep)`  | Splits at last sep: `'a-b-c'.rpartition('-') → ('a-b', '-', 'c')` |\n",
    "| 37    | `rsplit(sep)`      | Splits from right: `'a,b,c'.rsplit(',', 1) → ['a,b', 'c']` |\n",
    "| 38    | `rstrip()`         | Removes trailing whitespace: `'hi  '.rstrip() → 'hi'` |\n",
    "| 39    | `split(sep)`       | Splits into list: `'a,b,c'.split(',') → ['a', 'b', 'c']` |\n",
    "| 40    | `splitlines()`     | Splits at line breaks: `'a\\nb'.splitlines() → ['a', 'b']` |\n",
    "| 41    | `startswith(prefix)` | Checks prefix: `'hello'.startswith('he') → True` |\n",
    "| 42    | `strip()`          | Removes leading/trailing whitespace: `' hi '.strip() → 'hi'` |\n",
    "| 43    | `swapcase()`       | Swaps case: `'AbC'.swapcase() → 'aBc'` |\n",
    "| 44    | `title()`          | Title case: `'hello world'.title() → 'Hello World'` |\n",
    "| 45    | `translate(table)` | Translates using table: `'abc'.translate(str.maketrans('a','x')) → 'xbc'` |\n",
    "| 46    | `upper()`          | Converts to uppercase: `'hello'.upper() → 'HELLO'` |\n",
    "| 47    | `zfill(width)`     | Pads with zeros: `'42'.zfill(5) → '00042'` |"
   ]
  },
  {
   "cell_type": "code",
   "execution_count": 26,
   "id": "7d26df51",
   "metadata": {},
   "outputs": [
    {
     "name": "stdout",
     "output_type": "stream",
     "text": [
      "ABCDEF\n",
      "ABCABC\n",
      "AB\n"
     ]
    }
   ],
   "source": [
    "print(\"ABC\" + \"DEF\")\n",
    "print(\"ABC\" * 2)\n",
    "print(\"ABCDEF\"[:2])\n",
    "# \"ABCDEF\"[2] = \"Z\" # This will raise an error because strings are immutable"
   ]
  },
  {
   "cell_type": "code",
   "execution_count": 27,
   "id": "636c13b6",
   "metadata": {},
   "outputs": [
    {
     "name": "stdout",
     "output_type": "stream",
     "text": [
      "FEDCBA\n"
     ]
    }
   ],
   "source": [
    "# Reverse a string using slicing\n",
    "str1 = \"ABCDEF\"\n",
    "reversed_str1 = str1[::-1]\n",
    "print(reversed_str1)"
   ]
  },
  {
   "cell_type": "code",
   "execution_count": 106,
   "id": "a1d39440",
   "metadata": {},
   "outputs": [
    {
     "data": {
      "text/plain": [
       "-1"
      ]
     },
     "execution_count": 106,
     "metadata": {},
     "output_type": "execute_result"
    }
   ],
   "source": [
    "string = \"sadbutsad\"\n",
    "string.find(\"mad\")"
   ]
  },
  {
   "cell_type": "markdown",
   "id": "b6165be3",
   "metadata": {},
   "source": [
    "### Print() Syntax:\n",
    "\n",
    "     print(*objects, sep=' ', end='\\n', file=sys.stdout, flush=False)\n",
    "     print() Parameters:\n",
    "     **objects** - object to be printed. * indicates that there may be more than one object\n",
    "sep - objects are separated by sep. Default value: ' '<br>\n",
    "end - end is printed at last <br>\n",
    "file - must be an object with write(string) method. If omitted it, sys.stdout will be used which prints objects on the screen. <br>\n",
    "flush - If True, the stream is forcibly flushed. Default value: False<br><br>"
   ]
  },
  {
   "cell_type": "markdown",
   "id": "71300414",
   "metadata": {},
   "source": [
    "## Data structures in Python - Lists, Tuples, Dictionaries, Sets"
   ]
  },
  {
   "cell_type": "markdown",
   "id": "9d3cc723",
   "metadata": {},
   "source": [
    "### Data structures in Python\n",
    "| Property         | List                          | Tuple                         | Dictionary                          | Set |\n",
    "|-------------------|-------------------------------|-------------------------------|-------------------------------------|------|\n",
    "| Description       | A collection of items of any data type. Ordered. | A collection of items of any data type. Ordered. | A collection of key-value pairs (like a real-world dictionary). Ordered. | A collection of unique, unordered items |\n",
    "| Example           | `X=[\"a\", 2, True, \"b\"]`      | `X=(\"a\", 2, True, \"b\")`       | `X={1:'Jan', 2:'Feb', 3:'Mar'}`     | `X={\"a\", 2, True, \"b\"}` |\n",
    "| Mutability        | Mutable (can be edited)      | Immutable (cannot be edited)  | Mutable (can be edited)             | Mutable (in this case, remove items and add new items) |\n",
    "| Indexing          | Supports indexing            | Supports indexing             | Supports indexing using keys        | Does not support indexing |\n",
    "| Function          | `list()`                     | `tuple()`                     | `dict()`                            | `set()` |\n",
    "| Creation | | | class dict(**kwargs) <br> class dict(mapping, **kwargs) <br> class dict(iterable, **kwargs) | |\n",
    "| Class Methods | append(3) vs append([3]) <br> copy() <br> extend(iterable) <br> insert(pos, val) : before pos <br> reverse() : in place <br> <br> clear() <br> pop(pos/optional) <br> remove(val)  <br> <br> count(val) : return number of occurrences of value <br>  index() : fetch the index of the value mentioned  <br>  <br> sort(key = lambda x : x.lower()) : in place, note parameter 'reverse' | count(val) :returns occurances of val <br> index(val) : search and return index of val| copy() <br> update(iterable) <br> setdefault() <br> fromkeys(iterable, value=None) <br> <br> items() <br> keys()  <br> values() <br> <br> <u> clear() </u> <br> <u> pop(key) :</u> removes item with specified </u> <br> <u> popitem() : </u> removes last inserted item  <br> get()  | <u> add() </u> <br>  <u> update() </u> : update is in-place operation  <br> <u> copy() </u> <br> <br> <u> remove()</u> : raises an exception when an element is missing from the set  <br> <u> discard() </u> : does not raise an exception when an element is missing from the set <br> <u> pop()</u> : removes arbitrary, raises exception on empty set <br> <u> clear() </u> <br><br> <br> difference() <br> difference_update() <br> intersection() <br> intersection_update() <br> isdisjoint() <br> issubset() <br> issuperset()  <br> symmetric_difference() <br> symmetric_difference_update() <br> union()  |\n"
   ]
  },
  {
   "cell_type": "markdown",
   "id": "4527f5e6",
   "metadata": {},
   "source": [
    "### List\n",
    "* append()  => append to the end. \n",
    "* insert()  => add at index. \n",
    "* extend()  \n",
    "* del  => Operator del approach to delete an element  \n",
    "* remove()  => no need to mneion index, just specify a value. \n",
    "* pop()  => pops from end. \n",
    "* reverse()  \n",
    "* Combine lists using concatenation(+)  \n",
    "* Repetition using(*)"
   ]
  },
  {
   "cell_type": "code",
   "execution_count": 7,
   "id": "ef024982",
   "metadata": {},
   "outputs": [
    {
     "name": "stdout",
     "output_type": "stream",
     "text": [
      "[1, 2, 3, 4, 5, 6]\n",
      "[1, 2, 3, 4, 5, 6, [7, 6, 8]]\n",
      "[1, 2, 3, 4, 5, 6, [7, 6, 8], 7, 6, 8]\n",
      "[1, 2, 3, 4, 5, 6, [7, 6, 8], 6, 8]\n",
      "[1, 2, 4, 5, 6, [7, 6, 8], 6, 8]\n",
      "[1, 2, 4, 5, 6, [7, 6, 8], 6, 8, 99, 109]\n",
      "4374287936 4374064576\n",
      "None\n",
      "[109, 99, 8, 6, [7, 6, 8], 6, 5, 4, 2, 1]\n",
      "(109, 99, 8, 6, [7, 6, 8], 6, 5, 4, 2, 1)\n",
      "2\n",
      "3\n",
      "{'a': 0, 'b': 0, 'c': 0}\n",
      "{}\n",
      "{'a': 111, 'b': 111, 'c': 111}\n",
      "999 <class 'int'>\n",
      "dict_items([('a', 111), ('b', 111), ('c', 111)]) <class 'dict_items'>\n",
      "key[a] = 111\n",
      "key[b] = 111\n",
      "key[c] = 111\n",
      "dict_keys(['a', 'b', 'c']) <class 'dict_keys'>\n",
      "key[a] = 111\n",
      "key[b] = 111\n",
      "key[c] = 111\n",
      "dict_values([111, 111, 111]) <class 'dict_values'>\n",
      "{'a': 100, 'b': 200, 'c': 111}\n",
      "100\n",
      "{'b': 200, 'c': 111}\n",
      "('c', 111)\n",
      "{'b': 200}\n"
     ]
    }
   ],
   "source": [
    "# list\n",
    "list1 = [1,2,3,4,5]\n",
    "list1.append(6)\n",
    "print(list1)\n",
    "list1.append([7,6,8])\n",
    "print(list1)\n",
    "list1.extend([7,6,8])\n",
    "print(list1)\n",
    "list1.remove(7)\n",
    "print(list1)\n",
    "list1.pop(2)\n",
    "print(list1)\n",
    "list1.extend((99,109))\n",
    "print(list1)\n",
    "list2 = list1.copy()\n",
    "print(id(list1), id(list2))\n",
    "print(list1.reverse())\n",
    "print(list1)\n",
    "\n",
    "my_tuple = tuple(list1)\n",
    "print(my_tuple)\n",
    "print(my_tuple.count(6))\n",
    "print(my_tuple.index(6))\n",
    "\n",
    "my_dict = dict.fromkeys([\"a\", \"b\", \"c\"], 0)\n",
    "print(my_dict)\n",
    "my_dict.clear()\n",
    "print(my_dict)\n",
    "my_dict = dict.fromkeys([\"a\", \"b\", \"c\"], 111)\n",
    "print(my_dict)\n",
    "print(my_dict.get(\"z\", 999), type(my_dict.get(\"a\"))) # can avoid key error, my_dict[\"z\"]\n",
    "print(my_dict.items(), type(my_dict.items()))\n",
    "for x, y in my_dict.items():\n",
    "    print(f\"key[{x}] = {y}\")\n",
    "print(my_dict.keys(), type(my_dict.keys()))\n",
    "for x in my_dict.keys():\n",
    "    print(f\"key[{x}] = {my_dict[x]}\")\n",
    "print(my_dict.values(), type(my_dict.values()))\n",
    "my_dict.update({\"a\": 100, \"b\": 200})\n",
    "print(my_dict)\n",
    "print(my_dict.pop(\"a\"))\n",
    "print(my_dict)\n",
    "print(my_dict.popitem())\n",
    "print(my_dict)\n"
   ]
  },
  {
   "cell_type": "code",
   "execution_count": 28,
   "id": "3968ae56",
   "metadata": {},
   "outputs": [
    {
     "name": "stdout",
     "output_type": "stream",
     "text": [
      "mylist has 5 elements and minimum number in the list is 1 and maximum number is 5\n",
      "0 => 1\n",
      "1 => 2\n",
      "2 => 3\n",
      "3 => 4\n",
      "4 => 5\n",
      "[1, 2, 3, 4, 5]\n"
     ]
    }
   ],
   "source": [
    "mylist = [1,2,3,4,5]\n",
    "print(f\"mylist has {len(mylist)} elements and minimum number in the list is {min(mylist)} and maximum number is {max(mylist)}\")\n",
    "for i in range(len(mylist)):\n",
    "    print(i, \"=>\", mylist[i])\n",
    "print(mylist[0:5])"
   ]
  },
  {
   "cell_type": "code",
   "execution_count": 29,
   "id": "0a00c1c3",
   "metadata": {},
   "outputs": [
    {
     "name": "stdout",
     "output_type": "stream",
     "text": [
      "['Great', -54, 11]\n",
      "['Great', -54, 11, 12]\n",
      "[11]\n"
     ]
    }
   ],
   "source": [
    "x = [10, \"Range\", \"Great\", -54, 11, 12]\n",
    "print(x[2:-1])\n",
    "print(x[2:])\n",
    "print(x[-2:-1])"
   ]
  },
  {
   "cell_type": "code",
   "execution_count": 30,
   "id": "fc3ce92a",
   "metadata": {},
   "outputs": [
    {
     "name": "stdout",
     "output_type": "stream",
     "text": [
      "a =>  [1, 2, 3, 4]\n",
      "b =>  [1, 2, 3, 4]\n",
      "a =>  [1, 2, 3, 4, 6]\n",
      "b =>  [1, 2, 3, 4, 6]\n",
      "c =>  [1, 2, 3, 4, 6]\n",
      "a =>  [1, 2, 3, 4, 6, 7]\n",
      "c =>  [1, 2, 3, 4, 6]\n"
     ]
    }
   ],
   "source": [
    "# b = a resulted in refernence\n",
    "a = list(range(1,5))\n",
    "print(\"a => \", a)\n",
    "b = a\n",
    "print(\"b => \", b)\n",
    "a.append(6)\n",
    "print(\"a => \", a)\n",
    "print(\"b => \", b)\n",
    "c = a.copy()\n",
    "print(\"c => \", c)\n",
    "a.append(7)\n",
    "print(\"a => \", a)\n",
    "print(\"c => \", c)"
   ]
  },
  {
   "cell_type": "code",
   "execution_count": 31,
   "id": "6475f039",
   "metadata": {},
   "outputs": [
    {
     "name": "stdout",
     "output_type": "stream",
     "text": [
      "1\n",
      "2\n",
      "3\n",
      "4\n",
      "5\n"
     ]
    }
   ],
   "source": [
    "x = [1, 2, 3, 4, 5]\n",
    "while x:\n",
    "    print(x.pop(0))"
   ]
  },
  {
   "cell_type": "code",
   "execution_count": 32,
   "id": "2865626d",
   "metadata": {},
   "outputs": [
    {
     "name": "stdout",
     "output_type": "stream",
     "text": [
      "[1, 2, 3, 4, 5, 6, 7, 8, 9, 10]\n",
      "[2, 4, 6, 8, 10]\n",
      "['Less than or equal 5', 'Less than or equal 5', 'Less than or equal 5', 'Less than or equal 5', 'Less than or equal 5', 'More than 5', 'More than 5', 'More than 5', 'More than 5', 'More than 5']\n"
     ]
    }
   ],
   "source": [
    "# List comprehension\n",
    "myList = [i for i in range(1, 11)]\n",
    "print(myList)\n",
    "div2List = [i for i in myList if i % 2 == 0]\n",
    "print(div2List)\n",
    "compList = [\"Less than or equal 5\" if i<=5 else \"More than 5\" for i in myList]\n",
    "print(compList)"
   ]
  },
  {
   "cell_type": "code",
   "execution_count": 33,
   "id": "a587dc69",
   "metadata": {},
   "outputs": [
    {
     "name": "stdout",
     "output_type": "stream",
     "text": [
      "<class 'list'> [2, 3, 4, 5, 6, 7, 8, 9, 10]\n"
     ]
    }
   ],
   "source": [
    "clusters = [i for i in range(2, 11)]\n",
    "print(type(clusters), clusters)"
   ]
  },
  {
   "cell_type": "code",
   "execution_count": 34,
   "id": "2eb61077",
   "metadata": {},
   "outputs": [
    {
     "name": "stdout",
     "output_type": "stream",
     "text": [
      "<class 'range'> range(2, 11)\n"
     ]
    }
   ],
   "source": [
    "clusters = range(2, 11)\n",
    "print(type(clusters), clusters)"
   ]
  },
  {
   "cell_type": "markdown",
   "id": "74df144d",
   "metadata": {},
   "source": [
    "### Dictionary"
   ]
  },
  {
   "cell_type": "code",
   "execution_count": 77,
   "id": "468794b3",
   "metadata": {},
   "outputs": [
    {
     "name": "stdout",
     "output_type": "stream",
     "text": [
      "dict(one=1, two=2, three=3) =  {'one': 1, 'two': 2, 'three': 3} \n",
      "\n",
      "{'one':1, 'two':2, 'three':3} =  {'one': 1, 'two': 2, 'three': 3} \n",
      "\n",
      "dict(zip(['one', 'two', 'three'],[1, 2, 3])) =  {'one': 1, 'two': 2, 'three': 3} \n",
      "\n",
      "dict([('two', 2), ('one', 1), ('three', 3)]) =  {'two': 2, 'one': 1, 'three': 3} \n",
      "\n",
      "dict({'three':3, 'one':1, 'two':2}) =  {'three': 3, 'one': 1, 'two': 2} \n",
      "\n",
      "a == b True\n",
      "b == c True\n",
      "c == d True\n",
      "d == e True\n",
      "True\n",
      "{'one': 11, 'two': 2, 'three': 3}\n"
     ]
    }
   ],
   "source": [
    "# Dictionaries compare equal if and only if they have the same (key, value) pairs (regardless of ordering)\n",
    "a = dict(one=1, two=2, three=3)\n",
    "print(\"dict(one=1, two=2, three=3) = \", a, \"\\n\")\n",
    "\n",
    "b = {'one':1, 'two':2, 'three':3}\n",
    "print(\"{'one':1, 'two':2, 'three':3} = \", b, \"\\n\")\n",
    "\n",
    "c = dict(zip(['one', 'two', 'three'],[1, 2, 3]))\n",
    "print(\"dict(zip(['one', 'two', 'three'],[1, 2, 3])) = \", c, \"\\n\")\n",
    "\n",
    "d = dict([('two', 2), ('one', 1), ('three', 3)])\n",
    "print(\"dict([('two', 2), ('one', 1), ('three', 3)]) = \", d, \"\\n\")\n",
    "\n",
    "e = dict({'three':3, 'one':1, 'two':2})\n",
    "print(\"dict({'three':3, 'one':1, 'two':2}) = \", e, \"\\n\")\n",
    "\n",
    "print(\"a == b\", a==b)\n",
    "print(\"b == c\", b==c)\n",
    "print(\"c == d\", c==d)\n",
    "print(\"d == e\", d==e)\n",
    "print(a == b == c == d == e)\n",
    "a.update(one=11)\n",
    "print(a)\n"
   ]
  },
  {
   "cell_type": "code",
   "execution_count": 87,
   "id": "72870778",
   "metadata": {},
   "outputs": [
    {
     "name": "stdout",
     "output_type": "stream",
     "text": [
      "{'one': '1', 'two': '2', 'three': '3'}\n",
      "{'one': '1', 'two': '2', 'three': '3'}\n",
      "{'one': '1', 'two': '2', 'three': '3', 'four': '4', 'five': '5'}\n",
      "{'a': 1, 'b': 2, 'c': 3, 'd': 4}\n",
      "{'x': 10, 'y': 20, 'z': 30}\n"
     ]
    }
   ],
   "source": [
    "# Syntax of dict()\n",
    "# dict(**kwargs)\n",
    "# dict(iterable) => e.g: list of tuples where each tuple contains a key-value pair\n",
    "# dict(mapping)\n",
    "# dict(mapping, **kwargs)\n",
    "# dict(iterable, **kwargs)\n",
    "\n",
    "\n",
    "d1 = dict(one = \"1\", two = \"2\", three = \"3\")\n",
    "print(d1)\n",
    "\n",
    "d2 = dict([(\"one\", \"1\"), (\"two\", \"2\"), (\"three\", \"3\")])\n",
    "print(d2)\n",
    "\n",
    "d3 = dict([(\"one\", \"1\"), (\"two\", \"2\"), (\"three\", \"3\")], four = \"4\", five = \"5\")\n",
    "print(d3)\n",
    "\n",
    "# dict(mapping, **kwargs) - from another dict + extra\n",
    "original = {'a': 1, 'b': 2}\n",
    "d4 = dict(original, c=3, d=4)\n",
    "print(d4)  # {'a': 1, 'b': 2, 'c': 3, 'd': 4}\n",
    "\n",
    "# dict(iterable, **kwargs) - from list of pairs\n",
    "pairs = [('x', 10), ('y', 20)]\n",
    "d5 = dict(pairs, z=30)\n",
    "print(d5)  # {'x': 10, 'y': 20, 'z': 30}"
   ]
  },
  {
   "cell_type": "code",
   "execution_count": 35,
   "id": "d96dd096",
   "metadata": {},
   "outputs": [
    {
     "name": "stdout",
     "output_type": "stream",
     "text": [
      "{1: 'USA', 3: 'China'}\n",
      "{1: 'USA'}\n"
     ]
    }
   ],
   "source": [
    "dict1 = {1:\"USA\", 2:\"India\", 3:\"China\"}\n",
    "dict1.pop(2)\n",
    "print(dict1)\n",
    "dict1.popitem()\n",
    "print(dict1)"
   ]
  },
  {
   "cell_type": "markdown",
   "id": "598fb5d9",
   "metadata": {},
   "source": [
    "#### Unpacking dictionaries\n",
    "** is a syntax construct used in python to unpack dictionaries into keyword arguments when calling a function or to define a function that accepts an arbitrary number of keyword arguments"
   ]
  },
  {
   "cell_type": "code",
   "execution_count": 81,
   "id": "84def961",
   "metadata": {},
   "outputs": [
    {
     "name": "stdout",
     "output_type": "stream",
     "text": [
      "Receipt ID: 1, Customer Name: Alice, Price: 100.0, Tip: 10.0\n",
      "Receipt ID: 2, Customer Name: Bob, Price: 200.0, Tip: 20.0\n",
      "\n",
      "\n",
      "receipt_id: 1\n",
      "customer_name: Alice\n",
      "price: 100.0\n",
      "tip: 10.0\n",
      "--------------------\n",
      "receipt_id: 2\n",
      "customer_name: Bob\n",
      "price: 200.0\n",
      "tip: 20.0\n",
      "--------------------\n",
      "\n",
      "\n",
      "Positional arguments: (0,)\n",
      "Keyword arguments:\n",
      "receipt_id: 1\n",
      "customer_name: Alice\n",
      "price: 100.0\n",
      "tip: 10.0\n",
      "--------------------\n",
      "Positional arguments: (1,)\n",
      "Keyword arguments:\n",
      "receipt_id: 2\n",
      "customer_name: Bob\n",
      "price: 200.0\n",
      "tip: 20.0\n",
      "--------------------\n"
     ]
    }
   ],
   "source": [
    "rows = [\n",
    "    {\"receipt_id\": 1, \"customer_name\": \"Alice\", \"price\": 100.0, \"tip\": 10.0},\n",
    "    {\"receipt_id\": 2, \"customer_name\": \"Bob\", \"price\": 200.0, \"tip\": 20.0},\n",
    "]\n",
    "\n",
    "# unpacking a dictionary into function arguments\n",
    "def my_print1(receipt_id, customer_name, price, tip):\n",
    "    print(f\"Receipt ID: {receipt_id}, Customer Name: {customer_name}, Price: {price}, Tip: {tip}\")\n",
    "\n",
    "# defining a function with **kwargs\n",
    "def my_print2(**kwargs):\n",
    "    for key, value in kwargs.items():\n",
    "        print(f\"{key}: {value}\")\n",
    "    print(\"-\" * 20)\n",
    "\n",
    "# combining positional and keyword arguments\n",
    "def my_print3(*args, **kwargs):\n",
    "    print(\"Positional arguments:\", args)\n",
    "    print(\"Keyword arguments:\")\n",
    "    for key, value in kwargs.items():\n",
    "        print(f\"{key}: {value}\")\n",
    "    print(\"-\" * 20)\n",
    "\n",
    "for i, row in enumerate(rows):\n",
    "    my_print1(**row)\n",
    "\n",
    "print(\"\\n\")\n",
    "\n",
    "for i, row in enumerate(rows):\n",
    "    my_print2(**row)\n",
    "\n",
    "print(\"\\n\")\n",
    "\n",
    "for i, row in enumerate(rows):\n",
    "    my_print3(i, **row)"
   ]
  },
  {
   "cell_type": "code",
   "execution_count": 82,
   "id": "45425b13",
   "metadata": {},
   "outputs": [
    {
     "name": "stdout",
     "output_type": "stream",
     "text": [
      "{'a': 1, 'b': 3, 'c': 4}\n"
     ]
    }
   ],
   "source": [
    "# Using ** to merge dictionaries\n",
    "dict1 = {\"a\": 1, \"b\": 2}\n",
    "dict2 = {\"b\": 3, \"c\": 4}\n",
    "\n",
    "merged_dict = {**dict1, **dict2}\n",
    "print(merged_dict)  # Output: {'a': 1, 'b': 3, 'c': 4}"
   ]
  },
  {
   "cell_type": "code",
   "execution_count": 85,
   "id": "7632df36",
   "metadata": {},
   "outputs": [
    {
     "name": "stdout",
     "output_type": "stream",
     "text": [
      "{'banana': 1, 'apple': 3, 'orange': 0}\n",
      "dict_items([('banana', 1), ('apple', 3), ('orange', 0)])\n",
      "{'orange': 0, 'banana': 1, 'apple': 3}\n"
     ]
    }
   ],
   "source": [
    "# sorting a dictionary by its values\n",
    "unsorted_dict = {\"banana\": 1, \"apple\": 3, \"orange\": 0}\n",
    "print(unsorted_dict)  # Output: {'banana': 3, 'apple': 1, 'orange': 2}\n",
    "print(unsorted_dict.items()) # .items() outputs list of tuples\n",
    "sorted_dict = dict(sorted(unsorted_dict.items(), key=lambda item:item[1]))\n",
    "print(sorted_dict)  # Output: {'apple': 1, 'banana': 3, 'orange': 2}"
   ]
  },
  {
   "cell_type": "code",
   "execution_count": 93,
   "id": "7b56aa69",
   "metadata": {},
   "outputs": [
    {
     "name": "stdout",
     "output_type": "stream",
     "text": [
      "['a', 'b', 'c']\n",
      "[1, 2, 3]\n",
      "'c' exists\n",
      "Value 2 exists\n"
     ]
    }
   ],
   "source": [
    "d = {'a': 1, 'b': 2, 'c': 3}\n",
    "\n",
    "keys = d.keys()\n",
    "print(list(keys))\n",
    "\n",
    "values = d.values()\n",
    "print(list(values))  # [1, 2, 3]\n",
    "\n",
    "# Check if a key exists. Default, it checks keys.\n",
    "if 'c' in d:\n",
    "    print(\"'c' exists\")\n",
    "\n",
    "# Check if a value exists\n",
    "if 2 in d.values():\n",
    "    print(\"Value 2 exists\")"
   ]
  },
  {
   "cell_type": "code",
   "execution_count": 94,
   "id": "a85fb581",
   "metadata": {},
   "outputs": [
    {
     "name": "stdout",
     "output_type": "stream",
     "text": [
      "{'a': None, 'b': None, 'c': None}\n",
      "{'a': 0, 'b': 0, 'c': 0}\n",
      "{'a': [1], 'b': [1], 'c': [1]}\n"
     ]
    }
   ],
   "source": [
    "keys = ['a', 'b', 'c']\n",
    "d1 = dict.fromkeys(keys)\n",
    "print(d1)  # {'a': None, 'b': None, 'c': None}\n",
    "\n",
    "d2 = dict.fromkeys(keys, 0)\n",
    "print(d2)  # {'a': 0, 'b': 0, 'c': 0}\n",
    "\n",
    "# Be careful with mutable default values\n",
    "d3 = dict.fromkeys(keys, [])\n",
    "d3['a'].append(1)\n",
    "print(d3)  # {'a': [1], 'b': [1], 'c': [1]} - all share same list!"
   ]
  },
  {
   "cell_type": "code",
   "execution_count": 95,
   "id": "074b9b38",
   "metadata": {},
   "outputs": [
    {
     "name": "stdout",
     "output_type": "stream",
     "text": [
      "1\n",
      "None\n",
      "0\n",
      "Not found\n"
     ]
    }
   ],
   "source": [
    "d = {'a': 1, 'b': 2}\n",
    "print(d.get('a'))     # 1\n",
    "print(d.get('c'))     # None\n",
    "print(d.get('c', 0))  # 0\n",
    "\n",
    "# Safer than direct indexing\n",
    "# print(d['c'])  # KeyError!\n",
    "print(d.get('c', 'Not found'))  # 'Not found'"
   ]
  },
  {
   "cell_type": "code",
   "execution_count": 96,
   "id": "cd7bf50a",
   "metadata": {},
   "outputs": [
    {
     "name": "stdout",
     "output_type": "stream",
     "text": [
      "{'hello': 2, 'world': 1}\n"
     ]
    }
   ],
   "source": [
    "# Building a word count dictionary\n",
    "text = \"hello world hello\"\n",
    "word_count = {}\n",
    "for word in text.split():\n",
    "    word_count[word] = word_count.get(word, 0) + 1\n",
    "print(word_count)  # {'hello': 2, 'world': 1}"
   ]
  },
  {
   "cell_type": "code",
   "execution_count": 97,
   "id": "daeddd38",
   "metadata": {},
   "outputs": [
    {
     "name": "stdout",
     "output_type": "stream",
     "text": [
      "{'Alice': ['Math', 'English'], 'Bob': ['Science']}\n"
     ]
    }
   ],
   "source": [
    "# Using setdefault for grouping\n",
    "students = [('Alice', 'Math'), ('Bob', 'Science'), ('Alice', 'English')]\n",
    "subjects = {}\n",
    "for name, subject in students:\n",
    "    subjects.setdefault(name, []).append(subject)\n",
    "print(subjects)  # {'Alice': ['Math', 'English'], 'Bob': ['Science']}"
   ]
  },
  {
   "cell_type": "markdown",
   "id": "d845beca",
   "metadata": {},
   "source": [
    "### Set"
   ]
  },
  {
   "cell_type": "code",
   "execution_count": 38,
   "id": "5f4098d6",
   "metadata": {},
   "outputs": [
    {
     "name": "stdout",
     "output_type": "stream",
     "text": [
      "['c', 'a', 'b']\n",
      "('c', 'a', 'b')\n"
     ]
    }
   ],
   "source": [
    "# set() => {}, unique elements, unordered\n",
    "mylist = ['a', 'b', 'c','c','c']\n",
    "mylist=list(set(mylist)) # remove duplicates\n",
    "print(mylist)\n",
    "mytuple = tuple(mylist)\n",
    "print(mytuple)\n",
    "# mytuple.pop(2) #Error"
   ]
  },
  {
   "cell_type": "code",
   "execution_count": 41,
   "id": "0a6ca1ea",
   "metadata": {},
   "outputs": [
    {
     "data": {
      "text/plain": [
       "{'a', 'b', 'c', 'd'}"
      ]
     },
     "execution_count": 41,
     "metadata": {},
     "output_type": "execute_result"
    }
   ],
   "source": [
    "myset = {'a', 'b', 'c', 'd'}\n",
    "myset"
   ]
  },
  {
   "cell_type": "code",
   "execution_count": 43,
   "id": "7e0593f6",
   "metadata": {},
   "outputs": [
    {
     "name": "stdout",
     "output_type": "stream",
     "text": [
      "{'a', 'd', 'e', 'c', 'b'}\n"
     ]
    }
   ],
   "source": [
    "myset.add('e') # notice the unordered nature\n",
    "print(myset)"
   ]
  },
  {
   "cell_type": "code",
   "execution_count": 44,
   "id": "a74d9884",
   "metadata": {},
   "outputs": [
    {
     "name": "stdout",
     "output_type": "stream",
     "text": [
      "set()\n"
     ]
    }
   ],
   "source": [
    "myset.clear() \n",
    "print(myset)"
   ]
  },
  {
   "cell_type": "code",
   "execution_count": 59,
   "id": "ff8a013c",
   "metadata": {},
   "outputs": [
    {
     "data": {
      "text/plain": [
       "{1, 2, 3, 4, 5}"
      ]
     },
     "execution_count": 59,
     "metadata": {},
     "output_type": "execute_result"
    }
   ],
   "source": [
    "mynewset = set((1, 2, 3, 4, 5, 1, 2, 3, 4, 5))\n",
    "mynewset"
   ]
  },
  {
   "cell_type": "code",
   "execution_count": 60,
   "id": "1daa005c",
   "metadata": {},
   "outputs": [
    {
     "name": "stdout",
     "output_type": "stream",
     "text": [
      "{1, 2, 3, 4, 5}\n",
      "4374705568 4374704000\n",
      "{1, 2, 3, 4, 5} {1, 2, 3, 4, 5}\n"
     ]
    }
   ],
   "source": [
    "mycopiedset = mynewset.copy()\n",
    "print(mycopiedset)\n",
    "print(id(mynewset), id(mycopiedset))\n",
    "print(mynewset, mycopiedset)"
   ]
  },
  {
   "cell_type": "code",
   "execution_count": 61,
   "id": "26eef54e",
   "metadata": {},
   "outputs": [
    {
     "name": "stdout",
     "output_type": "stream",
     "text": [
      "{1, 2, 3, 4}\n",
      "{1, 2, 3, 4}\n"
     ]
    }
   ],
   "source": [
    "mycopiedset.remove(5)\n",
    "print(mycopiedset)\n",
    "\n",
    "mycopiedset.discard(5)\n",
    "print(mycopiedset)"
   ]
  },
  {
   "cell_type": "code",
   "execution_count": 62,
   "id": "245dc94c",
   "metadata": {},
   "outputs": [
    {
     "data": {
      "text/plain": [
       "{2, 3, 4}"
      ]
     },
     "execution_count": 62,
     "metadata": {},
     "output_type": "execute_result"
    }
   ],
   "source": [
    "mycopiedset.pop()\n",
    "mycopiedset"
   ]
  },
  {
   "cell_type": "code",
   "execution_count": 66,
   "id": "e7c7d4e4",
   "metadata": {},
   "outputs": [
    {
     "name": "stdout",
     "output_type": "stream",
     "text": [
      "{'e', 'a', 'd', 'c', 'f', 'b'}\n"
     ]
    }
   ],
   "source": [
    "myset = {'a', 'b', 'c'}\n",
    "otherset = {'d', 'e', 'f'}\n",
    "myset.update(otherset)\n",
    "print(myset)"
   ]
  },
  {
   "cell_type": "code",
   "execution_count": 68,
   "id": "eddf1bd8",
   "metadata": {},
   "outputs": [
    {
     "name": "stdout",
     "output_type": "stream",
     "text": [
      "{1, 2, 3, 4, 5}\n",
      "{1, 2, 3, 4, 5}\n"
     ]
    }
   ],
   "source": [
    "set1 = {1, 2, 3}\n",
    "set2 = {3, 4, 5}\n",
    "result = set1.union(set2)\n",
    "print(result)  # {1, 2, 3, 4, 5}\n",
    "# Or use operator\n",
    "result = set1 | set2\n",
    "print(result)  # {1, 2, 3, 4, 5}"
   ]
  },
  {
   "cell_type": "code",
   "execution_count": 69,
   "id": "2287c2bf",
   "metadata": {},
   "outputs": [
    {
     "name": "stdout",
     "output_type": "stream",
     "text": [
      "{3, 4}\n",
      "{3, 4}\n"
     ]
    }
   ],
   "source": [
    "set1 = {1, 2, 3, 4}\n",
    "set2 = {3, 4, 5, 6}\n",
    "result = set1.intersection(set2)\n",
    "print(result)  # {3, 4}\n",
    "# Or use operator\n",
    "result = set1 & set2\n",
    "print(result)  # {3, 4}"
   ]
  },
  {
   "cell_type": "code",
   "execution_count": 70,
   "id": "e273ef1b",
   "metadata": {},
   "outputs": [
    {
     "name": "stdout",
     "output_type": "stream",
     "text": [
      "{1, 2}\n",
      "{1, 2}\n"
     ]
    }
   ],
   "source": [
    "set1 = {1, 2, 3, 4}\n",
    "set2 = {3, 4, 5, 6}\n",
    "result = set1.difference(set2)\n",
    "print(result)  # {1, 2}\n",
    "# Or use operator\n",
    "result = set1 - set2\n",
    "print(result)  # {1, 2}"
   ]
  },
  {
   "cell_type": "code",
   "execution_count": 71,
   "id": "131480d1",
   "metadata": {},
   "outputs": [
    {
     "name": "stdout",
     "output_type": "stream",
     "text": [
      "{1, 2, 5, 6}\n",
      "{1, 2, 5, 6}\n"
     ]
    }
   ],
   "source": [
    "set1 = {1, 2, 3, 4}\n",
    "set2 = {3, 4, 5, 6}\n",
    "result = set1.symmetric_difference(set2)\n",
    "print(result)  # {1, 2, 5, 6}\n",
    "# Or use operator\n",
    "result = set1 ^ set2\n",
    "print(result)  # {1, 2, 5, 6}"
   ]
  },
  {
   "cell_type": "markdown",
   "id": "ca69701a",
   "metadata": {},
   "source": [
    "### Miscellaneous"
   ]
  },
  {
   "cell_type": "code",
   "execution_count": 17,
   "id": "c717cfd3",
   "metadata": {},
   "outputs": [
    {
     "name": "stdout",
     "output_type": "stream",
     "text": [
      "1\n",
      "6\n",
      "<class 'NoneType'> None\n",
      "<class 'float'> 5.8\n",
      "<class 'bytes'> b'abc'\n"
     ]
    }
   ],
   "source": [
    "from typing import Union, Optional\n",
    "\n",
    "def func1(x: Union[int, float, bytes, None] = None) -> int:\n",
    "    if x is None:\n",
    "        x = 0\n",
    "    return x + 1\n",
    "\n",
    "print(func1())\n",
    "print(func1(5))\n",
    "\n",
    "def func2(x: Optional[Union[int, float, bytes]] = None):\n",
    "    print(type(x), x)\n",
    "\n",
    "func2()\n",
    "func2(5.8)\n",
    "func2(b'abc')"
   ]
  },
  {
   "cell_type": "markdown",
   "id": "1edb72c1",
   "metadata": {},
   "source": [
    "#### \"\\_\\_call\\_\\_\" dunder method.\n",
    "\n",
    "A dunder method (short for \"double underscore method\") is a special method in Python whose name starts and ends with double underscores (e.g., `__call__`).  \n",
    "These methods enable built-in behavior or operator overloading.   \n",
    "For example, the `__call__` method allows an instance of a class to be called as if it were a function.\n",
    "\n",
    "The __call__ method makes an instance of a class behave like a function.   \n",
    "That means you can “call” the instance directly using parentheses: instance(arg)."
   ]
  },
  {
   "cell_type": "code",
   "execution_count": 18,
   "id": "499d6463",
   "metadata": {},
   "outputs": [
    {
     "name": "stdout",
     "output_type": "stream",
     "text": [
      "Hello, Human!\n",
      "Hello, Human!\n",
      "Object is callable\n"
     ]
    }
   ],
   "source": [
    "class Greet:\n",
    "    def __init__(self, name):\n",
    "        self.name = name\n",
    "\n",
    "    def __call__(self):\n",
    "        return f\"Hello, {self.name}!\"\n",
    "\n",
    "# Create an object\n",
    "greet = Greet(\"Human\")\n",
    "\n",
    "# Now you can \"call\" the object like a function\n",
    "print(greet())\n",
    "\n",
    "# Under the hood, this is what's happening:\n",
    "print(greet.__call__())\n",
    "\n",
    "# Check if the object is callable\n",
    "print(\"Object is callable\" if callable(greet) else \"Object is not callable\")"
   ]
  },
  {
   "cell_type": "code",
   "execution_count": 19,
   "id": "db2cde6a",
   "metadata": {},
   "outputs": [
    {
     "name": "stdout",
     "output_type": "stream",
     "text": [
      "In try block\n",
      "In finally block\n",
      "2\n"
     ]
    }
   ],
   "source": [
    "def sample():\n",
    "\n",
    "    try:\n",
    "        print(\"In try block\")\n",
    "        return 1\n",
    "    finally:\n",
    "        print(\"In finally block\")\n",
    "        return 2\n",
    "    \n",
    "print(sample())  "
   ]
  }
 ],
 "metadata": {
  "kernelspec": {
   "display_name": ".venv",
   "language": "python",
   "name": "python3"
  },
  "language_info": {
   "codemirror_mode": {
    "name": "ipython",
    "version": 3
   },
   "file_extension": ".py",
   "mimetype": "text/x-python",
   "name": "python",
   "nbconvert_exporter": "python",
   "pygments_lexer": "ipython3",
   "version": "3.12.7"
  }
 },
 "nbformat": 4,
 "nbformat_minor": 5
}
