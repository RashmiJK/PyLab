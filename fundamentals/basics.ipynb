{
 "cells": [
  {
   "cell_type": "markdown",
   "id": "a577aa67",
   "metadata": {},
   "source": [
    "# Python is an interpreted language\n",
    "\n",
    "An interpreter is a program that directly executes instructions written in a programming or scripting language without requiring them to be compiled into machine code. This means that Python code is executed line by line, making it easier to debug and test code interactively.\n",
    "\n",
    "In contrast, a compiler translates the entire source code of a program into machine code before execution. This machine code is then executed by the computer's processor. Compiled languages, such as C or C++, generally have faster execution times compared to interpreted languages because the translation step is done beforehand.\n",
    "\n",
    "However, interpreted languages like Python offer greater flexibility, ease of use, and faster development cycles, making them ideal for scripting, prototyping, and applications where execution speed is not the primary concern.\n",
    "\n",
    "Additionally, Python is dynamically typed, meaning variable types can change during runtime. This contrasts with statically typed languages like C and C++, where variable types must be defined in advance."
   ]
  },
  {
   "cell_type": "code",
   "execution_count": 1,
   "id": "7dc5dad2",
   "metadata": {},
   "outputs": [
    {
     "name": "stdout",
     "output_type": "stream",
     "text": [
      "5 10.1 Great Lakes\n"
     ]
    }
   ],
   "source": [
    "# Assign multiple objects to multiple variables\n",
    "a,b,c = 5,10.1,\"Great Lakes\"\n",
    "print(a,b,c)"
   ]
  },
  {
   "cell_type": "markdown",
   "id": "f9c28ee0",
   "metadata": {},
   "source": [
    "### Data types - Numbers, Strings, Boolean, Lists, Tuples, Dictionaries, Sets\n",
    "\n",
    "Strings => +, *, slicing, immutabe, \n"
   ]
  },
  {
   "cell_type": "code",
   "execution_count": null,
   "id": "8f30fadb",
   "metadata": {},
   "outputs": [],
   "source": [
    "float(\"abc\")"
   ]
  },
  {
   "cell_type": "code",
   "execution_count": 3,
   "id": "b063a875",
   "metadata": {},
   "outputs": [
    {
     "data": {
      "text/plain": [
       "11.0"
      ]
     },
     "execution_count": 3,
     "metadata": {},
     "output_type": "execute_result"
    }
   ],
   "source": [
    "float(\"11\")"
   ]
  },
  {
   "cell_type": "code",
   "execution_count": 12,
   "id": "535938d0",
   "metadata": {},
   "outputs": [
    {
     "name": "stdout",
     "output_type": "stream",
     "text": [
      "FEDCBA\n",
      "AB\n"
     ]
    }
   ],
   "source": [
    "# Reverse a string using slicing\n",
    "str1 = \"ABCDEF\"\n",
    "reversed_str1 = str1[::-1]\n",
    "print(reversed_str1)"
   ]
  },
  {
   "cell_type": "markdown",
   "id": "b6165be3",
   "metadata": {},
   "source": [
    "### Print() Syntax:\n",
    "\n",
    "     print(*objects, sep=' ', end='\\n', file=sys.stdout, flush=False)\n",
    "     print() Parameters:\n",
    "     **objects** - object to be printed. * indicates that there may be more than one object\n",
    "sep - objects are separated by sep. Default value: ' '<br>\n",
    "end - end is printed at last <br>\n",
    "file - must be an object with write(string) method. If omitted it, sys.stdout will be used which prints objects on the screen. <br>\n",
    "flush - If True, the stream is forcibly flushed. Default value: False<br><br>"
   ]
  },
  {
   "cell_type": "markdown",
   "id": "8abe7e2e",
   "metadata": {},
   "source": [
    "### Data structures in Python\n",
    "#### Built-in methods of **List**\n",
    "append()  => append to the end\n",
    "insert()  => add at index\n",
    "extend()  \n",
    "del  => Operator del approach to delete an element  \n",
    "remove()  => no need to mneion index, just specify a value\n",
    "pop()  => pops from end\n",
    "reverse()  \n",
    "\n",
    "Combine lists using concatenation(+)  \n",
    "Repetition using(*)"
   ]
  },
  {
   "cell_type": "code",
   "execution_count": 49,
   "id": "5acd2d08",
   "metadata": {},
   "outputs": [
    {
     "name": "stdout",
     "output_type": "stream",
     "text": [
      "mylist has 5 elements and minimum number in the list is 1 and maximum number is 5\n",
      "0 => 1\n",
      "1 => 2\n",
      "2 => 3\n",
      "3 => 4\n",
      "4 => 5\n",
      "[1, 2, 3, 4, 5]\n"
     ]
    }
   ],
   "source": [
    "mylist = [1,2,3,4,5]\n",
    "print(f\"mylist has {len(mylist)} elements and minimum number in the list is {min(mylist)} and maximum number is {max(mylist)}\")\n",
    "for i in range(len(mylist)):\n",
    "    print(i, \"=>\", mylist[i])\n",
    "print(mylist[0:5])"
   ]
  },
  {
   "cell_type": "code",
   "execution_count": 52,
   "id": "d7ef750e",
   "metadata": {},
   "outputs": [
    {
     "name": "stdout",
     "output_type": "stream",
     "text": [
      "['Great', -54, 11]\n",
      "['Great', -54, 11, 12]\n",
      "[11]\n"
     ]
    }
   ],
   "source": [
    "x = [10, \"Range\", \"Great\", -54, 11, 12]\n",
    "print(x[2:-1])\n",
    "print(x[2:])\n",
    "print(x[-2:-1])"
   ]
  },
  {
   "cell_type": "code",
   "execution_count": 38,
   "id": "14054418",
   "metadata": {},
   "outputs": [
    {
     "name": "stdout",
     "output_type": "stream",
     "text": [
      "a =>  [1, 2, 3, 4]\n",
      "b =>  [1, 2, 3, 4]\n",
      "a =>  [1, 2, 3, 4, 6]\n",
      "b =>  [1, 2, 3, 4, 6]\n",
      "c =>  [1, 2, 3, 4, 6]\n",
      "a =>  [1, 2, 3, 4, 6, 7]\n",
      "c =>  [1, 2, 3, 4, 6]\n"
     ]
    }
   ],
   "source": [
    "# b = a resulted in refernence\n",
    "a = list(range(1,5))\n",
    "print(\"a => \", a)\n",
    "b = a\n",
    "print(\"b => \", b)\n",
    "a.append(6)\n",
    "print(\"a => \", a)\n",
    "print(\"b => \", b)\n",
    "c = a.copy()\n",
    "print(\"c => \", c)\n",
    "a.append(7)\n",
    "print(\"a => \", a)\n",
    "print(\"c => \", c)\n"
   ]
  },
  {
   "cell_type": "code",
   "execution_count": 67,
   "id": "72870778",
   "metadata": {},
   "outputs": [
    {
     "name": "stdout",
     "output_type": "stream",
     "text": [
      "{'one': '1', 'two': '2', 'three': '3'}\n",
      "{'one': '1', 'two': '2', 'three': '3'}\n",
      "{'one': '1', 'two': '2', 'three': '3', 'four': '4', 'five': '5'}\n"
     ]
    }
   ],
   "source": [
    "# Syntax of dict()\n",
    "# dcit(**kwargs)\n",
    "# dict(iterable) => e.g: list of tuples where each tuple contains a key-value pair\n",
    "# dict(mapping)\n",
    "# dict(iterable, **kwargs)\n",
    "# dict(mapping, **kwargs)\n",
    "\n",
    "d1 = dict(one = \"1\", two = \"2\", three = \"3\")\n",
    "print(d1)\n",
    "\n",
    "d2 = dict([(\"one\", \"1\"), (\"two\", \"2\"), (\"three\", \"3\")])\n",
    "print(d2)\n",
    "\n",
    "d3 = dict([(\"one\", \"1\"), (\"two\", \"2\"), (\"three\", \"3\")], four = \"4\", five = \"5\")\n",
    "print(d3)"
   ]
  },
  {
   "cell_type": "code",
   "execution_count": 56,
   "id": "5f4098d6",
   "metadata": {},
   "outputs": [
    {
     "name": "stdout",
     "output_type": "stream",
     "text": [
      "['b', 'c', 'a']\n",
      "('b', 'c', 'a')\n"
     ]
    }
   ],
   "source": [
    "# set() => {}, unique elements, unordered\n",
    "mylist = ['a', 'b', 'c','c','c']\n",
    "mylist=list(set(mylist))\n",
    "print(mylist)\n",
    "mytuple = tuple(mylist)\n",
    "print(mytuple)\n",
    "# mytuple.pop(2) #Error"
   ]
  },
  {
   "cell_type": "code",
   "execution_count": 72,
   "id": "9d9fd64f",
   "metadata": {},
   "outputs": [
    {
     "name": "stdout",
     "output_type": "stream",
     "text": [
      "{1: 'USA', 3: 'China'}\n",
      "{1: 'USA'}\n"
     ]
    }
   ],
   "source": [
    "dict1 = {1:\"USA\", 2:\"India\", 3:\"China\"}\n",
    "dict1.pop(2)\n",
    "print(dict1)\n",
    "dict1.popitem()\n",
    "print(dict1)"
   ]
  },
  {
   "cell_type": "code",
   "execution_count": 74,
   "id": "2cc93bfd",
   "metadata": {},
   "outputs": [
    {
     "name": "stdout",
     "output_type": "stream",
     "text": [
      "1\n",
      "2\n",
      "3\n",
      "4\n",
      "5\n"
     ]
    }
   ],
   "source": [
    "x = [1, 2, 3, 4, 5]\n",
    "while x:\n",
    "    print(x.pop(0))"
   ]
  },
  {
   "cell_type": "code",
   "execution_count": 78,
   "id": "a7b2eb5b",
   "metadata": {},
   "outputs": [
    {
     "name": "stdout",
     "output_type": "stream",
     "text": [
      "[1, 2, 3, 4, 5, 6, 7, 8, 9, 10]\n",
      "[2, 4, 6, 8, 10]\n",
      "['Less than or equal 5', 'Less than or equal 5', 'Less than or equal 5', 'Less than or equal 5', 'Less than or equal 5', 'More than 5', 'More than 5', 'More than 5', 'More than 5', 'More than 5']\n"
     ]
    }
   ],
   "source": [
    "# List comprehension\n",
    "myList = [i for i in range(1, 11)]\n",
    "print(myList)\n",
    "div2List = [i for i in myList if i % 2 == 0]\n",
    "print(div2List)\n",
    "compList = [\"Less than or equal 5\" if i<=5 else \"More than 5\" for i in myList]\n",
    "print(compList)"
   ]
  },
  {
   "cell_type": "code",
   "execution_count": 1,
   "id": "0ee0561b",
   "metadata": {},
   "outputs": [
    {
     "name": "stdout",
     "output_type": "stream",
     "text": [
      "2\n"
     ]
    },
    {
     "data": {
      "text/plain": [
       "['__and__',\n",
       " '__class__',\n",
       " '__class_getitem__',\n",
       " '__contains__',\n",
       " '__delattr__',\n",
       " '__dir__',\n",
       " '__doc__',\n",
       " '__eq__',\n",
       " '__format__',\n",
       " '__ge__',\n",
       " '__getattribute__',\n",
       " '__getstate__',\n",
       " '__gt__',\n",
       " '__hash__',\n",
       " '__iand__',\n",
       " '__init__',\n",
       " '__init_subclass__',\n",
       " '__ior__',\n",
       " '__isub__',\n",
       " '__iter__',\n",
       " '__ixor__',\n",
       " '__le__',\n",
       " '__len__',\n",
       " '__lt__',\n",
       " '__ne__',\n",
       " '__new__',\n",
       " '__or__',\n",
       " '__rand__',\n",
       " '__reduce__',\n",
       " '__reduce_ex__',\n",
       " '__repr__',\n",
       " '__ror__',\n",
       " '__rsub__',\n",
       " '__rxor__',\n",
       " '__setattr__',\n",
       " '__sizeof__',\n",
       " '__str__',\n",
       " '__sub__',\n",
       " '__subclasshook__',\n",
       " '__xor__',\n",
       " 'add',\n",
       " 'clear',\n",
       " 'copy',\n",
       " 'difference',\n",
       " 'difference_update',\n",
       " 'discard',\n",
       " 'intersection',\n",
       " 'intersection_update',\n",
       " 'isdisjoint',\n",
       " 'issubset',\n",
       " 'issuperset',\n",
       " 'pop',\n",
       " 'remove',\n",
       " 'symmetric_difference',\n",
       " 'symmetric_difference_update',\n",
       " 'union',\n",
       " 'update']"
      ]
     },
     "execution_count": 1,
     "metadata": {},
     "output_type": "execute_result"
    }
   ],
   "source": [
    "keys = [1,2,3]\n",
    "print(keys.pop(1))\n",
    "dir(set)"
   ]
  }
 ],
 "metadata": {
  "kernelspec": {
   "display_name": ".venv",
   "language": "python",
   "name": "python3"
  },
  "language_info": {
   "codemirror_mode": {
    "name": "ipython",
    "version": 3
   },
   "file_extension": ".py",
   "mimetype": "text/x-python",
   "name": "python",
   "nbconvert_exporter": "python",
   "pygments_lexer": "ipython3",
   "version": "3.12.7"
  }
 },
 "nbformat": 4,
 "nbformat_minor": 5
}
