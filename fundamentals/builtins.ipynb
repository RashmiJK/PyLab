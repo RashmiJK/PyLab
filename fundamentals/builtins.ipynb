{
 "cells": [
  {
   "cell_type": "markdown",
   "id": "c8be4d54",
   "metadata": {},
   "source": [
    "## Quick reference  \n",
    "https://docs.python.org/3/library/functions.html  \n",
    "![](images/quick_ref.png)"
   ]
  },
  {
   "cell_type": "code",
   "execution_count": null,
   "id": "f769d20f",
   "metadata": {},
   "outputs": [
    {
     "name": "stdout",
     "output_type": "stream",
     "text": [
      "{'__module__': '__main__', '__init__': <function Person.__init__ at 0x107c36520>, '__dict__': <attribute '__dict__' of 'Person' objects>, '__weakref__': <attribute '__weakref__' of 'Person' objects>, '__doc__': None}\n",
      "[{'name': 'Alice', 'age': 30}, {'name': 'Bob', 'age': 25}, {'name': 'Charlie', 'age': 35}]\n"
     ]
    }
   ],
   "source": [
    "## Use vars() to get the __dict__ attribute of a module, class, instance, or any other object\n",
    "\n",
    "class Person:\n",
    "    def __init__(self, name: str, age: int):\n",
    "        self.name = name\n",
    "        self.age = age\n",
    "\n",
    "persons = [Person(\"Alice\", 30), Person(\"Bob\", 25), Person(\"Charlie\", 35)]\n",
    "\n",
    "# Using vars() to get the __dict__ attribute of a class\n",
    "print(vars(Person))  \n",
    "# Using vars() to get the __dict__ attribute of an instance\n",
    "vars_list = [vars(p) for p in persons]\n",
    "print(vars_list)\n",
    "\n"
   ]
  },
  {
   "cell_type": "code",
   "execution_count": null,
   "id": "d9ed1863",
   "metadata": {},
   "outputs": [
    {
     "name": "stdout",
     "output_type": "stream",
     "text": [
      "120\n"
     ]
    }
   ],
   "source": [
    "# *args: The asterisk (*) is used for packing and unpacking positional arguments in functions.\n",
    "# positional arguments to appear first and then follwoed by keyword arguments\n",
    "def fun(*int):\n",
    "    result = 1\n",
    "    for x in int:\n",
    "        result *= x\n",
    "    return result\n",
    "print(fun(1, 2, 3, 4, 5))  # Output: 24"
   ]
  },
  {
   "cell_type": "code",
   "execution_count": 7,
   "id": "c1305403",
   "metadata": {},
   "outputs": [
    {
     "name": "stdout",
     "output_type": "stream",
     "text": [
      "a: 1\n",
      "b: 2\n",
      "c: 3\n",
      "--------------------\n"
     ]
    }
   ],
   "source": [
    "# **kwargs: The double asterisk (**) is used for packing and unpacking keyword arguments in functions.\n",
    "def fun2(**kwargs):\n",
    "    for key, value in kwargs.items():\n",
    "        print(f\"{key}: {value}\")\n",
    "    print(\"-\" * 20)\n",
    "fun2(a=1, b=2, c=3)  # Output: a: 1, b: 2, c: 3"
   ]
  },
  {
   "cell_type": "markdown",
   "id": "3fc8d058",
   "metadata": {},
   "source": [
    "### sorted() built-in function\n",
    "\n",
    "sorted(iterable, key=key, reverse=reverse) <br>\n",
    "key = A Function to execute to decide the order. Default is None.\n",
    "\n",
    "specify ascending or descending order. Strings are sorted alphabetically, and numbers are sorted numerically.\n",
    "\n"
   ]
  },
  {
   "cell_type": "code",
   "execution_count": 1,
   "id": "eeaff974",
   "metadata": {},
   "outputs": [
    {
     "name": "stdout",
     "output_type": "stream",
     "text": [
      "['a', 'b', 'c', 'd', 'e', 'f', 'g', 'h']\n"
     ]
    }
   ],
   "source": [
    "a = (\"b\", \"g\", \"a\", \"d\", \"f\", \"c\", \"h\", \"e\")\n",
    "x = sorted(a)\n",
    "print(x)"
   ]
  },
  {
   "cell_type": "code",
   "execution_count": 2,
   "id": "eba23c82",
   "metadata": {},
   "outputs": [
    {
     "name": "stdout",
     "output_type": "stream",
     "text": [
      "['Jane', 'Sally', 'Jenifer']\n"
     ]
    }
   ],
   "source": [
    "a = (\"Jenifer\", \"Sally\", \"Jane\")\n",
    "x = sorted(a, key=len)\n",
    "print(x)"
   ]
  },
  {
   "cell_type": "code",
   "execution_count": 7,
   "id": "f225afb5",
   "metadata": {},
   "outputs": [
    {
     "name": "stdout",
     "output_type": "stream",
     "text": [
      "map(func, tuple) =  (5, 7, 9, 1, 8, 2, 7)\n",
      "[11, 12, 5, 3, 17, 2, 1]\n"
     ]
    }
   ],
   "source": [
    "def myfunc(n):\n",
    "  return abs(10-n)\n",
    "\n",
    "a = (5, 3, 1, 11, 2, 12, 17)\n",
    "b = tuple(map(myfunc, a))\n",
    "print(\"map(func, tuple) = \", b)\n",
    "x = sorted(a, key=myfunc)\n",
    "print(x)"
   ]
  }
 ],
 "metadata": {
  "kernelspec": {
   "display_name": ".venv",
   "language": "python",
   "name": "python3"
  },
  "language_info": {
   "codemirror_mode": {
    "name": "ipython",
    "version": 3
   },
   "file_extension": ".py",
   "mimetype": "text/x-python",
   "name": "python",
   "nbconvert_exporter": "python",
   "pygments_lexer": "ipython3",
   "version": "3.12.7"
  }
 },
 "nbformat": 4,
 "nbformat_minor": 5
}
