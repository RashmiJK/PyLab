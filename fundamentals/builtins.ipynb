{
 "cells": [
  {
   "cell_type": "markdown",
   "id": "c8be4d54",
   "metadata": {},
   "source": [
    "## Quick reference  \n",
    "https://docs.python.org/3/library/functions.html  \n",
    "![](images/quick_ref.png)"
   ]
  },
  {
   "cell_type": "code",
   "execution_count": null,
   "id": "f769d20f",
   "metadata": {},
   "outputs": [
    {
     "name": "stdout",
     "output_type": "stream",
     "text": [
      "{'__module__': '__main__', '__init__': <function Person.__init__ at 0x107c36520>, '__dict__': <attribute '__dict__' of 'Person' objects>, '__weakref__': <attribute '__weakref__' of 'Person' objects>, '__doc__': None}\n",
      "[{'name': 'Alice', 'age': 30}, {'name': 'Bob', 'age': 25}, {'name': 'Charlie', 'age': 35}]\n"
     ]
    }
   ],
   "source": [
    "## Use vars() to get the __dict__ attribute of a module, class, instance, or any other object\n",
    "\n",
    "class Person:\n",
    "    def __init__(self, name: str, age: int):\n",
    "        self.name = name\n",
    "        self.age = age\n",
    "\n",
    "persons = [Person(\"Alice\", 30), Person(\"Bob\", 25), Person(\"Charlie\", 35)]\n",
    "\n",
    "# Using vars() to get the __dict__ attribute of a class\n",
    "print(vars(Person))  \n",
    "# Using vars() to get the __dict__ attribute of an instance\n",
    "vars_list = [vars(p) for p in persons]\n",
    "print(vars_list)\n",
    "\n"
   ]
  },
  {
   "cell_type": "markdown",
   "id": "a374a8b2",
   "metadata": {},
   "source": [
    "## Unpacking dictionaries\n",
    "Use ** is a syntax construct used in python to unpack dictionaries into keyword arguments when calling a function or to define a function that accepts an arbitrary number of keyword arguments"
   ]
  },
  {
   "cell_type": "code",
   "execution_count": 13,
   "id": "22be95a5",
   "metadata": {},
   "outputs": [
    {
     "name": "stdout",
     "output_type": "stream",
     "text": [
      "Positional arguments: (0,)\n",
      "Keyword arguments:\n",
      "receipt_id: 1\n",
      "customer_name: Alice\n",
      "price: 100.0\n",
      "tip: 10.0\n",
      "--------------------\n",
      "Positional arguments: (1,)\n",
      "Keyword arguments:\n",
      "receipt_id: 2\n",
      "customer_name: Bob\n",
      "price: 200.0\n",
      "tip: 20.0\n",
      "--------------------\n"
     ]
    }
   ],
   "source": [
    "rows = [\n",
    "    {\"receipt_id\": 1, \"customer_name\": \"Alice\", \"price\": 100.0, \"tip\": 10.0},\n",
    "    {\"receipt_id\": 2, \"customer_name\": \"Bob\", \"price\": 200.0, \"tip\": 20.0},\n",
    "]\n",
    "\n",
    "# unpacking a dictionary into function arguments\n",
    "def my_print1(receipt_id, customer_name, price, tip):\n",
    "    print(f\"Receipt ID: {receipt_id}, Customer Name: {customer_name}, Price: {price}, Tip: {tip}\")\n",
    "\n",
    "# defining a function with **kwargs\n",
    "def my_print2(**kwargs):\n",
    "    for key, value in kwargs.items():\n",
    "        print(f\"{key}: {value}\")\n",
    "    print(\"-\" * 20)\n",
    "\n",
    "# combining positional and keyword arguments\n",
    "def my_print3(*args, **kwargs):\n",
    "    print(\"Positional arguments:\", args)\n",
    "    print(\"Keyword arguments:\")\n",
    "    for key, value in kwargs.items():\n",
    "        print(f\"{key}: {value}\")\n",
    "    print(\"-\" * 20)\n",
    "\n",
    "for i, row in enumerate(rows):\n",
    "    #my_print1(**row)\n",
    "    # my_print2(**row)\n",
    "    my_print3(i, **row)\n"
   ]
  },
  {
   "cell_type": "code",
   "execution_count": 14,
   "id": "6bc29430",
   "metadata": {},
   "outputs": [
    {
     "name": "stdout",
     "output_type": "stream",
     "text": [
      "{'a': 1, 'b': 3, 'c': 4}\n"
     ]
    }
   ],
   "source": [
    "# Using ** to merge dictionaries\n",
    "dict1 = {\"a\": 1, \"b\": 2}\n",
    "dict2 = {\"b\": 3, \"c\": 4}\n",
    "\n",
    "merged_dict = {**dict1, **dict2}\n",
    "print(merged_dict)  # Output: {'a': 1, 'b': 3, 'c': 4}"
   ]
  },
  {
   "cell_type": "code",
   "execution_count": null,
   "id": "4c746ad0",
   "metadata": {},
   "outputs": [
    {
     "name": "stdout",
     "output_type": "stream",
     "text": [
      "{'banana': 1, 'apple': 3, 'orange': 0}\n",
      "{'orange': 0, 'banana': 1, 'apple': 3}\n",
      "dict_items([('banana', 1), ('apple', 3), ('orange', 0)])\n"
     ]
    }
   ],
   "source": [
    "# sorting a dictionary by its values\n",
    "unsorted_dict = {\"banana\": 1, \"apple\": 3, \"orange\": 0}\n",
    "print(unsorted_dict)  # Output: {'banana': 3, 'apple': 1, 'orange': 2}\n",
    "sorted_dict = dict(sorted(unsorted_dict.items(), key=lambda item:item[1]))\n",
    "print(sorted_dict)  # Output: {'apple': 1, 'banana': 3, 'orange': 2}\n",
    "print(unsorted_dict.items())"
   ]
  },
  {
   "cell_type": "code",
   "execution_count": null,
   "id": "d9ed1863",
   "metadata": {},
   "outputs": [
    {
     "name": "stdout",
     "output_type": "stream",
     "text": [
      "120\n"
     ]
    }
   ],
   "source": [
    "# *args: The asterisk (*) is used for packing and unpacking positional arguments in functions.\n",
    "# positional arguments to appear first and then follwoed by keyword arguments\n",
    "def fun(*int):\n",
    "    result = 1\n",
    "    for x in int:\n",
    "        result *= x\n",
    "    return result\n",
    "print(fun(1, 2, 3, 4, 5))  # Output: 24"
   ]
  },
  {
   "cell_type": "code",
   "execution_count": 7,
   "id": "c1305403",
   "metadata": {},
   "outputs": [
    {
     "name": "stdout",
     "output_type": "stream",
     "text": [
      "a: 1\n",
      "b: 2\n",
      "c: 3\n",
      "--------------------\n"
     ]
    }
   ],
   "source": [
    "# **kwargs: The double asterisk (**) is used for packing and unpacking keyword arguments in functions.\n",
    "def fun2(**kwargs):\n",
    "    for key, value in kwargs.items():\n",
    "        print(f\"{key}: {value}\")\n",
    "    print(\"-\" * 20)\n",
    "fun2(a=1, b=2, c=3)  # Output: a: 1, b: 2, c: 3"
   ]
  }
 ],
 "metadata": {
  "kernelspec": {
   "display_name": ".venv",
   "language": "python",
   "name": "python3"
  },
  "language_info": {
   "codemirror_mode": {
    "name": "ipython",
    "version": 3
   },
   "file_extension": ".py",
   "mimetype": "text/x-python",
   "name": "python",
   "nbconvert_exporter": "python",
   "pygments_lexer": "ipython3",
   "version": "3.12.7"
  }
 },
 "nbformat": 4,
 "nbformat_minor": 5
}
