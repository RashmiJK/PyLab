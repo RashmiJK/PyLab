{
 "cells": [
  {
   "cell_type": "markdown",
   "id": "4e26ea0e",
   "metadata": {},
   "source": [
    "## Python Lambda Function\n",
    "\n",
    "A small, anonymous function defined in a single line.\n",
    "\n",
    "**Syntax:** `variable_name = lambda arguments: expression`\n",
    "\n",
    "- `lambda`: Keyword\n",
    "- `arguments`: Parameters passed to the function\n",
    "- `expression`: Single expression to evaluate and return"
   ]
  },
  {
   "cell_type": "code",
   "execution_count": 1,
   "id": "14ae23f7",
   "metadata": {},
   "outputs": [
    {
     "name": "stdout",
     "output_type": "stream",
     "text": [
      "25\n"
     ]
    }
   ],
   "source": [
    "square = lambda x : x**2\n",
    "result = square(5)\n",
    "print(result)"
   ]
  },
  {
   "cell_type": "code",
   "execution_count": 2,
   "id": "dcf71f70",
   "metadata": {},
   "outputs": [
    {
     "name": "stdout",
     "output_type": "stream",
     "text": [
      "8\n"
     ]
    }
   ],
   "source": [
    "add = lambda x,y : x+y\n",
    "result = add(5, 3)\n",
    "print(result)"
   ]
  },
  {
   "cell_type": "code",
   "execution_count": 7,
   "id": "02fe58d3",
   "metadata": {},
   "outputs": [
    {
     "name": "stdout",
     "output_type": "stream",
     "text": [
      "(1, 4, 9, 16, 25)\n",
      "[1, 4, 9, 16, 25]\n"
     ]
    }
   ],
   "source": [
    "my_list = (1, 2, 3, 4, 5)\n",
    "print(tuple(map(lambda x: x**2, my_list)))\n",
    "print(list(map(lambda x: x**2, my_list)))"
   ]
  },
  {
   "cell_type": "code",
   "execution_count": 8,
   "id": "b979c3e1",
   "metadata": {},
   "outputs": [
    {
     "name": "stdout",
     "output_type": "stream",
     "text": [
      "[2, 4, 6, 8, 10]\n"
     ]
    }
   ],
   "source": [
    "my_list = (1, 2, 3, 4, 5, 6, 7, 8, 9, 10,101)\n",
    "print(list(filter(lambda x: x % 2 == 0, my_list)))"
   ]
  },
  {
   "cell_type": "code",
   "execution_count": 10,
   "id": "9a1afe18",
   "metadata": {},
   "outputs": [
    {
     "name": "stdout",
     "output_type": "stream",
     "text": [
      "120\n"
     ]
    }
   ],
   "source": [
    "\n",
    "from functools import reduce\n",
    "my_list = (1, 2, 3, 4, 5)\n",
    "result = reduce(lambda x,y: x * y, my_list)\n",
    "print(result)"
   ]
  },
  {
   "cell_type": "code",
   "execution_count": 11,
   "id": "8ebdffec",
   "metadata": {},
   "outputs": [
    {
     "name": "stdout",
     "output_type": "stream",
     "text": [
      "[('Charlie', 95), ('Alice', 85), ('Bob', 75)]\n"
     ]
    }
   ],
   "source": [
    "students = [('Alice', 85), ('Bob', 75), ('Charlie', 95)]\n",
    "sorted_by_score = sorted(students, key=lambda x: x[1], reverse=True)\n",
    "print(sorted_by_score)"
   ]
  },
  {
   "cell_type": "code",
   "execution_count": 13,
   "id": "b6ab100e",
   "metadata": {},
   "outputs": [
    {
     "name": "stdout",
     "output_type": "stream",
     "text": [
      "Even\n",
      "Odd\n"
     ]
    }
   ],
   "source": [
    "# while you can't use if/else statements, you can use conditional expressions (ternary operator)\n",
    "check_even = lambda x: \"Even\" if x % 2 == 0 else \"Odd\"\n",
    "print(check_even(4))\n",
    "print(check_even(5))"
   ]
  },
  {
   "cell_type": "code",
   "execution_count": 1,
   "id": "1329df13",
   "metadata": {},
   "outputs": [
    {
     "data": {
      "text/plain": [
       "15.0"
      ]
     },
     "execution_count": 1,
     "metadata": {},
     "output_type": "execute_result"
    }
   ],
   "source": [
    "(lambda x : (x+2)*5/2)(4)"
   ]
  },
  {
   "cell_type": "code",
   "execution_count": 3,
   "id": "a3598395",
   "metadata": {},
   "outputs": [
    {
     "data": {
      "text/plain": [
       "30"
      ]
     },
     "execution_count": 3,
     "metadata": {},
     "output_type": "execute_result"
    }
   ],
   "source": [
    "# return in lambda is syntax error : mul = lambda x, y: return x * y\n",
    "mul = lambda x, y: x * y\n",
    "mul(5, 6)"
   ]
  },
  {
   "cell_type": "code",
   "execution_count": 7,
   "id": "4cf12a05",
   "metadata": {},
   "outputs": [
    {
     "name": "stdout",
     "output_type": "stream",
     "text": [
      "[5, 10, 15, 20, 25, 30, 35, 40, 45, 50]\n"
     ]
    }
   ],
   "source": [
    "# Write a program to print the multiplication table of the number from 1 to 10 using lambda function\n",
    "def multiplication_table(n):\n",
    "    return list(map(lambda x: n * x, range(1, 11)))\n",
    "x = 5\n",
    "print(multiplication_table(x))\n"
   ]
  }
 ],
 "metadata": {
  "kernelspec": {
   "display_name": ".venv",
   "language": "python",
   "name": "python3"
  },
  "language_info": {
   "codemirror_mode": {
    "name": "ipython",
    "version": 3
   },
   "file_extension": ".py",
   "mimetype": "text/x-python",
   "name": "python",
   "nbconvert_exporter": "python",
   "pygments_lexer": "ipython3",
   "version": "3.12.7"
  }
 },
 "nbformat": 4,
 "nbformat_minor": 5
}
